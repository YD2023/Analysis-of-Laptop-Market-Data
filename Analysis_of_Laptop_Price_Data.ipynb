{
  "cells": [
    {
      "cell_type": "markdown",
      "id": "f63861da",
      "metadata": {
        "id": "f63861da"
      },
      "source": [
        "<h1><center><font size=8>Laptop Price Data Analysis</center></font></h1>\n",
        "<h1><center>Data Visualization and EDA</center></h1>"
      ]
    },
    {
      "cell_type": "markdown",
      "id": "d8cdae01",
      "metadata": {
        "id": "d8cdae01"
      },
      "source": [
        "<img src=\"laptop.jpg\" style = \"width:700px;height:200px\"></center>\n",
        "<b><h2><center>Laptop Price Data Analysis Case Study</center></h2></b>\n",
        "<b><h2><center>Yash Dubbaka</center></h2></b>"
      ]
    },
    {
      "cell_type": "markdown",
      "id": "9264ce63",
      "metadata": {
        "id": "9264ce63"
      },
      "source": [
        "**Overview**\n",
        "\n",
        "Online Retailing is now a successful and proven business model. To improve their ROI, any online retailer needs to be able to read consumer behavior well. In fact, the retailers need to be capable of anticipating trends. \n",
        "Consumers are bound to have different requirements. To serve these different requirements, the retailer would like to make their website as informative, easy, and intutive as possible to ensure a rich consumer experience, leading to a sale. \n",
        "\n",
        "With this context in mind, I would like to analyze `Laptop price data` with the aim of suggesting what information a retailer website must carry which can improve the chances of a successful sale.\n",
        "\n",
        "**Acknowledgement**\n",
        "\n",
        "I have picked up the data from www.kaggle.com. I couldnt find any other credits or any metadata on the authenticity or the recency of the data. \n"
      ]
    },
    {
      "cell_type": "markdown",
      "id": "d275225d",
      "metadata": {
        "id": "d275225d"
      },
      "source": [
        "**Objective**\n",
        "\n",
        "Purchasing a laptop is easy for users who have clarity on what they want to use the laptop. These users can figure out what is available in the market place for their particular uses, perform a cost benefit analysis, and buy a product that fits their needs. \n",
        "\n",
        "Retailer's websites need to assist in these cost-benefit analyses by providing the information easily. Quick access to the required information will cut decision making time and increase sales for the retailer. \n",
        "\n",
        "Its in the interest of retailers to answer the following questions, which will give me a peek into the consumer's mind and help optimise stores' websites accordingly:\n",
        "\n",
        "- Q1. How many different brands are there and what kind inventory for each brand is the retailer carrying?\n",
        "- Q2. How do the prices vary across different brands?\n",
        "- Q3. How do the prices vary across different types of laptops?\n",
        "- Q4. Is RAM a key factor in gaming performance? Does the RAM availablity vary across the brands for Gaming laptops?\n",
        "- Q5. Are GPUs also a key component for Gaming users? Is Nvidia one of the leading brands in GPU space? How does the price vary by the company for Gaming Laptops with Nvidia GPUs? \n",
        "- Q6. Do working executives prefer fast, lightweight laptops and ultrabooks? How does the weight of laptops and the type of ultrabook differ by brands?\n",
        "- Q7. Do working executives prefer small laptops running on Windows OS? How many laptops running on Windows OS have a screen size less than 14 inches are available across different brands? \n",
        "- Q8. Are Linus & Chrome OS common? How many laptops across different brands run on a linux or Chrome operating system? \n",
        "- Q9. What percentage of laptops across different brands have high-resolution screens?\n",
        "- Q10. Are high resolution screens good for entertainment purposes? How many laptops that have screen resolutions better than 1600*900 are available across different brands?\n",
        "- Q11. Are Intel and AMD the primary manufacturers of processors? How does the speed of processing vary between these two manufacturers for laptops and different types of notebook? \n",
        "- Q12. How important are storage options in impacting sales?\n"
      ]
    },
    {
      "cell_type": "markdown",
      "id": "c40d3132",
      "metadata": {
        "id": "c40d3132"
      },
      "source": [
        "**Data Description**\n",
        "\n",
        "The data contains information about the model, manufacturer, price, and configuration of various laptops in the inventory of this electronic retailer. We dont know who is the owner of this data, as it's not available at the source. \n",
        "\n",
        "**Data Dictionary:** \n",
        "\n",
        "- Company: Laptop Manufacturer\n",
        "- Product: Brand and Model\n",
        "- TypeName: Type (Notebook, Ultrabook, Gaming, etc.)\n",
        "- Inches: Screen Size\n",
        "- ScreenResolution: Screen Resolution\n",
        "- Cpu: Central Processing Unit\n",
        "- Ram: Laptop RAM\n",
        "- Memory: Hard Disk / SSD Memory\n",
        "- GPU: Graphics Processing Unit\n",
        "- OpSys: Operating System\n",
        "- Weight: Laptop Weight\n",
        "- Price_euros: Price in euros (Didn't convert to dollars in this project)\n"
      ]
    },
    {
      "cell_type": "markdown",
      "id": "62f759f1",
      "metadata": {
        "id": "62f759f1"
      },
      "source": [
        "**Importing the required libraries**\n",
        "\n",
        "Importing the required libraries upfront-so that the working is smoother. "
      ]
    },
    {
      "cell_type": "code",
      "execution_count": null,
      "id": "e0e45e31",
      "metadata": {
        "id": "e0e45e31",
        "outputId": "7d6739c2-9071-448b-c334-76d786603168"
      },
      "outputs": [
        {
          "data": {
            "application/javascript": [
              "\n",
              "            setTimeout(function() {\n",
              "                var nbb_cell_id = 2;\n",
              "                var nbb_unformatted_code = \"# this will help in making the Python code more structured automatically (good coding practice)\\n%load_ext nb_black\\n\\n# Libraries to help with reading and manipulating data\\nimport numpy as np\\nimport pandas as pd\\n\\n# Libraries to help with data visualization\\nimport matplotlib.pyplot as plt\\nimport seaborn as sns\\n\\nsns.set()\\n\\n# Removes the limit for the number of displayed columns\\npd.set_option(\\\"display.max_columns\\\", None)\\n# Sets the limit for the number of displayed rows\\npd.set_option(\\\"display.max_rows\\\", 200)\";\n",
              "                var nbb_formatted_code = \"# this will help in making the Python code more structured automatically (good coding practice)\\n%load_ext nb_black\\n\\n# Libraries to help with reading and manipulating data\\nimport numpy as np\\nimport pandas as pd\\n\\n# Libraries to help with data visualization\\nimport matplotlib.pyplot as plt\\nimport seaborn as sns\\n\\nsns.set()\\n\\n# Removes the limit for the number of displayed columns\\npd.set_option(\\\"display.max_columns\\\", None)\\n# Sets the limit for the number of displayed rows\\npd.set_option(\\\"display.max_rows\\\", 200)\";\n",
              "                var nbb_cells = Jupyter.notebook.get_cells();\n",
              "                for (var i = 0; i < nbb_cells.length; ++i) {\n",
              "                    if (nbb_cells[i].input_prompt_number == nbb_cell_id) {\n",
              "                        if (nbb_cells[i].get_text() == nbb_unformatted_code) {\n",
              "                             nbb_cells[i].set_text(nbb_formatted_code);\n",
              "                        }\n",
              "                        break;\n",
              "                    }\n",
              "                }\n",
              "            }, 500);\n",
              "            "
            ],
            "text/plain": [
              "<IPython.core.display.Javascript object>"
            ]
          },
          "metadata": {},
          "output_type": "display_data"
        }
      ],
      "source": [
        "# this will help in structuring Python automatically (good coding practice)\n",
        "%load_ext nb_black\n",
        "\n",
        "# Libraries to help with reading and manipulating data\n",
        "import numpy as np\n",
        "import pandas as pd\n",
        "\n",
        "# Libraries to help with data visualization\n",
        "import matplotlib.pyplot as plt\n",
        "import seaborn as sns\n",
        "\n",
        "sns.set()\n",
        "\n",
        "# Removes the limit for the number of displayed columns\n",
        "pd.set_option(\"display.max_columns\", None)\n",
        "# Sets the limit for the number of displayed rows\n",
        "pd.set_option(\"display.max_rows\", 200)"
      ]
    },
    {
      "cell_type": "markdown",
      "id": "91e777e6",
      "metadata": {
        "id": "91e777e6"
      },
      "source": [
        "**Loading the dataset**\n",
        "\n",
        "Reading the dataset from my local computer. I have downloaded the it from www.kaggle.com. "
      ]
    },
    {
      "cell_type": "code",
      "execution_count": null,
      "id": "96d7ec03",
      "metadata": {
        "id": "96d7ec03",
        "outputId": "1bcc4e69-0a25-4b7a-e046-13ec95d7c217"
      },
      "outputs": [
        {
          "data": {
            "application/javascript": [
              "\n",
              "            setTimeout(function() {\n",
              "                var nbb_cell_id = 3;\n",
              "                var nbb_unformatted_code = \"df = pd.read_csv(\\\"laptop_price.csv\\\", engine=\\\"python\\\")\";\n",
              "                var nbb_formatted_code = \"df = pd.read_csv(\\\"laptop_price.csv\\\", engine=\\\"python\\\")\";\n",
              "                var nbb_cells = Jupyter.notebook.get_cells();\n",
              "                for (var i = 0; i < nbb_cells.length; ++i) {\n",
              "                    if (nbb_cells[i].input_prompt_number == nbb_cell_id) {\n",
              "                        if (nbb_cells[i].get_text() == nbb_unformatted_code) {\n",
              "                             nbb_cells[i].set_text(nbb_formatted_code);\n",
              "                        }\n",
              "                        break;\n",
              "                    }\n",
              "                }\n",
              "            }, 500);\n",
              "            "
            ],
            "text/plain": [
              "<IPython.core.display.Javascript object>"
            ]
          },
          "metadata": {},
          "output_type": "display_data"
        }
      ],
      "source": [
        "df = pd.read_csv(\"laptop_price.csv\", engine=\"python\")"
      ]
    },
    {
      "cell_type": "markdown",
      "id": "47843cdf",
      "metadata": {
        "id": "47843cdf"
      },
      "source": [
        "**Getting acquainted with data set**\n",
        "\n",
        "**Approach**\n",
        "-  I want to see the first few rows of the dataset to confirm that the dataset is loaded properly.\n",
        "-  I want to find out the data types of each column (attribute), what format it is stored in, and cpnfirm the value of each column.\n",
        "-  I would also want to see some statistical summaries of the dataset to get a better understanding of the numerical columns. "
      ]
    },
    {
      "cell_type": "code",
      "execution_count": null,
      "id": "7621359e",
      "metadata": {
        "id": "7621359e",
        "outputId": "ed3af4ca-bca2-4a94-9c48-e6e189db2fa1"
      },
      "outputs": [
        {
          "name": "stdout",
          "output_type": "stream",
          "text": [
            "There are 1303 rows and 13 columns.\n"
          ]
        },
        {
          "data": {
            "application/javascript": [
              "\n",
              "            setTimeout(function() {\n",
              "                var nbb_cell_id = 4;\n",
              "                var nbb_unformatted_code = \"# checking the shape of the data\\nprint(f\\\"There are {df.shape[0]} rows and {df.shape[1]} columns.\\\")  # f-string\";\n",
              "                var nbb_formatted_code = \"# checking the shape of the data\\nprint(f\\\"There are {df.shape[0]} rows and {df.shape[1]} columns.\\\")  # f-string\";\n",
              "                var nbb_cells = Jupyter.notebook.get_cells();\n",
              "                for (var i = 0; i < nbb_cells.length; ++i) {\n",
              "                    if (nbb_cells[i].input_prompt_number == nbb_cell_id) {\n",
              "                        if (nbb_cells[i].get_text() == nbb_unformatted_code) {\n",
              "                             nbb_cells[i].set_text(nbb_formatted_code);\n",
              "                        }\n",
              "                        break;\n",
              "                    }\n",
              "                }\n",
              "            }, 500);\n",
              "            "
            ],
            "text/plain": [
              "<IPython.core.display.Javascript object>"
            ]
          },
          "metadata": {},
          "output_type": "display_data"
        }
      ],
      "source": [
        "# checking the shape of the data\n",
        "print(f\"There are {df.shape[0]} rows and {df.shape[1]} columns.\")  # f-string"
      ]
    },
    {
      "cell_type": "code",
      "execution_count": null,
      "id": "83534807",
      "metadata": {
        "id": "83534807",
        "outputId": "ba09e0b0-241d-4a5a-bb29-c2c2cc6c2fe6"
      },
      "outputs": [
        {
          "data": {
            "text/html": [
              "<div>\n",
              "<style scoped>\n",
              "    .dataframe tbody tr th:only-of-type {\n",
              "        vertical-align: middle;\n",
              "    }\n",
              "\n",
              "    .dataframe tbody tr th {\n",
              "        vertical-align: top;\n",
              "    }\n",
              "\n",
              "    .dataframe thead th {\n",
              "        text-align: right;\n",
              "    }\n",
              "</style>\n",
              "<table border=\"1\" class=\"dataframe\">\n",
              "  <thead>\n",
              "    <tr style=\"text-align: right;\">\n",
              "      <th></th>\n",
              "      <th>laptop_ID</th>\n",
              "      <th>Company</th>\n",
              "      <th>Product</th>\n",
              "      <th>TypeName</th>\n",
              "      <th>Inches</th>\n",
              "      <th>ScreenResolution</th>\n",
              "      <th>Cpu</th>\n",
              "      <th>Ram</th>\n",
              "      <th>Memory</th>\n",
              "      <th>Gpu</th>\n",
              "      <th>OpSys</th>\n",
              "      <th>Weight</th>\n",
              "      <th>Price_euros</th>\n",
              "    </tr>\n",
              "  </thead>\n",
              "  <tbody>\n",
              "    <tr>\n",
              "      <th>644</th>\n",
              "      <td>652</td>\n",
              "      <td>Acer</td>\n",
              "      <td>Extensa EX2540</td>\n",
              "      <td>Notebook</td>\n",
              "      <td>15.60</td>\n",
              "      <td>1366x768</td>\n",
              "      <td>Intel Core i3 6006U 2GHz</td>\n",
              "      <td>4GB</td>\n",
              "      <td>500GB HDD</td>\n",
              "      <td>Intel HD Graphics 520</td>\n",
              "      <td>Windows 10</td>\n",
              "      <td>2.4kg</td>\n",
              "      <td>450.00</td>\n",
              "    </tr>\n",
              "    <tr>\n",
              "      <th>1275</th>\n",
              "      <td>1293</td>\n",
              "      <td>Asus</td>\n",
              "      <td>ZenBook UX305CA-UBM1</td>\n",
              "      <td>Ultrabook</td>\n",
              "      <td>13.30</td>\n",
              "      <td>IPS Panel Full HD 1920x1080</td>\n",
              "      <td>Intel Core M 6Y30 0.9GHz</td>\n",
              "      <td>8GB</td>\n",
              "      <td>512GB SSD</td>\n",
              "      <td>Intel HD Graphics 515</td>\n",
              "      <td>Windows 10</td>\n",
              "      <td>1.2kg</td>\n",
              "      <td>729.00</td>\n",
              "    </tr>\n",
              "    <tr>\n",
              "      <th>163</th>\n",
              "      <td>167</td>\n",
              "      <td>Lenovo</td>\n",
              "      <td>Legion Y520-15IKBN</td>\n",
              "      <td>Gaming</td>\n",
              "      <td>15.60</td>\n",
              "      <td>IPS Panel Full HD 1920x1080</td>\n",
              "      <td>Intel Core i7 7700HQ 2.8GHz</td>\n",
              "      <td>16GB</td>\n",
              "      <td>256GB SSD</td>\n",
              "      <td>Nvidia GeForce GTX 1050 Ti</td>\n",
              "      <td>Windows 10</td>\n",
              "      <td>2.5kg</td>\n",
              "      <td>1079.00</td>\n",
              "    </tr>\n",
              "    <tr>\n",
              "      <th>1008</th>\n",
              "      <td>1022</td>\n",
              "      <td>HP</td>\n",
              "      <td>ProBook 440</td>\n",
              "      <td>Notebook</td>\n",
              "      <td>14.00</td>\n",
              "      <td>Full HD 1920x1080</td>\n",
              "      <td>Intel Core i5 7200U 2.5GHz</td>\n",
              "      <td>8GB</td>\n",
              "      <td>256GB SSD</td>\n",
              "      <td>Nvidia GeForce 930MX</td>\n",
              "      <td>Windows 10</td>\n",
              "      <td>1.64kg</td>\n",
              "      <td>1049.26</td>\n",
              "    </tr>\n",
              "    <tr>\n",
              "      <th>909</th>\n",
              "      <td>922</td>\n",
              "      <td>LG</td>\n",
              "      <td>Gram 14Z970</td>\n",
              "      <td>Ultrabook</td>\n",
              "      <td>14.00</td>\n",
              "      <td>IPS Panel Full HD / Touchscreen 1920x1080</td>\n",
              "      <td>Intel Core i7 7500U 2.7GHz</td>\n",
              "      <td>8GB</td>\n",
              "      <td>512GB SSD</td>\n",
              "      <td>Intel HD Graphics 620</td>\n",
              "      <td>Windows 10</td>\n",
              "      <td>0.98kg</td>\n",
              "      <td>1899.00</td>\n",
              "    </tr>\n",
              "    <tr>\n",
              "      <th>268</th>\n",
              "      <td>273</td>\n",
              "      <td>HP</td>\n",
              "      <td>Probook 470</td>\n",
              "      <td>Notebook</td>\n",
              "      <td>17.30</td>\n",
              "      <td>Full HD 1920x1080</td>\n",
              "      <td>Intel Core i7 8550U 1.8GHz</td>\n",
              "      <td>8GB</td>\n",
              "      <td>1TB HDD</td>\n",
              "      <td>Nvidia GeForce 930MX</td>\n",
              "      <td>Windows 10</td>\n",
              "      <td>2.5kg</td>\n",
              "      <td>1018.00</td>\n",
              "    </tr>\n",
              "    <tr>\n",
              "      <th>1133</th>\n",
              "      <td>1148</td>\n",
              "      <td>HP</td>\n",
              "      <td>250 G6</td>\n",
              "      <td>Ultrabook</td>\n",
              "      <td>15.60</td>\n",
              "      <td>Full HD 1920x1080</td>\n",
              "      <td>Intel Core i7 7500U 2.7GHz</td>\n",
              "      <td>8GB</td>\n",
              "      <td>256GB SSD</td>\n",
              "      <td>Intel HD Graphics 620</td>\n",
              "      <td>Windows 10</td>\n",
              "      <td>1.84kg</td>\n",
              "      <td>752.00</td>\n",
              "    </tr>\n",
              "    <tr>\n",
              "      <th>983</th>\n",
              "      <td>997</td>\n",
              "      <td>Fujitsu</td>\n",
              "      <td>LifeBook A556</td>\n",
              "      <td>Notebook</td>\n",
              "      <td>15.60</td>\n",
              "      <td>1366x768</td>\n",
              "      <td>Intel Core i5 6200U 2.3GHz</td>\n",
              "      <td>4GB</td>\n",
              "      <td>256GB SSD</td>\n",
              "      <td>Intel HD Graphics 520</td>\n",
              "      <td>Windows 10</td>\n",
              "      <td>2.3kg</td>\n",
              "      <td>649.00</td>\n",
              "    </tr>\n",
              "    <tr>\n",
              "      <th>1277</th>\n",
              "      <td>1295</td>\n",
              "      <td>Acer</td>\n",
              "      <td>Aspire ES1-531</td>\n",
              "      <td>Notebook</td>\n",
              "      <td>15.60</td>\n",
              "      <td>1366x768</td>\n",
              "      <td>Intel Celeron Dual Core N3060 1.6GHz</td>\n",
              "      <td>4GB</td>\n",
              "      <td>500GB HDD</td>\n",
              "      <td>Intel HD Graphics 400</td>\n",
              "      <td>Linux</td>\n",
              "      <td>2.4kg</td>\n",
              "      <td>289.00</td>\n",
              "    </tr>\n",
              "    <tr>\n",
              "      <th>904</th>\n",
              "      <td>916</td>\n",
              "      <td>Lenovo</td>\n",
              "      <td>ThinkPad T570</td>\n",
              "      <td>Notebook</td>\n",
              "      <td>15.60</td>\n",
              "      <td>IPS Panel Full HD 1920x1080</td>\n",
              "      <td>Intel Core i5 7200U 2.5GHz</td>\n",
              "      <td>8GB</td>\n",
              "      <td>512GB SSD</td>\n",
              "      <td>Intel HD Graphics 620</td>\n",
              "      <td>Windows 10</td>\n",
              "      <td>1.95kg</td>\n",
              "      <td>1962.99</td>\n",
              "    </tr>\n",
              "  </tbody>\n",
              "</table>\n",
              "</div>"
            ],
            "text/plain": [
              "      laptop_ID  Company               Product   TypeName  Inches  \\\n",
              "644         652     Acer        Extensa EX2540   Notebook   15.60   \n",
              "1275       1293     Asus  ZenBook UX305CA-UBM1  Ultrabook   13.30   \n",
              "163         167   Lenovo    Legion Y520-15IKBN     Gaming   15.60   \n",
              "1008       1022       HP           ProBook 440   Notebook   14.00   \n",
              "909         922       LG           Gram 14Z970  Ultrabook   14.00   \n",
              "268         273       HP           Probook 470   Notebook   17.30   \n",
              "1133       1148       HP                250 G6  Ultrabook   15.60   \n",
              "983         997  Fujitsu         LifeBook A556   Notebook   15.60   \n",
              "1277       1295     Acer        Aspire ES1-531   Notebook   15.60   \n",
              "904         916   Lenovo         ThinkPad T570   Notebook   15.60   \n",
              "\n",
              "                               ScreenResolution  \\\n",
              "644                                    1366x768   \n",
              "1275                IPS Panel Full HD 1920x1080   \n",
              "163                 IPS Panel Full HD 1920x1080   \n",
              "1008                          Full HD 1920x1080   \n",
              "909   IPS Panel Full HD / Touchscreen 1920x1080   \n",
              "268                           Full HD 1920x1080   \n",
              "1133                          Full HD 1920x1080   \n",
              "983                                    1366x768   \n",
              "1277                                   1366x768   \n",
              "904                 IPS Panel Full HD 1920x1080   \n",
              "\n",
              "                                       Cpu   Ram     Memory  \\\n",
              "644               Intel Core i3 6006U 2GHz   4GB  500GB HDD   \n",
              "1275              Intel Core M 6Y30 0.9GHz   8GB  512GB SSD   \n",
              "163            Intel Core i7 7700HQ 2.8GHz  16GB  256GB SSD   \n",
              "1008            Intel Core i5 7200U 2.5GHz   8GB  256GB SSD   \n",
              "909             Intel Core i7 7500U 2.7GHz   8GB  512GB SSD   \n",
              "268             Intel Core i7 8550U 1.8GHz   8GB    1TB HDD   \n",
              "1133            Intel Core i7 7500U 2.7GHz   8GB  256GB SSD   \n",
              "983             Intel Core i5 6200U 2.3GHz   4GB  256GB SSD   \n",
              "1277  Intel Celeron Dual Core N3060 1.6GHz   4GB  500GB HDD   \n",
              "904             Intel Core i5 7200U 2.5GHz   8GB  512GB SSD   \n",
              "\n",
              "                             Gpu       OpSys  Weight  Price_euros  \n",
              "644        Intel HD Graphics 520  Windows 10   2.4kg       450.00  \n",
              "1275       Intel HD Graphics 515  Windows 10   1.2kg       729.00  \n",
              "163   Nvidia GeForce GTX 1050 Ti  Windows 10   2.5kg      1079.00  \n",
              "1008        Nvidia GeForce 930MX  Windows 10  1.64kg      1049.26  \n",
              "909        Intel HD Graphics 620  Windows 10  0.98kg      1899.00  \n",
              "268        Nvidia GeForce 930MX   Windows 10   2.5kg      1018.00  \n",
              "1133       Intel HD Graphics 620  Windows 10  1.84kg       752.00  \n",
              "983        Intel HD Graphics 520  Windows 10   2.3kg       649.00  \n",
              "1277       Intel HD Graphics 400       Linux   2.4kg       289.00  \n",
              "904        Intel HD Graphics 620  Windows 10  1.95kg      1962.99  "
            ]
          },
          "execution_count": 5,
          "metadata": {},
          "output_type": "execute_result"
        },
        {
          "data": {
            "application/javascript": [
              "\n",
              "            setTimeout(function() {\n",
              "                var nbb_cell_id = 5;\n",
              "                var nbb_unformatted_code = \"# let's view a sample of the data\\ndf.sample(n=10, random_state=1)\";\n",
              "                var nbb_formatted_code = \"# let's view a sample of the data\\ndf.sample(n=10, random_state=1)\";\n",
              "                var nbb_cells = Jupyter.notebook.get_cells();\n",
              "                for (var i = 0; i < nbb_cells.length; ++i) {\n",
              "                    if (nbb_cells[i].input_prompt_number == nbb_cell_id) {\n",
              "                        if (nbb_cells[i].get_text() == nbb_unformatted_code) {\n",
              "                             nbb_cells[i].set_text(nbb_formatted_code);\n",
              "                        }\n",
              "                        break;\n",
              "                    }\n",
              "                }\n",
              "            }, 500);\n",
              "            "
            ],
            "text/plain": [
              "<IPython.core.display.Javascript object>"
            ]
          },
          "metadata": {},
          "output_type": "display_data"
        }
      ],
      "source": [
        "# let's view a sample of the data\n",
        "df.sample(n=10, random_state=1)"
      ]
    },
    {
      "cell_type": "code",
      "execution_count": null,
      "id": "d4dfc507",
      "metadata": {
        "id": "d4dfc507",
        "outputId": "7f733a89-e6f9-446a-8665-2d420b74b3f3"
      },
      "outputs": [
        {
          "name": "stdout",
          "output_type": "stream",
          "text": [
            "<class 'pandas.core.frame.DataFrame'>\n",
            "RangeIndex: 1303 entries, 0 to 1302\n",
            "Data columns (total 13 columns):\n",
            " #   Column            Non-Null Count  Dtype  \n",
            "---  ------            --------------  -----  \n",
            " 0   laptop_ID         1303 non-null   int64  \n",
            " 1   Company           1303 non-null   object \n",
            " 2   Product           1303 non-null   object \n",
            " 3   TypeName          1303 non-null   object \n",
            " 4   Inches            1303 non-null   float64\n",
            " 5   ScreenResolution  1303 non-null   object \n",
            " 6   Cpu               1303 non-null   object \n",
            " 7   Ram               1303 non-null   object \n",
            " 8   Memory            1303 non-null   object \n",
            " 9   Gpu               1303 non-null   object \n",
            " 10  OpSys             1303 non-null   object \n",
            " 11  Weight            1303 non-null   object \n",
            " 12  Price_euros       1303 non-null   float64\n",
            "dtypes: float64(2), int64(1), object(10)\n",
            "memory usage: 132.5+ KB\n"
          ]
        },
        {
          "data": {
            "application/javascript": [
              "\n",
              "            setTimeout(function() {\n",
              "                var nbb_cell_id = 6;\n",
              "                var nbb_unformatted_code = \"# checking column datatypes and number of non-null values\\ndf.info()\";\n",
              "                var nbb_formatted_code = \"# checking column datatypes and number of non-null values\\ndf.info()\";\n",
              "                var nbb_cells = Jupyter.notebook.get_cells();\n",
              "                for (var i = 0; i < nbb_cells.length; ++i) {\n",
              "                    if (nbb_cells[i].input_prompt_number == nbb_cell_id) {\n",
              "                        if (nbb_cells[i].get_text() == nbb_unformatted_code) {\n",
              "                             nbb_cells[i].set_text(nbb_formatted_code);\n",
              "                        }\n",
              "                        break;\n",
              "                    }\n",
              "                }\n",
              "            }, 500);\n",
              "            "
            ],
            "text/plain": [
              "<IPython.core.display.Javascript object>"
            ]
          },
          "metadata": {},
          "output_type": "display_data"
        }
      ],
      "source": [
        "# checking column datatypes and number of non-null values\n",
        "df.info()"
      ]
    },
    {
      "cell_type": "markdown",
      "id": "8ffc36ca",
      "metadata": {
        "id": "8ffc36ca"
      },
      "source": [
        "**Observations**\n",
        "\n",
        "- `laptop_ID`, `Inches`, and `Price_euros` are numerical columns.\n",
        "- `laptop_ID` is a nominal feature.\n",
        "-  All other columns are data type.\n",
        "-  There are 1303 observation of 13 columns. \n",
        "\n"
      ]
    },
    {
      "cell_type": "markdown",
      "id": "b45add56",
      "metadata": {
        "id": "b45add56"
      },
      "source": [
        "**Checking for Missing Values**"
      ]
    },
    {
      "cell_type": "code",
      "execution_count": null,
      "id": "836460e4",
      "metadata": {
        "id": "836460e4",
        "outputId": "8ab94fd7-2158-4c23-a2e8-ae705ec27b05"
      },
      "outputs": [
        {
          "data": {
            "text/plain": [
              "laptop_ID           0\n",
              "Company             0\n",
              "Product             0\n",
              "TypeName            0\n",
              "Inches              0\n",
              "ScreenResolution    0\n",
              "Cpu                 0\n",
              "Ram                 0\n",
              "Memory              0\n",
              "Gpu                 0\n",
              "OpSys               0\n",
              "Weight              0\n",
              "Price_euros         0\n",
              "dtype: int64"
            ]
          },
          "execution_count": 7,
          "metadata": {},
          "output_type": "execute_result"
        },
        {
          "data": {
            "application/javascript": [
              "\n",
              "            setTimeout(function() {\n",
              "                var nbb_cell_id = 7;\n",
              "                var nbb_unformatted_code = \"df.isnull().sum()\";\n",
              "                var nbb_formatted_code = \"df.isnull().sum()\";\n",
              "                var nbb_cells = Jupyter.notebook.get_cells();\n",
              "                for (var i = 0; i < nbb_cells.length; ++i) {\n",
              "                    if (nbb_cells[i].input_prompt_number == nbb_cell_id) {\n",
              "                        if (nbb_cells[i].get_text() == nbb_unformatted_code) {\n",
              "                             nbb_cells[i].set_text(nbb_formatted_code);\n",
              "                        }\n",
              "                        break;\n",
              "                    }\n",
              "                }\n",
              "            }, 500);\n",
              "            "
            ],
            "text/plain": [
              "<IPython.core.display.Javascript object>"
            ]
          },
          "metadata": {},
          "output_type": "display_data"
        }
      ],
      "source": [
        "df.isnull().sum()"
      ]
    },
    {
      "cell_type": "markdown",
      "id": "8d4f2cb9",
      "metadata": {
        "id": "8d4f2cb9"
      },
      "source": [
        "**Observations**\n",
        "\n",
        "- There are no missing values in the data."
      ]
    },
    {
      "cell_type": "markdown",
      "id": "96b53f49",
      "metadata": {
        "id": "96b53f49"
      },
      "source": [
        "**Some statistical summaries of numerical attributes of data**"
      ]
    },
    {
      "cell_type": "code",
      "execution_count": null,
      "id": "4f0e8966",
      "metadata": {
        "id": "4f0e8966",
        "outputId": "f5688458-ff36-4a0e-fdd6-41d19c765491"
      },
      "outputs": [
        {
          "data": {
            "text/html": [
              "<div>\n",
              "<style scoped>\n",
              "    .dataframe tbody tr th:only-of-type {\n",
              "        vertical-align: middle;\n",
              "    }\n",
              "\n",
              "    .dataframe tbody tr th {\n",
              "        vertical-align: top;\n",
              "    }\n",
              "\n",
              "    .dataframe thead th {\n",
              "        text-align: right;\n",
              "    }\n",
              "</style>\n",
              "<table border=\"1\" class=\"dataframe\">\n",
              "  <thead>\n",
              "    <tr style=\"text-align: right;\">\n",
              "      <th></th>\n",
              "      <th>count</th>\n",
              "      <th>unique</th>\n",
              "      <th>top</th>\n",
              "      <th>freq</th>\n",
              "      <th>mean</th>\n",
              "      <th>std</th>\n",
              "      <th>min</th>\n",
              "      <th>25%</th>\n",
              "      <th>50%</th>\n",
              "      <th>75%</th>\n",
              "      <th>max</th>\n",
              "    </tr>\n",
              "  </thead>\n",
              "  <tbody>\n",
              "    <tr>\n",
              "      <th>laptop_ID</th>\n",
              "      <td>1303.00</td>\n",
              "      <td>NaN</td>\n",
              "      <td>NaN</td>\n",
              "      <td>NaN</td>\n",
              "      <td>660.16</td>\n",
              "      <td>381.17</td>\n",
              "      <td>1.00</td>\n",
              "      <td>331.50</td>\n",
              "      <td>659.00</td>\n",
              "      <td>990.50</td>\n",
              "      <td>1320.00</td>\n",
              "    </tr>\n",
              "    <tr>\n",
              "      <th>Company</th>\n",
              "      <td>1303</td>\n",
              "      <td>19</td>\n",
              "      <td>Dell</td>\n",
              "      <td>297</td>\n",
              "      <td>NaN</td>\n",
              "      <td>NaN</td>\n",
              "      <td>NaN</td>\n",
              "      <td>NaN</td>\n",
              "      <td>NaN</td>\n",
              "      <td>NaN</td>\n",
              "      <td>NaN</td>\n",
              "    </tr>\n",
              "    <tr>\n",
              "      <th>Product</th>\n",
              "      <td>1303</td>\n",
              "      <td>618</td>\n",
              "      <td>XPS 13</td>\n",
              "      <td>30</td>\n",
              "      <td>NaN</td>\n",
              "      <td>NaN</td>\n",
              "      <td>NaN</td>\n",
              "      <td>NaN</td>\n",
              "      <td>NaN</td>\n",
              "      <td>NaN</td>\n",
              "      <td>NaN</td>\n",
              "    </tr>\n",
              "    <tr>\n",
              "      <th>TypeName</th>\n",
              "      <td>1303</td>\n",
              "      <td>6</td>\n",
              "      <td>Notebook</td>\n",
              "      <td>727</td>\n",
              "      <td>NaN</td>\n",
              "      <td>NaN</td>\n",
              "      <td>NaN</td>\n",
              "      <td>NaN</td>\n",
              "      <td>NaN</td>\n",
              "      <td>NaN</td>\n",
              "      <td>NaN</td>\n",
              "    </tr>\n",
              "    <tr>\n",
              "      <th>Inches</th>\n",
              "      <td>1303.00</td>\n",
              "      <td>NaN</td>\n",
              "      <td>NaN</td>\n",
              "      <td>NaN</td>\n",
              "      <td>15.02</td>\n",
              "      <td>1.43</td>\n",
              "      <td>10.10</td>\n",
              "      <td>14.00</td>\n",
              "      <td>15.60</td>\n",
              "      <td>15.60</td>\n",
              "      <td>18.40</td>\n",
              "    </tr>\n",
              "    <tr>\n",
              "      <th>ScreenResolution</th>\n",
              "      <td>1303</td>\n",
              "      <td>40</td>\n",
              "      <td>Full HD 1920x1080</td>\n",
              "      <td>507</td>\n",
              "      <td>NaN</td>\n",
              "      <td>NaN</td>\n",
              "      <td>NaN</td>\n",
              "      <td>NaN</td>\n",
              "      <td>NaN</td>\n",
              "      <td>NaN</td>\n",
              "      <td>NaN</td>\n",
              "    </tr>\n",
              "    <tr>\n",
              "      <th>Cpu</th>\n",
              "      <td>1303</td>\n",
              "      <td>118</td>\n",
              "      <td>Intel Core i5 7200U 2.5GHz</td>\n",
              "      <td>190</td>\n",
              "      <td>NaN</td>\n",
              "      <td>NaN</td>\n",
              "      <td>NaN</td>\n",
              "      <td>NaN</td>\n",
              "      <td>NaN</td>\n",
              "      <td>NaN</td>\n",
              "      <td>NaN</td>\n",
              "    </tr>\n",
              "    <tr>\n",
              "      <th>Ram</th>\n",
              "      <td>1303</td>\n",
              "      <td>9</td>\n",
              "      <td>8GB</td>\n",
              "      <td>619</td>\n",
              "      <td>NaN</td>\n",
              "      <td>NaN</td>\n",
              "      <td>NaN</td>\n",
              "      <td>NaN</td>\n",
              "      <td>NaN</td>\n",
              "      <td>NaN</td>\n",
              "      <td>NaN</td>\n",
              "    </tr>\n",
              "    <tr>\n",
              "      <th>Memory</th>\n",
              "      <td>1303</td>\n",
              "      <td>39</td>\n",
              "      <td>256GB SSD</td>\n",
              "      <td>412</td>\n",
              "      <td>NaN</td>\n",
              "      <td>NaN</td>\n",
              "      <td>NaN</td>\n",
              "      <td>NaN</td>\n",
              "      <td>NaN</td>\n",
              "      <td>NaN</td>\n",
              "      <td>NaN</td>\n",
              "    </tr>\n",
              "    <tr>\n",
              "      <th>Gpu</th>\n",
              "      <td>1303</td>\n",
              "      <td>110</td>\n",
              "      <td>Intel HD Graphics 620</td>\n",
              "      <td>281</td>\n",
              "      <td>NaN</td>\n",
              "      <td>NaN</td>\n",
              "      <td>NaN</td>\n",
              "      <td>NaN</td>\n",
              "      <td>NaN</td>\n",
              "      <td>NaN</td>\n",
              "      <td>NaN</td>\n",
              "    </tr>\n",
              "    <tr>\n",
              "      <th>OpSys</th>\n",
              "      <td>1303</td>\n",
              "      <td>9</td>\n",
              "      <td>Windows 10</td>\n",
              "      <td>1072</td>\n",
              "      <td>NaN</td>\n",
              "      <td>NaN</td>\n",
              "      <td>NaN</td>\n",
              "      <td>NaN</td>\n",
              "      <td>NaN</td>\n",
              "      <td>NaN</td>\n",
              "      <td>NaN</td>\n",
              "    </tr>\n",
              "    <tr>\n",
              "      <th>Weight</th>\n",
              "      <td>1303</td>\n",
              "      <td>179</td>\n",
              "      <td>2.2kg</td>\n",
              "      <td>121</td>\n",
              "      <td>NaN</td>\n",
              "      <td>NaN</td>\n",
              "      <td>NaN</td>\n",
              "      <td>NaN</td>\n",
              "      <td>NaN</td>\n",
              "      <td>NaN</td>\n",
              "      <td>NaN</td>\n",
              "    </tr>\n",
              "    <tr>\n",
              "      <th>Price_euros</th>\n",
              "      <td>1303.00</td>\n",
              "      <td>NaN</td>\n",
              "      <td>NaN</td>\n",
              "      <td>NaN</td>\n",
              "      <td>1123.69</td>\n",
              "      <td>699.01</td>\n",
              "      <td>174.00</td>\n",
              "      <td>599.00</td>\n",
              "      <td>977.00</td>\n",
              "      <td>1487.88</td>\n",
              "      <td>6099.00</td>\n",
              "    </tr>\n",
              "  </tbody>\n",
              "</table>\n",
              "</div>"
            ],
            "text/plain": [
              "                   count unique                         top  freq    mean  \\\n",
              "laptop_ID        1303.00    NaN                         NaN   NaN  660.16   \n",
              "Company             1303     19                        Dell   297     NaN   \n",
              "Product             1303    618                      XPS 13    30     NaN   \n",
              "TypeName            1303      6                    Notebook   727     NaN   \n",
              "Inches           1303.00    NaN                         NaN   NaN   15.02   \n",
              "ScreenResolution    1303     40           Full HD 1920x1080   507     NaN   \n",
              "Cpu                 1303    118  Intel Core i5 7200U 2.5GHz   190     NaN   \n",
              "Ram                 1303      9                         8GB   619     NaN   \n",
              "Memory              1303     39                   256GB SSD   412     NaN   \n",
              "Gpu                 1303    110       Intel HD Graphics 620   281     NaN   \n",
              "OpSys               1303      9                  Windows 10  1072     NaN   \n",
              "Weight              1303    179                       2.2kg   121     NaN   \n",
              "Price_euros      1303.00    NaN                         NaN   NaN 1123.69   \n",
              "\n",
              "                    std    min    25%    50%     75%     max  \n",
              "laptop_ID        381.17   1.00 331.50 659.00  990.50 1320.00  \n",
              "Company             NaN    NaN    NaN    NaN     NaN     NaN  \n",
              "Product             NaN    NaN    NaN    NaN     NaN     NaN  \n",
              "TypeName            NaN    NaN    NaN    NaN     NaN     NaN  \n",
              "Inches             1.43  10.10  14.00  15.60   15.60   18.40  \n",
              "ScreenResolution    NaN    NaN    NaN    NaN     NaN     NaN  \n",
              "Cpu                 NaN    NaN    NaN    NaN     NaN     NaN  \n",
              "Ram                 NaN    NaN    NaN    NaN     NaN     NaN  \n",
              "Memory              NaN    NaN    NaN    NaN     NaN     NaN  \n",
              "Gpu                 NaN    NaN    NaN    NaN     NaN     NaN  \n",
              "OpSys               NaN    NaN    NaN    NaN     NaN     NaN  \n",
              "Weight              NaN    NaN    NaN    NaN     NaN     NaN  \n",
              "Price_euros      699.01 174.00 599.00 977.00 1487.88 6099.00  "
            ]
          },
          "execution_count": 8,
          "metadata": {},
          "output_type": "execute_result"
        },
        {
          "data": {
            "application/javascript": [
              "\n",
              "            setTimeout(function() {\n",
              "                var nbb_cell_id = 8;\n",
              "                var nbb_unformatted_code = \"df.describe(include=\\\"all\\\").T\";\n",
              "                var nbb_formatted_code = \"df.describe(include=\\\"all\\\").T\";\n",
              "                var nbb_cells = Jupyter.notebook.get_cells();\n",
              "                for (var i = 0; i < nbb_cells.length; ++i) {\n",
              "                    if (nbb_cells[i].input_prompt_number == nbb_cell_id) {\n",
              "                        if (nbb_cells[i].get_text() == nbb_unformatted_code) {\n",
              "                             nbb_cells[i].set_text(nbb_formatted_code);\n",
              "                        }\n",
              "                        break;\n",
              "                    }\n",
              "                }\n",
              "            }, 500);\n",
              "            "
            ],
            "text/plain": [
              "<IPython.core.display.Javascript object>"
            ]
          },
          "metadata": {},
          "output_type": "display_data"
        }
      ],
      "source": [
        "df.describe(include=\"all\").T"
      ]
    },
    {
      "cell_type": "markdown",
      "id": "acd97495",
      "metadata": {
        "id": "acd97495"
      },
      "source": [
        "**Observations**\n",
        "\n",
        "- The laptop prices vary from 174 to 6100 euros.\n",
        "- There are 19 different laptop Manufacturing companies in the dataset.\n",
        "- There are roughly 600 unique laptop models.\n",
        "- The screen size vary from 10.1 to 18.4 inches."
      ]
    },
    {
      "cell_type": "markdown",
      "id": "bd48fd6b",
      "metadata": {
        "id": "bd48fd6b"
      },
      "source": [
        "**Data Exploration**\n",
        "\n",
        "Creating a function that will help in coming up with barplots."
      ]
    },
    {
      "cell_type": "code",
      "execution_count": null,
      "id": "a6a75f47",
      "metadata": {
        "id": "a6a75f47",
        "outputId": "529b1a74-7837-4af4-b478-351ae89fa7a1"
      },
      "outputs": [
        {
          "data": {
            "application/javascript": [
              "\n",
              "            setTimeout(function() {\n",
              "                var nbb_cell_id = 9;\n",
              "                var nbb_unformatted_code = \"# function to create labeled barplots\\n\\n\\ndef labeled_barplot(data, feature, perc=False, n=None):\\n    \\\"\\\"\\\"\\n    Barplot with percentage at the top\\n\\n    data: dataframe\\n    feature: dataframe column\\n    perc: whether to display percentages instead of count (default is False)\\n    n: displays the top n category levels (default is None, i.e., display all levels)\\n    \\\"\\\"\\\"\\n\\n    total = len(data[feature])  # length of the column\\n    count = data[feature].nunique()\\n    if n is None:\\n        plt.figure(figsize=(count + 1, 5))\\n    else:\\n        plt.figure(figsize=(n + 1, 5))\\n\\n    plt.xticks(rotation=90, fontsize=15)\\n    ax = sns.countplot(\\n        data=data,\\n        x=feature,\\n        palette=\\\"Paired\\\",\\n        order=data[feature].value_counts().index[:n].sort_values(),\\n    )\\n\\n    for p in ax.patches:\\n        if perc == True:\\n            label = \\\"{:.1f}%\\\".format(\\n                100 * p.get_height() / total\\n            )  # percentage of each class of the category\\n        else:\\n            label = p.get_height()  # count of each level of the category\\n\\n        x = p.get_x() + p.get_width() / 2  # width of the plot\\n        y = p.get_height()  # height of the plot\\n\\n        ax.annotate(\\n            label,\\n            (x, y),\\n            ha=\\\"center\\\",\\n            va=\\\"center\\\",\\n            size=12,\\n            xytext=(0, 5),\\n            textcoords=\\\"offset points\\\",\\n        )  # annotate the percentage\\n\\n    plt.show()  # show the plot\";\n",
              "                var nbb_formatted_code = \"# function to create labeled barplots\\n\\n\\ndef labeled_barplot(data, feature, perc=False, n=None):\\n    \\\"\\\"\\\"\\n    Barplot with percentage at the top\\n\\n    data: dataframe\\n    feature: dataframe column\\n    perc: whether to display percentages instead of count (default is False)\\n    n: displays the top n category levels (default is None, i.e., display all levels)\\n    \\\"\\\"\\\"\\n\\n    total = len(data[feature])  # length of the column\\n    count = data[feature].nunique()\\n    if n is None:\\n        plt.figure(figsize=(count + 1, 5))\\n    else:\\n        plt.figure(figsize=(n + 1, 5))\\n\\n    plt.xticks(rotation=90, fontsize=15)\\n    ax = sns.countplot(\\n        data=data,\\n        x=feature,\\n        palette=\\\"Paired\\\",\\n        order=data[feature].value_counts().index[:n].sort_values(),\\n    )\\n\\n    for p in ax.patches:\\n        if perc == True:\\n            label = \\\"{:.1f}%\\\".format(\\n                100 * p.get_height() / total\\n            )  # percentage of each class of the category\\n        else:\\n            label = p.get_height()  # count of each level of the category\\n\\n        x = p.get_x() + p.get_width() / 2  # width of the plot\\n        y = p.get_height()  # height of the plot\\n\\n        ax.annotate(\\n            label,\\n            (x, y),\\n            ha=\\\"center\\\",\\n            va=\\\"center\\\",\\n            size=12,\\n            xytext=(0, 5),\\n            textcoords=\\\"offset points\\\",\\n        )  # annotate the percentage\\n\\n    plt.show()  # show the plot\";\n",
              "                var nbb_cells = Jupyter.notebook.get_cells();\n",
              "                for (var i = 0; i < nbb_cells.length; ++i) {\n",
              "                    if (nbb_cells[i].input_prompt_number == nbb_cell_id) {\n",
              "                        if (nbb_cells[i].get_text() == nbb_unformatted_code) {\n",
              "                             nbb_cells[i].set_text(nbb_formatted_code);\n",
              "                        }\n",
              "                        break;\n",
              "                    }\n",
              "                }\n",
              "            }, 500);\n",
              "            "
            ],
            "text/plain": [
              "<IPython.core.display.Javascript object>"
            ]
          },
          "metadata": {},
          "output_type": "display_data"
        }
      ],
      "source": [
        "# function to create labeled barplots\n",
        "\n",
        "\n",
        "def labeled_barplot(data, feature, perc=False, n=None):\n",
        "    \"\"\"\n",
        "    Barplot with percentage at the top\n",
        "\n",
        "    data: dataframe\n",
        "    feature: dataframe column\n",
        "    perc: whether to display percentages instead of count (default is False)\n",
        "    n: displays the top n category levels (default is None, i.e., display all levels)\n",
        "    \"\"\"\n",
        "\n",
        "    total = len(data[feature])  # length of the column\n",
        "    count = data[feature].nunique()\n",
        "    if n is None:\n",
        "        plt.figure(figsize=(count + 1, 5))\n",
        "    else:\n",
        "        plt.figure(figsize=(n + 1, 5))\n",
        "\n",
        "    plt.xticks(rotation=90, fontsize=15)\n",
        "    ax = sns.countplot(\n",
        "        data=data,\n",
        "        x=feature,\n",
        "        palette=\"Paired\",\n",
        "        order=data[feature].value_counts().index[:n].sort_values(),\n",
        "    )\n",
        "\n",
        "    for p in ax.patches:\n",
        "        if perc == True:\n",
        "            label = \"{:.1f}%\".format(\n",
        "                100 * p.get_height() / total\n",
        "            )  # percentage of each class of the category\n",
        "        else:\n",
        "            label = p.get_height()  # count of each level of the category\n",
        "\n",
        "        x = p.get_x() + p.get_width() / 2  # width of the plot\n",
        "        y = p.get_height()  # height of the plot\n",
        "\n",
        "        ax.annotate(\n",
        "            label,\n",
        "            (x, y),\n",
        "            ha=\"center\",\n",
        "            va=\"center\",\n",
        "            size=12,\n",
        "            xytext=(0, 5),\n",
        "            textcoords=\"offset points\",\n",
        "        )  # annotate the percentage\n",
        "\n",
        "    plt.show()  # show the plot"
      ]
    },
    {
      "cell_type": "markdown",
      "id": "b55ed642",
      "metadata": {
        "id": "b55ed642"
      },
      "source": [
        "**Q1. How many different brands are there and what kind of inventory from each brand is the retailer carrying?**"
      ]
    },
    {
      "cell_type": "code",
      "execution_count": null,
      "id": "698acc3b",
      "metadata": {
        "id": "698acc3b",
        "outputId": "7e816e4f-b519-4c96-d557-097034b36b5f"
      },
      "outputs": [
        {
          "data": {
            "text/plain": [
              "Dell         297\n",
              "Lenovo       297\n",
              "HP           274\n",
              "Asus         158\n",
              "Acer         103\n",
              "MSI           54\n",
              "Toshiba       48\n",
              "Apple         21\n",
              "Samsung        9\n",
              "Mediacom       7\n",
              "Razer          7\n",
              "Microsoft      6\n",
              "Xiaomi         4\n",
              "Vero           4\n",
              "Google         3\n",
              "LG             3\n",
              "Fujitsu        3\n",
              "Chuwi          3\n",
              "Huawei         2\n",
              "Name: Company, dtype: int64"
            ]
          },
          "execution_count": 10,
          "metadata": {},
          "output_type": "execute_result"
        },
        {
          "data": {
            "application/javascript": [
              "\n",
              "            setTimeout(function() {\n",
              "                var nbb_cell_id = 10;\n",
              "                var nbb_unformatted_code = \"df.Company.value_counts()\";\n",
              "                var nbb_formatted_code = \"df.Company.value_counts()\";\n",
              "                var nbb_cells = Jupyter.notebook.get_cells();\n",
              "                for (var i = 0; i < nbb_cells.length; ++i) {\n",
              "                    if (nbb_cells[i].input_prompt_number == nbb_cell_id) {\n",
              "                        if (nbb_cells[i].get_text() == nbb_unformatted_code) {\n",
              "                             nbb_cells[i].set_text(nbb_formatted_code);\n",
              "                        }\n",
              "                        break;\n",
              "                    }\n",
              "                }\n",
              "            }, 500);\n",
              "            "
            ],
            "text/plain": [
              "<IPython.core.display.Javascript object>"
            ]
          },
          "metadata": {},
          "output_type": "display_data"
        }
      ],
      "source": [
        "df.Company.value_counts()"
      ]
    },
    {
      "cell_type": "code",
      "execution_count": null,
      "id": "adba4bb4",
      "metadata": {
        "id": "adba4bb4",
        "outputId": "91020e6a-b98f-48a6-d73e-19de57dfe076"
      },
      "outputs": [
        {
          "data": {
            "image/png": "[encoded data removed]",
            "text/plain": [
              "<Figure size 1440x360 with 1 Axes>"
            ]
          },
          "metadata": {},
          "output_type": "display_data"
        },
        {
          "data": {
            "application/javascript": [
              "\n",
              "            setTimeout(function() {\n",
              "                var nbb_cell_id = 11;\n",
              "                var nbb_unformatted_code = \"labeled_barplot(df, \\\"Company\\\")\";\n",
              "                var nbb_formatted_code = \"labeled_barplot(df, \\\"Company\\\")\";\n",
              "                var nbb_cells = Jupyter.notebook.get_cells();\n",
              "                for (var i = 0; i < nbb_cells.length; ++i) {\n",
              "                    if (nbb_cells[i].input_prompt_number == nbb_cell_id) {\n",
              "                        if (nbb_cells[i].get_text() == nbb_unformatted_code) {\n",
              "                             nbb_cells[i].set_text(nbb_formatted_code);\n",
              "                        }\n",
              "                        break;\n",
              "                    }\n",
              "                }\n",
              "            }, 500);\n",
              "            "
            ],
            "text/plain": [
              "<IPython.core.display.Javascript object>"
            ]
          },
          "metadata": {},
          "output_type": "display_data"
        }
      ],
      "source": [
        "# Visual representation of above data\n",
        "labeled_barplot(df, \"Company\")"
      ]
    },
    {
      "cell_type": "markdown",
      "id": "653fb907",
      "metadata": {
        "id": "653fb907"
      },
      "source": [
        "**Observations**\n",
        "\n",
        "- `HP`, `Dell` and `Lenovo` have the highest number of laptops in inventory."
      ]
    },
    {
      "cell_type": "markdown",
      "id": "00aa7764",
      "metadata": {
        "id": "00aa7764"
      },
      "source": [
        "**Q2. How do the prices vary across different brands?**"
      ]
    },
    {
      "cell_type": "code",
      "execution_count": null,
      "id": "6d15c158",
      "metadata": {
        "id": "6d15c158",
        "outputId": "8b6a7c92-5f20-4b5c-dfcd-35f7ff7b14dd"
      },
      "outputs": [
        {
          "data": {
            "text/plain": [
              "Company\n",
              "Acer         626.78\n",
              "Apple       1564.20\n",
              "Asus        1104.17\n",
              "Chuwi        314.30\n",
              "Dell        1186.07\n",
              "Fujitsu      729.00\n",
              "Google      1677.67\n",
              "HP          1067.77\n",
              "Huawei      1424.00\n",
              "LG          2099.00\n",
              "Lenovo      1086.38\n",
              "MSI         1728.91\n",
              "Mediacom     295.00\n",
              "Microsoft   1612.31\n",
              "Razer       3346.14\n",
              "Samsung     1413.44\n",
              "Toshiba     1267.81\n",
              "Vero         217.43\n",
              "Xiaomi      1133.46\n",
              "Name: Price_euros, dtype: float64"
            ]
          },
          "execution_count": 12,
          "metadata": {},
          "output_type": "execute_result"
        },
        {
          "data": {
            "application/javascript": [
              "\n",
              "            setTimeout(function() {\n",
              "                var nbb_cell_id = 12;\n",
              "                var nbb_unformatted_code = \"df.groupby(\\\"Company\\\")[\\\"Price_euros\\\"].mean()\";\n",
              "                var nbb_formatted_code = \"df.groupby(\\\"Company\\\")[\\\"Price_euros\\\"].mean()\";\n",
              "                var nbb_cells = Jupyter.notebook.get_cells();\n",
              "                for (var i = 0; i < nbb_cells.length; ++i) {\n",
              "                    if (nbb_cells[i].input_prompt_number == nbb_cell_id) {\n",
              "                        if (nbb_cells[i].get_text() == nbb_unformatted_code) {\n",
              "                             nbb_cells[i].set_text(nbb_formatted_code);\n",
              "                        }\n",
              "                        break;\n",
              "                    }\n",
              "                }\n",
              "            }, 500);\n",
              "            "
            ],
            "text/plain": [
              "<IPython.core.display.Javascript object>"
            ]
          },
          "metadata": {},
          "output_type": "display_data"
        }
      ],
      "source": [
        "df.groupby(\"Company\")[\"Price_euros\"].mean()"
      ]
    },
    {
      "cell_type": "code",
      "execution_count": null,
      "id": "19e00ce9",
      "metadata": {
        "id": "19e00ce9",
        "outputId": "577c1693-01da-4d5b-e3a8-47fd7f51a13d"
      },
      "outputs": [
        {
          "data": {
            "image/png": "[encoded data removed]",
            "text/plain": [
              "<Figure size 1080x360 with 2 Axes>"
            ]
          },
          "metadata": {},
          "output_type": "display_data"
        },
        {
          "data": {
            "application/javascript": [
              "\n",
              "            setTimeout(function() {\n",
              "                var nbb_cell_id = 13;\n",
              "                var nbb_unformatted_code = \"plt.figure(figsize=(15, 5))\\n\\nplt.subplot(1, 2, 1)\\nsns.barplot(data=df, y=\\\"Price_euros\\\", x=\\\"Company\\\")\\nplt.xticks(rotation=90)\\n\\nplt.subplot(1, 2, 2)\\nsns.boxplot(data=df, y=\\\"Price_euros\\\", x=\\\"Company\\\")\\nplt.xticks(rotation=90)\\n\\nplt.show()\";\n",
              "                var nbb_formatted_code = \"plt.figure(figsize=(15, 5))\\n\\nplt.subplot(1, 2, 1)\\nsns.barplot(data=df, y=\\\"Price_euros\\\", x=\\\"Company\\\")\\nplt.xticks(rotation=90)\\n\\nplt.subplot(1, 2, 2)\\nsns.boxplot(data=df, y=\\\"Price_euros\\\", x=\\\"Company\\\")\\nplt.xticks(rotation=90)\\n\\nplt.show()\";\n",
              "                var nbb_cells = Jupyter.notebook.get_cells();\n",
              "                for (var i = 0; i < nbb_cells.length; ++i) {\n",
              "                    if (nbb_cells[i].input_prompt_number == nbb_cell_id) {\n",
              "                        if (nbb_cells[i].get_text() == nbb_unformatted_code) {\n",
              "                             nbb_cells[i].set_text(nbb_formatted_code);\n",
              "                        }\n",
              "                        break;\n",
              "                    }\n",
              "                }\n",
              "            }, 500);\n",
              "            "
            ],
            "text/plain": [
              "<IPython.core.display.Javascript object>"
            ]
          },
          "metadata": {},
          "output_type": "display_data"
        }
      ],
      "source": [
        "plt.figure(figsize=(15, 5))\n",
        "\n",
        "plt.subplot(1, 2, 1)\n",
        "sns.barplot(data=df, y=\"Price_euros\", x=\"Company\")\n",
        "plt.xticks(rotation=90)\n",
        "\n",
        "plt.subplot(1, 2, 2)\n",
        "sns.boxplot(data=df, y=\"Price_euros\", x=\"Company\")\n",
        "plt.xticks(rotation=90)\n",
        "\n",
        "plt.show()"
      ]
    },
    {
      "cell_type": "markdown",
      "id": "4d431d80",
      "metadata": {
        "id": "4d431d80"
      },
      "source": [
        "**Observations**\n",
        "\n",
        "- `Asus`, `Dell`, `Lenovo` and `HP` offer laptops at reasonable prices. \n",
        "- `Apple` and `MSI` are a bit more expensive.\n",
        "- `Acer` offers the cheapest laptops. \n",
        "- `Razer` is the most expensive in general."
      ]
    },
    {
      "cell_type": "markdown",
      "id": "cd66078d",
      "metadata": {
        "id": "cd66078d"
      },
      "source": [
        "**Q3. How do the prices vary across different types of laptops?**"
      ]
    },
    {
      "cell_type": "code",
      "execution_count": null,
      "id": "18d13aa9",
      "metadata": {
        "id": "18d13aa9",
        "outputId": "0e10330c-d755-480a-b1d3-a948431a3fe9"
      },
      "outputs": [
        {
          "data": {
            "text/plain": [
              "TypeName\n",
              "2 in 1 Convertible   1282.40\n",
              "Gaming               1731.38\n",
              "Netbook               636.23\n",
              "Notebook              782.08\n",
              "Ultrabook            1548.23\n",
              "Workstation          2280.36\n",
              "Name: Price_euros, dtype: float64"
            ]
          },
          "execution_count": 14,
          "metadata": {},
          "output_type": "execute_result"
        },
        {
          "data": {
            "application/javascript": [
              "\n",
              "            setTimeout(function() {\n",
              "                var nbb_cell_id = 14;\n",
              "                var nbb_unformatted_code = \"df.groupby(\\\"TypeName\\\")[\\\"Price_euros\\\"].mean()\";\n",
              "                var nbb_formatted_code = \"df.groupby(\\\"TypeName\\\")[\\\"Price_euros\\\"].mean()\";\n",
              "                var nbb_cells = Jupyter.notebook.get_cells();\n",
              "                for (var i = 0; i < nbb_cells.length; ++i) {\n",
              "                    if (nbb_cells[i].input_prompt_number == nbb_cell_id) {\n",
              "                        if (nbb_cells[i].get_text() == nbb_unformatted_code) {\n",
              "                             nbb_cells[i].set_text(nbb_formatted_code);\n",
              "                        }\n",
              "                        break;\n",
              "                    }\n",
              "                }\n",
              "            }, 500);\n",
              "            "
            ],
            "text/plain": [
              "<IPython.core.display.Javascript object>"
            ]
          },
          "metadata": {},
          "output_type": "display_data"
        }
      ],
      "source": [
        "df.groupby(\"TypeName\")[\"Price_euros\"].mean()"
      ]
    },
    {
      "cell_type": "code",
      "execution_count": null,
      "id": "a5348242",
      "metadata": {
        "id": "a5348242",
        "outputId": "8b2b6985-f6ec-4af3-f394-7a8dd00725b1"
      },
      "outputs": [
        {
          "data": {
            "image/png": "[encoded data removed]",
            "text/plain": [
              "<Figure size 1080x360 with 2 Axes>"
            ]
          },
          "metadata": {},
          "output_type": "display_data"
        },
        {
          "data": {
            "application/javascript": [
              "\n",
              "            setTimeout(function() {\n",
              "                var nbb_cell_id = 15;\n",
              "                var nbb_unformatted_code = \"plt.figure(figsize=(15, 5))\\n\\nplt.subplot(1, 2, 1)\\nsns.barplot(data=df, y=\\\"Price_euros\\\", x=\\\"TypeName\\\")\\nplt.xticks(rotation=45)\\n\\nplt.subplot(1, 2, 2)\\nsns.boxplot(data=df, y=\\\"Price_euros\\\", x=\\\"TypeName\\\")\\nplt.xticks(rotation=45)\\n\\nplt.show()\";\n",
              "                var nbb_formatted_code = \"plt.figure(figsize=(15, 5))\\n\\nplt.subplot(1, 2, 1)\\nsns.barplot(data=df, y=\\\"Price_euros\\\", x=\\\"TypeName\\\")\\nplt.xticks(rotation=45)\\n\\nplt.subplot(1, 2, 2)\\nsns.boxplot(data=df, y=\\\"Price_euros\\\", x=\\\"TypeName\\\")\\nplt.xticks(rotation=45)\\n\\nplt.show()\";\n",
              "                var nbb_cells = Jupyter.notebook.get_cells();\n",
              "                for (var i = 0; i < nbb_cells.length; ++i) {\n",
              "                    if (nbb_cells[i].input_prompt_number == nbb_cell_id) {\n",
              "                        if (nbb_cells[i].get_text() == nbb_unformatted_code) {\n",
              "                             nbb_cells[i].set_text(nbb_formatted_code);\n",
              "                        }\n",
              "                        break;\n",
              "                    }\n",
              "                }\n",
              "            }, 500);\n",
              "            "
            ],
            "text/plain": [
              "<IPython.core.display.Javascript object>"
            ]
          },
          "metadata": {},
          "output_type": "display_data"
        }
      ],
      "source": [
        "plt.figure(figsize=(15, 5))\n",
        "\n",
        "plt.subplot(1, 2, 1)\n",
        "sns.barplot(data=df, y=\"Price_euros\", x=\"TypeName\")\n",
        "plt.xticks(rotation=45)\n",
        "\n",
        "plt.subplot(1, 2, 2)\n",
        "sns.boxplot(data=df, y=\"Price_euros\", x=\"TypeName\")\n",
        "plt.xticks(rotation=45)\n",
        "\n",
        "plt.show()"
      ]
    },
    {
      "cell_type": "markdown",
      "id": "122d5379",
      "metadata": {
        "id": "122d5379"
      },
      "source": [
        "**Observations**\n",
        "\n",
        "- `Gamings laptops` and `workstations` are expensive in general. \n",
        "- `Notebooks` and `Netbooks` are cheaper in general."
      ]
    },
    {
      "cell_type": "markdown",
      "id": "29ee4490",
      "metadata": {
        "id": "29ee4490"
      },
      "source": [
        "**Q4. Is RAM a key factor in gaming performance? Does the RAM availablity vary accross brands for Gaming laptops?**"
      ]
    },
    {
      "cell_type": "code",
      "execution_count": null,
      "id": "110bfca2",
      "metadata": {
        "id": "110bfca2",
        "outputId": "d612a980-64e9-4072-b58b-2dffda509488"
      },
      "outputs": [
        {
          "data": {
            "application/javascript": [
              "\n",
              "            setTimeout(function() {\n",
              "                var nbb_cell_id = 16;\n",
              "                var nbb_unformatted_code = \"# let's create a copy of our data\\ndf1 = df.copy()\";\n",
              "                var nbb_formatted_code = \"# let's create a copy of our data\\ndf1 = df.copy()\";\n",
              "                var nbb_cells = Jupyter.notebook.get_cells();\n",
              "                for (var i = 0; i < nbb_cells.length; ++i) {\n",
              "                    if (nbb_cells[i].input_prompt_number == nbb_cell_id) {\n",
              "                        if (nbb_cells[i].get_text() == nbb_unformatted_code) {\n",
              "                             nbb_cells[i].set_text(nbb_formatted_code);\n",
              "                        }\n",
              "                        break;\n",
              "                    }\n",
              "                }\n",
              "            }, 500);\n",
              "            "
            ],
            "text/plain": [
              "<IPython.core.display.Javascript object>"
            ]
          },
          "metadata": {},
          "output_type": "display_data"
        }
      ],
      "source": [
        "# let's create a copy of our data\n",
        "df1 = df.copy()"
      ]
    },
    {
      "cell_type": "code",
      "execution_count": null,
      "id": "5fda77b7",
      "metadata": {
        "id": "5fda77b7",
        "outputId": "9b55d501-7599-433e-9b61-4b72f834c153"
      },
      "outputs": [
        {
          "data": {
            "text/html": [
              "<div>\n",
              "<style scoped>\n",
              "    .dataframe tbody tr th:only-of-type {\n",
              "        vertical-align: middle;\n",
              "    }\n",
              "\n",
              "    .dataframe tbody tr th {\n",
              "        vertical-align: top;\n",
              "    }\n",
              "\n",
              "    .dataframe thead th {\n",
              "        text-align: right;\n",
              "    }\n",
              "</style>\n",
              "<table border=\"1\" class=\"dataframe\">\n",
              "  <thead>\n",
              "    <tr style=\"text-align: right;\">\n",
              "      <th></th>\n",
              "      <th>laptop_ID</th>\n",
              "      <th>Company</th>\n",
              "      <th>Product</th>\n",
              "      <th>TypeName</th>\n",
              "      <th>Inches</th>\n",
              "      <th>ScreenResolution</th>\n",
              "      <th>Cpu</th>\n",
              "      <th>Ram</th>\n",
              "      <th>Memory</th>\n",
              "      <th>Gpu</th>\n",
              "      <th>OpSys</th>\n",
              "      <th>Weight</th>\n",
              "      <th>Price_euros</th>\n",
              "    </tr>\n",
              "  </thead>\n",
              "  <tbody>\n",
              "    <tr>\n",
              "      <th>0</th>\n",
              "      <td>1</td>\n",
              "      <td>Apple</td>\n",
              "      <td>MacBook Pro</td>\n",
              "      <td>Ultrabook</td>\n",
              "      <td>13.30</td>\n",
              "      <td>IPS Panel Retina Display 2560x1600</td>\n",
              "      <td>Intel Core i5 2.3GHz</td>\n",
              "      <td>8GB</td>\n",
              "      <td>128GB SSD</td>\n",
              "      <td>Intel Iris Plus Graphics 640</td>\n",
              "      <td>macOS</td>\n",
              "      <td>1.37kg</td>\n",
              "      <td>1339.69</td>\n",
              "    </tr>\n",
              "    <tr>\n",
              "      <th>1</th>\n",
              "      <td>2</td>\n",
              "      <td>Apple</td>\n",
              "      <td>Macbook Air</td>\n",
              "      <td>Ultrabook</td>\n",
              "      <td>13.30</td>\n",
              "      <td>1440x900</td>\n",
              "      <td>Intel Core i5 1.8GHz</td>\n",
              "      <td>8GB</td>\n",
              "      <td>128GB Flash Storage</td>\n",
              "      <td>Intel HD Graphics 6000</td>\n",
              "      <td>macOS</td>\n",
              "      <td>1.34kg</td>\n",
              "      <td>898.94</td>\n",
              "    </tr>\n",
              "    <tr>\n",
              "      <th>2</th>\n",
              "      <td>3</td>\n",
              "      <td>HP</td>\n",
              "      <td>250 G6</td>\n",
              "      <td>Notebook</td>\n",
              "      <td>15.60</td>\n",
              "      <td>Full HD 1920x1080</td>\n",
              "      <td>Intel Core i5 7200U 2.5GHz</td>\n",
              "      <td>8GB</td>\n",
              "      <td>256GB SSD</td>\n",
              "      <td>Intel HD Graphics 620</td>\n",
              "      <td>No OS</td>\n",
              "      <td>1.86kg</td>\n",
              "      <td>575.00</td>\n",
              "    </tr>\n",
              "    <tr>\n",
              "      <th>3</th>\n",
              "      <td>4</td>\n",
              "      <td>Apple</td>\n",
              "      <td>MacBook Pro</td>\n",
              "      <td>Ultrabook</td>\n",
              "      <td>15.40</td>\n",
              "      <td>IPS Panel Retina Display 2880x1800</td>\n",
              "      <td>Intel Core i7 2.7GHz</td>\n",
              "      <td>16GB</td>\n",
              "      <td>512GB SSD</td>\n",
              "      <td>AMD Radeon Pro 455</td>\n",
              "      <td>macOS</td>\n",
              "      <td>1.83kg</td>\n",
              "      <td>2537.45</td>\n",
              "    </tr>\n",
              "    <tr>\n",
              "      <th>4</th>\n",
              "      <td>5</td>\n",
              "      <td>Apple</td>\n",
              "      <td>MacBook Pro</td>\n",
              "      <td>Ultrabook</td>\n",
              "      <td>13.30</td>\n",
              "      <td>IPS Panel Retina Display 2560x1600</td>\n",
              "      <td>Intel Core i5 3.1GHz</td>\n",
              "      <td>8GB</td>\n",
              "      <td>256GB SSD</td>\n",
              "      <td>Intel Iris Plus Graphics 650</td>\n",
              "      <td>macOS</td>\n",
              "      <td>1.37kg</td>\n",
              "      <td>1803.60</td>\n",
              "    </tr>\n",
              "  </tbody>\n",
              "</table>\n",
              "</div>"
            ],
            "text/plain": [
              "   laptop_ID Company      Product   TypeName  Inches  \\\n",
              "0          1   Apple  MacBook Pro  Ultrabook   13.30   \n",
              "1          2   Apple  Macbook Air  Ultrabook   13.30   \n",
              "2          3      HP       250 G6   Notebook   15.60   \n",
              "3          4   Apple  MacBook Pro  Ultrabook   15.40   \n",
              "4          5   Apple  MacBook Pro  Ultrabook   13.30   \n",
              "\n",
              "                     ScreenResolution                         Cpu   Ram  \\\n",
              "0  IPS Panel Retina Display 2560x1600        Intel Core i5 2.3GHz   8GB   \n",
              "1                            1440x900        Intel Core i5 1.8GHz   8GB   \n",
              "2                   Full HD 1920x1080  Intel Core i5 7200U 2.5GHz   8GB   \n",
              "3  IPS Panel Retina Display 2880x1800        Intel Core i7 2.7GHz  16GB   \n",
              "4  IPS Panel Retina Display 2560x1600        Intel Core i5 3.1GHz   8GB   \n",
              "\n",
              "                Memory                           Gpu  OpSys  Weight  \\\n",
              "0            128GB SSD  Intel Iris Plus Graphics 640  macOS  1.37kg   \n",
              "1  128GB Flash Storage        Intel HD Graphics 6000  macOS  1.34kg   \n",
              "2            256GB SSD         Intel HD Graphics 620  No OS  1.86kg   \n",
              "3            512GB SSD            AMD Radeon Pro 455  macOS  1.83kg   \n",
              "4            256GB SSD  Intel Iris Plus Graphics 650  macOS  1.37kg   \n",
              "\n",
              "   Price_euros  \n",
              "0      1339.69  \n",
              "1       898.94  \n",
              "2       575.00  \n",
              "3      2537.45  \n",
              "4      1803.60  "
            ]
          },
          "execution_count": 17,
          "metadata": {},
          "output_type": "execute_result"
        },
        {
          "data": {
            "application/javascript": [
              "\n",
              "            setTimeout(function() {\n",
              "                var nbb_cell_id = 17;\n",
              "                var nbb_unformatted_code = \"df1.head()\";\n",
              "                var nbb_formatted_code = \"df1.head()\";\n",
              "                var nbb_cells = Jupyter.notebook.get_cells();\n",
              "                for (var i = 0; i < nbb_cells.length; ++i) {\n",
              "                    if (nbb_cells[i].input_prompt_number == nbb_cell_id) {\n",
              "                        if (nbb_cells[i].get_text() == nbb_unformatted_code) {\n",
              "                             nbb_cells[i].set_text(nbb_formatted_code);\n",
              "                        }\n",
              "                        break;\n",
              "                    }\n",
              "                }\n",
              "            }, 500);\n",
              "            "
            ],
            "text/plain": [
              "<IPython.core.display.Javascript object>"
            ]
          },
          "metadata": {},
          "output_type": "display_data"
        }
      ],
      "source": [
        "df1.head()"
      ]
    },
    {
      "cell_type": "code",
      "execution_count": null,
      "id": "5384dc94",
      "metadata": {
        "id": "5384dc94",
        "outputId": "eedcd3b7-6047-41a3-9040-f9e6f66e6619"
      },
      "outputs": [
        {
          "data": {
            "application/javascript": [
              "\n",
              "            setTimeout(function() {\n",
              "                var nbb_cell_id = 18;\n",
              "                var nbb_unformatted_code = \"# defining a function to extract the amount of RAM\\n\\n\\ndef ram_to_num(ram_val):\\n    \\\"\\\"\\\"\\n    This function takes in a string representing the amount of RAM\\n    and converts it to a number. For example, '8GB' becomes 8.\\n    If the input is already numeric, which probably means it's NaN,\\n    this function just returns np.nan.\\n    \\\"\\\"\\\"\\n    if isinstance(ram_val, str):  # checks if 'ram_val' is a string\\n        if ram_val.endswith(\\\"GB\\\"):\\n            return float(ram_val.replace(\\\"GB\\\", \\\"\\\"))\\n        elif ram_val.endswith(\\\"MB\\\"):\\n            return (\\n                float(ram_val.replace(\\\"MB\\\", \\\"\\\")) / 1024\\n            )  # converting MB to GB by dividing by 1024\\n    else:  # this happens when the current ram is np.nan\\n        return np.nan\";\n",
              "                var nbb_formatted_code = \"# defining a function to extract the amount of RAM\\n\\n\\ndef ram_to_num(ram_val):\\n    \\\"\\\"\\\"\\n    This function takes in a string representing the amount of RAM\\n    and converts it to a number. For example, '8GB' becomes 8.\\n    If the input is already numeric, which probably means it's NaN,\\n    this function just returns np.nan.\\n    \\\"\\\"\\\"\\n    if isinstance(ram_val, str):  # checks if 'ram_val' is a string\\n        if ram_val.endswith(\\\"GB\\\"):\\n            return float(ram_val.replace(\\\"GB\\\", \\\"\\\"))\\n        elif ram_val.endswith(\\\"MB\\\"):\\n            return (\\n                float(ram_val.replace(\\\"MB\\\", \\\"\\\")) / 1024\\n            )  # converting MB to GB by dividing by 1024\\n    else:  # this happens when the current ram is np.nan\\n        return np.nan\";\n",
              "                var nbb_cells = Jupyter.notebook.get_cells();\n",
              "                for (var i = 0; i < nbb_cells.length; ++i) {\n",
              "                    if (nbb_cells[i].input_prompt_number == nbb_cell_id) {\n",
              "                        if (nbb_cells[i].get_text() == nbb_unformatted_code) {\n",
              "                             nbb_cells[i].set_text(nbb_formatted_code);\n",
              "                        }\n",
              "                        break;\n",
              "                    }\n",
              "                }\n",
              "            }, 500);\n",
              "            "
            ],
            "text/plain": [
              "<IPython.core.display.Javascript object>"
            ]
          },
          "metadata": {},
          "output_type": "display_data"
        }
      ],
      "source": [
        "# defining a function to extract the amount of RAM\n",
        "\n",
        "\n",
        "def ram_to_num(ram_val):\n",
        "    \"\"\"\n",
        "    This function takes in a string representing the amount of RAM\n",
        "    and converts it to a number. For example, '8GB' becomes 8.\n",
        "    If the input is already numeric, which probably means it's NaN,\n",
        "    this function just returns np.nan.\n",
        "    \"\"\"\n",
        "    if isinstance(ram_val, str):  # checks if 'ram_val' is a string\n",
        "        if ram_val.endswith(\"GB\"):\n",
        "            return float(ram_val.replace(\"GB\", \"\"))\n",
        "        elif ram_val.endswith(\"MB\"):\n",
        "            return (\n",
        "                float(ram_val.replace(\"MB\", \"\")) / 1024\n",
        "            )  # converting MB to GB by dividing by 1024\n",
        "    else:  # this happens when the current ram is np.nan\n",
        "        return np.nan"
      ]
    },
    {
      "cell_type": "code",
      "execution_count": null,
      "id": "a590a9b1",
      "metadata": {
        "id": "a590a9b1",
        "outputId": "d518607d-f2d4-4f44-b9a0-3f1aed1748db"
      },
      "outputs": [
        {
          "data": {
            "text/html": [
              "<div>\n",
              "<style scoped>\n",
              "    .dataframe tbody tr th:only-of-type {\n",
              "        vertical-align: middle;\n",
              "    }\n",
              "\n",
              "    .dataframe tbody tr th {\n",
              "        vertical-align: top;\n",
              "    }\n",
              "\n",
              "    .dataframe thead th {\n",
              "        text-align: right;\n",
              "    }\n",
              "</style>\n",
              "<table border=\"1\" class=\"dataframe\">\n",
              "  <thead>\n",
              "    <tr style=\"text-align: right;\">\n",
              "      <th></th>\n",
              "      <th>RAM_GB</th>\n",
              "      <th>Ram</th>\n",
              "    </tr>\n",
              "  </thead>\n",
              "  <tbody>\n",
              "    <tr>\n",
              "      <th>0</th>\n",
              "      <td>8.00</td>\n",
              "      <td>8GB</td>\n",
              "    </tr>\n",
              "    <tr>\n",
              "      <th>1</th>\n",
              "      <td>8.00</td>\n",
              "      <td>8GB</td>\n",
              "    </tr>\n",
              "    <tr>\n",
              "      <th>2</th>\n",
              "      <td>8.00</td>\n",
              "      <td>8GB</td>\n",
              "    </tr>\n",
              "    <tr>\n",
              "      <th>3</th>\n",
              "      <td>16.00</td>\n",
              "      <td>16GB</td>\n",
              "    </tr>\n",
              "    <tr>\n",
              "      <th>4</th>\n",
              "      <td>8.00</td>\n",
              "      <td>8GB</td>\n",
              "    </tr>\n",
              "  </tbody>\n",
              "</table>\n",
              "</div>"
            ],
            "text/plain": [
              "   RAM_GB   Ram\n",
              "0    8.00   8GB\n",
              "1    8.00   8GB\n",
              "2    8.00   8GB\n",
              "3   16.00  16GB\n",
              "4    8.00   8GB"
            ]
          },
          "execution_count": 19,
          "metadata": {},
          "output_type": "execute_result"
        },
        {
          "data": {
            "application/javascript": [
              "\n",
              "            setTimeout(function() {\n",
              "                var nbb_cell_id = 19;\n",
              "                var nbb_unformatted_code = \"# extract the amount of RAM\\ndf1[\\\"RAM_GB\\\"] = df1[\\\"Ram\\\"].apply(ram_to_num)\\ndf1[[\\\"RAM_GB\\\", \\\"Ram\\\"]].head()\";\n",
              "                var nbb_formatted_code = \"# extract the amount of RAM\\ndf1[\\\"RAM_GB\\\"] = df1[\\\"Ram\\\"].apply(ram_to_num)\\ndf1[[\\\"RAM_GB\\\", \\\"Ram\\\"]].head()\";\n",
              "                var nbb_cells = Jupyter.notebook.get_cells();\n",
              "                for (var i = 0; i < nbb_cells.length; ++i) {\n",
              "                    if (nbb_cells[i].input_prompt_number == nbb_cell_id) {\n",
              "                        if (nbb_cells[i].get_text() == nbb_unformatted_code) {\n",
              "                             nbb_cells[i].set_text(nbb_formatted_code);\n",
              "                        }\n",
              "                        break;\n",
              "                    }\n",
              "                }\n",
              "            }, 500);\n",
              "            "
            ],
            "text/plain": [
              "<IPython.core.display.Javascript object>"
            ]
          },
          "metadata": {},
          "output_type": "display_data"
        }
      ],
      "source": [
        "# extract the amount of RAM\n",
        "df1[\"RAM_GB\"] = df1[\"Ram\"].apply(ram_to_num)\n",
        "df1[[\"RAM_GB\", \"Ram\"]].head()"
      ]
    },
    {
      "cell_type": "code",
      "execution_count": null,
      "id": "62269b1a",
      "metadata": {
        "id": "62269b1a",
        "outputId": "8ba074a1-e16c-4898-df1e-ca6ebc86a8f6"
      },
      "outputs": [
        {
          "data": {
            "text/plain": [
              "count   1303.00\n",
              "mean       8.38\n",
              "std        5.08\n",
              "min        2.00\n",
              "25%        4.00\n",
              "50%        8.00\n",
              "75%        8.00\n",
              "max       64.00\n",
              "Name: RAM_GB, dtype: float64"
            ]
          },
          "execution_count": 20,
          "metadata": {},
          "output_type": "execute_result"
        },
        {
          "data": {
            "application/javascript": [
              "\n",
              "            setTimeout(function() {\n",
              "                var nbb_cell_id = 20;\n",
              "                var nbb_unformatted_code = \"df1.drop(\\\"Ram\\\", axis=1, inplace=True)\\ndf1[\\\"RAM_GB\\\"].describe()\";\n",
              "                var nbb_formatted_code = \"df1.drop(\\\"Ram\\\", axis=1, inplace=True)\\ndf1[\\\"RAM_GB\\\"].describe()\";\n",
              "                var nbb_cells = Jupyter.notebook.get_cells();\n",
              "                for (var i = 0; i < nbb_cells.length; ++i) {\n",
              "                    if (nbb_cells[i].input_prompt_number == nbb_cell_id) {\n",
              "                        if (nbb_cells[i].get_text() == nbb_unformatted_code) {\n",
              "                             nbb_cells[i].set_text(nbb_formatted_code);\n",
              "                        }\n",
              "                        break;\n",
              "                    }\n",
              "                }\n",
              "            }, 500);\n",
              "            "
            ],
            "text/plain": [
              "<IPython.core.display.Javascript object>"
            ]
          },
          "metadata": {},
          "output_type": "display_data"
        }
      ],
      "source": [
        "df1.drop(\"Ram\", axis=1, inplace=True)\n",
        "df1[\"RAM_GB\"].describe()"
      ]
    },
    {
      "cell_type": "code",
      "execution_count": null,
      "id": "e9cf4639",
      "metadata": {
        "id": "e9cf4639",
        "outputId": "9a5bc815-6059-461b-8ec0-b4c62952a485"
      },
      "outputs": [
        {
          "data": {
            "text/plain": [
              "Company\n",
              "Acer     12.00\n",
              "Asus     14.96\n",
              "Dell     15.80\n",
              "HP       11.00\n",
              "Lenovo   12.38\n",
              "MSI      13.04\n",
              "Razer    22.40\n",
              "Name: RAM_GB, dtype: float64"
            ]
          },
          "execution_count": 21,
          "metadata": {},
          "output_type": "execute_result"
        },
        {
          "data": {
            "application/javascript": [
              "\n",
              "            setTimeout(function() {\n",
              "                var nbb_cell_id = 21;\n",
              "                var nbb_unformatted_code = \"df_gaming = df1[df1.TypeName == \\\"Gaming\\\"]\\ndf_gaming.groupby(\\\"Company\\\")[\\\"RAM_GB\\\"].mean()\";\n",
              "                var nbb_formatted_code = \"df_gaming = df1[df1.TypeName == \\\"Gaming\\\"]\\ndf_gaming.groupby(\\\"Company\\\")[\\\"RAM_GB\\\"].mean()\";\n",
              "                var nbb_cells = Jupyter.notebook.get_cells();\n",
              "                for (var i = 0; i < nbb_cells.length; ++i) {\n",
              "                    if (nbb_cells[i].input_prompt_number == nbb_cell_id) {\n",
              "                        if (nbb_cells[i].get_text() == nbb_unformatted_code) {\n",
              "                             nbb_cells[i].set_text(nbb_formatted_code);\n",
              "                        }\n",
              "                        break;\n",
              "                    }\n",
              "                }\n",
              "            }, 500);\n",
              "            "
            ],
            "text/plain": [
              "<IPython.core.display.Javascript object>"
            ]
          },
          "metadata": {},
          "output_type": "display_data"
        }
      ],
      "source": [
        "df_gaming = df1[df1.TypeName == \"Gaming\"]\n",
        "df_gaming.groupby(\"Company\")[\"RAM_GB\"].mean()"
      ]
    },
    {
      "cell_type": "code",
      "execution_count": null,
      "id": "ba7ab4fc",
      "metadata": {
        "id": "ba7ab4fc",
        "outputId": "c658932e-4c35-4b0e-c596-271c35dabddf"
      },
      "outputs": [
        {
          "data": {
            "image/png": "[encoded data removed]",
            "text/plain": [
              "<Figure size 1080x360 with 2 Axes>"
            ]
          },
          "metadata": {},
          "output_type": "display_data"
        },
        {
          "data": {
            "application/javascript": [
              "\n",
              "            setTimeout(function() {\n",
              "                var nbb_cell_id = 22;\n",
              "                var nbb_unformatted_code = \"plt.figure(figsize=(15, 5))\\n\\nplt.subplot(1, 2, 1)\\nsns.barplot(data=df_gaming, y=\\\"RAM_GB\\\", x=\\\"Company\\\")\\nplt.xticks(rotation=45)\\n\\nplt.subplot(1, 2, 2)\\nsns.boxplot(data=df_gaming, y=\\\"RAM_GB\\\", x=\\\"Company\\\")\\nplt.xticks(rotation=45)\\n\\nplt.show()\";\n",
              "                var nbb_formatted_code = \"plt.figure(figsize=(15, 5))\\n\\nplt.subplot(1, 2, 1)\\nsns.barplot(data=df_gaming, y=\\\"RAM_GB\\\", x=\\\"Company\\\")\\nplt.xticks(rotation=45)\\n\\nplt.subplot(1, 2, 2)\\nsns.boxplot(data=df_gaming, y=\\\"RAM_GB\\\", x=\\\"Company\\\")\\nplt.xticks(rotation=45)\\n\\nplt.show()\";\n",
              "                var nbb_cells = Jupyter.notebook.get_cells();\n",
              "                for (var i = 0; i < nbb_cells.length; ++i) {\n",
              "                    if (nbb_cells[i].input_prompt_number == nbb_cell_id) {\n",
              "                        if (nbb_cells[i].get_text() == nbb_unformatted_code) {\n",
              "                             nbb_cells[i].set_text(nbb_formatted_code);\n",
              "                        }\n",
              "                        break;\n",
              "                    }\n",
              "                }\n",
              "            }, 500);\n",
              "            "
            ],
            "text/plain": [
              "<IPython.core.display.Javascript object>"
            ]
          },
          "metadata": {},
          "output_type": "display_data"
        }
      ],
      "source": [
        "plt.figure(figsize=(15, 5))\n",
        "\n",
        "plt.subplot(1, 2, 1)\n",
        "sns.barplot(data=df_gaming, y=\"RAM_GB\", x=\"Company\")\n",
        "plt.xticks(rotation=45)\n",
        "\n",
        "plt.subplot(1, 2, 2)\n",
        "sns.boxplot(data=df_gaming, y=\"RAM_GB\", x=\"Company\")\n",
        "plt.xticks(rotation=45)\n",
        "\n",
        "plt.show()"
      ]
    },
    {
      "cell_type": "markdown",
      "id": "a91371ea",
      "metadata": {
        "id": "a91371ea"
      },
      "source": [
        "**Observations**\n",
        "\n",
        "- `Razer` provides the highest amount of RAM on average for the Gaming laptops. \n",
        "- We have seen previously that `Razer` laptops are more expensive in general. \n",
        "- Looks like RAM is a key factor in laptop performance."
      ]
    },
    {
      "cell_type": "markdown",
      "id": "ef193ab0",
      "metadata": {
        "id": "ef193ab0"
      },
      "source": [
        "**Q5. Are GPUs also a key component for Gaming users? Is Nvidia one of the leading brands in GPU space? How does the price vary by the company for Gaming Laptops with a Nvidia GeForce GTX GPU?**"
      ]
    },
    {
      "cell_type": "code",
      "execution_count": null,
      "id": "2bdec3dc",
      "metadata": {
        "id": "2bdec3dc",
        "outputId": "012fa829-6f3a-4258-b446-1341d58c4b49"
      },
      "outputs": [
        {
          "data": {
            "text/plain": [
              "0    1065\n",
              "1     238\n",
              "Name: GPU_Nvidia_GTX, dtype: int64"
            ]
          },
          "execution_count": 23,
          "metadata": {},
          "output_type": "execute_result"
        },
        {
          "data": {
            "application/javascript": [
              "\n",
              "            setTimeout(function() {\n",
              "                var nbb_cell_id = 23;\n",
              "                var nbb_unformatted_code = \"# we create a new column to indicate if a laptop has the NVIDIA Geforce GTX GPU\\ndf1[\\\"GPU_Nvidia_GTX\\\"] = [\\n    1 if \\\"Nvidia GeForce GTX\\\" in item else 0 for item in df1[\\\"Gpu\\\"].values\\n]\\ndf1[\\\"GPU_Nvidia_GTX\\\"].value_counts()\";\n",
              "                var nbb_formatted_code = \"# we create a new column to indicate if a laptop has the NVIDIA Geforce GTX GPU\\ndf1[\\\"GPU_Nvidia_GTX\\\"] = [\\n    1 if \\\"Nvidia GeForce GTX\\\" in item else 0 for item in df1[\\\"Gpu\\\"].values\\n]\\ndf1[\\\"GPU_Nvidia_GTX\\\"].value_counts()\";\n",
              "                var nbb_cells = Jupyter.notebook.get_cells();\n",
              "                for (var i = 0; i < nbb_cells.length; ++i) {\n",
              "                    if (nbb_cells[i].input_prompt_number == nbb_cell_id) {\n",
              "                        if (nbb_cells[i].get_text() == nbb_unformatted_code) {\n",
              "                             nbb_cells[i].set_text(nbb_formatted_code);\n",
              "                        }\n",
              "                        break;\n",
              "                    }\n",
              "                }\n",
              "            }, 500);\n",
              "            "
            ],
            "text/plain": [
              "<IPython.core.display.Javascript object>"
            ]
          },
          "metadata": {},
          "output_type": "display_data"
        }
      ],
      "source": [
        "# we create a new column to indicate if a laptop has the NVIDIA Geforce GTX GPU\n",
        "df1[\"GPU_Nvidia_GTX\"] = [\n",
        "    1 if \"Nvidia GeForce GTX\" in item else 0 for item in df1[\"Gpu\"].values\n",
        "]\n",
        "df1[\"GPU_Nvidia_GTX\"].value_counts()"
      ]
    },
    {
      "cell_type": "code",
      "execution_count": null,
      "id": "7e7447a2",
      "metadata": {
        "id": "7e7447a2",
        "outputId": "43c2d835-c3c4-4061-fe15-e8fdcc3521d4"
      },
      "outputs": [
        {
          "data": {
            "text/plain": [
              "Company\n",
              "Acer     1468.12\n",
              "Asus     1743.66\n",
              "Dell     1918.39\n",
              "HP       1394.55\n",
              "Lenovo   1339.61\n",
              "MSI      1708.72\n",
              "Razer    4119.00\n",
              "Name: Price_euros, dtype: float64"
            ]
          },
          "execution_count": 24,
          "metadata": {},
          "output_type": "execute_result"
        },
        {
          "data": {
            "application/javascript": [
              "\n",
              "            setTimeout(function() {\n",
              "                var nbb_cell_id = 24;\n",
              "                var nbb_unformatted_code = \"df_gaming_nvidia = df1[(df1.TypeName == \\\"Gaming\\\") & (df1.GPU_Nvidia_GTX == 1)]\\ndf_gaming_nvidia.groupby(\\\"Company\\\")[\\\"Price_euros\\\"].mean()\";\n",
              "                var nbb_formatted_code = \"df_gaming_nvidia = df1[(df1.TypeName == \\\"Gaming\\\") & (df1.GPU_Nvidia_GTX == 1)]\\ndf_gaming_nvidia.groupby(\\\"Company\\\")[\\\"Price_euros\\\"].mean()\";\n",
              "                var nbb_cells = Jupyter.notebook.get_cells();\n",
              "                for (var i = 0; i < nbb_cells.length; ++i) {\n",
              "                    if (nbb_cells[i].input_prompt_number == nbb_cell_id) {\n",
              "                        if (nbb_cells[i].get_text() == nbb_unformatted_code) {\n",
              "                             nbb_cells[i].set_text(nbb_formatted_code);\n",
              "                        }\n",
              "                        break;\n",
              "                    }\n",
              "                }\n",
              "            }, 500);\n",
              "            "
            ],
            "text/plain": [
              "<IPython.core.display.Javascript object>"
            ]
          },
          "metadata": {},
          "output_type": "display_data"
        }
      ],
      "source": [
        "df_gaming_nvidia = df1[(df1.TypeName == \"Gaming\") & (df1.GPU_Nvidia_GTX == 1)]\n",
        "df_gaming_nvidia.groupby(\"Company\")[\"Price_euros\"].mean()"
      ]
    },
    {
      "cell_type": "code",
      "execution_count": null,
      "id": "c9bc11f9",
      "metadata": {
        "id": "c9bc11f9",
        "outputId": "8e2889f4-90f3-4be0-9c84-061b984351f2"
      },
      "outputs": [
        {
          "data": {
            "image/png": "[encoded data removed]",
            "text/plain": [
              "<Figure size 1080x360 with 2 Axes>"
            ]
          },
          "metadata": {},
          "output_type": "display_data"
        },
        {
          "data": {
            "application/javascript": [
              "\n",
              "            setTimeout(function() {\n",
              "                var nbb_cell_id = 25;\n",
              "                var nbb_unformatted_code = \"plt.figure(figsize=(15, 5))\\n\\nplt.subplot(1, 2, 1)\\nsns.barplot(data=df_gaming_nvidia, y=\\\"Price_euros\\\", x=\\\"Company\\\")\\nplt.xticks(rotation=45)\\n\\nplt.subplot(1, 2, 2)\\nsns.boxplot(data=df_gaming_nvidia, y=\\\"Price_euros\\\", x=\\\"Company\\\")\\nplt.xticks(rotation=45)\\n\\nplt.show()\";\n",
              "                var nbb_formatted_code = \"plt.figure(figsize=(15, 5))\\n\\nplt.subplot(1, 2, 1)\\nsns.barplot(data=df_gaming_nvidia, y=\\\"Price_euros\\\", x=\\\"Company\\\")\\nplt.xticks(rotation=45)\\n\\nplt.subplot(1, 2, 2)\\nsns.boxplot(data=df_gaming_nvidia, y=\\\"Price_euros\\\", x=\\\"Company\\\")\\nplt.xticks(rotation=45)\\n\\nplt.show()\";\n",
              "                var nbb_cells = Jupyter.notebook.get_cells();\n",
              "                for (var i = 0; i < nbb_cells.length; ++i) {\n",
              "                    if (nbb_cells[i].input_prompt_number == nbb_cell_id) {\n",
              "                        if (nbb_cells[i].get_text() == nbb_unformatted_code) {\n",
              "                             nbb_cells[i].set_text(nbb_formatted_code);\n",
              "                        }\n",
              "                        break;\n",
              "                    }\n",
              "                }\n",
              "            }, 500);\n",
              "            "
            ],
            "text/plain": [
              "<IPython.core.display.Javascript object>"
            ]
          },
          "metadata": {},
          "output_type": "display_data"
        }
      ],
      "source": [
        "plt.figure(figsize=(15, 5))\n",
        "\n",
        "plt.subplot(1, 2, 1)\n",
        "sns.barplot(data=df_gaming_nvidia, y=\"Price_euros\", x=\"Company\")\n",
        "plt.xticks(rotation=45)\n",
        "\n",
        "plt.subplot(1, 2, 2)\n",
        "sns.boxplot(data=df_gaming_nvidia, y=\"Price_euros\", x=\"Company\")\n",
        "plt.xticks(rotation=45)\n",
        "\n",
        "plt.show()"
      ]
    },
    {
      "cell_type": "markdown",
      "id": "eda44e7e",
      "metadata": {
        "id": "eda44e7e"
      },
      "source": [
        "**Observations**\n",
        "\n",
        "- `Lenovo` & `Acer` provide Gaming laptops with a `Nvidia GeForce GTX GPU` at reasonable prices. "
      ]
    },
    {
      "cell_type": "markdown",
      "id": "a7c72f88",
      "metadata": {
        "id": "a7c72f88"
      },
      "source": [
        "**Q6. Do working executives have a preference for fast and lightweight laptops? Specfically ultrabooks? How does the weight of laptops and ultrabook type differ by brands?**"
      ]
    },
    {
      "cell_type": "code",
      "execution_count": null,
      "id": "e3066d29",
      "metadata": {
        "id": "e3066d29",
        "outputId": "d9133f40-8199-416a-916c-3660a7a76c97"
      },
      "outputs": [
        {
          "data": {
            "text/plain": [
              "['kg']"
            ]
          },
          "execution_count": 26,
          "metadata": {},
          "output_type": "execute_result"
        },
        {
          "data": {
            "application/javascript": [
              "\n",
              "            setTimeout(function() {\n",
              "                var nbb_cell_id = 26;\n",
              "                var nbb_unformatted_code = \"# checking the units of weight\\nweight_units = list(set([item[-2:] for item in df1.Weight]))\\nweight_units\";\n",
              "                var nbb_formatted_code = \"# checking the units of weight\\nweight_units = list(set([item[-2:] for item in df1.Weight]))\\nweight_units\";\n",
              "                var nbb_cells = Jupyter.notebook.get_cells();\n",
              "                for (var i = 0; i < nbb_cells.length; ++i) {\n",
              "                    if (nbb_cells[i].input_prompt_number == nbb_cell_id) {\n",
              "                        if (nbb_cells[i].get_text() == nbb_unformatted_code) {\n",
              "                             nbb_cells[i].set_text(nbb_formatted_code);\n",
              "                        }\n",
              "                        break;\n",
              "                    }\n",
              "                }\n",
              "            }, 500);\n",
              "            "
            ],
            "text/plain": [
              "<IPython.core.display.Javascript object>"
            ]
          },
          "metadata": {},
          "output_type": "display_data"
        }
      ],
      "source": [
        "# checking the units of weight\n",
        "weight_units = list(set([item[-2:] for item in df1.Weight]))\n",
        "weight_units"
      ]
    },
    {
      "cell_type": "markdown",
      "id": "c54353cc",
      "metadata": {
        "id": "c54353cc"
      },
      "source": [
        "- All the laptops in the data have weights in kilograms (kg)."
      ]
    },
    {
      "cell_type": "code",
      "execution_count": null,
      "id": "23eef111",
      "metadata": {
        "id": "23eef111",
        "outputId": "083e9743-2108-4f3b-dc93-715531efa7fe"
      },
      "outputs": [
        {
          "data": {
            "text/plain": [
              "count   1303.00\n",
              "mean       2.04\n",
              "std        0.67\n",
              "min        0.69\n",
              "25%        1.50\n",
              "50%        2.04\n",
              "75%        2.30\n",
              "max        4.70\n",
              "Name: Weight_kg, dtype: float64"
            ]
          },
          "execution_count": 27,
          "metadata": {},
          "output_type": "execute_result"
        },
        {
          "data": {
            "application/javascript": [
              "\n",
              "            setTimeout(function() {\n",
              "                var nbb_cell_id = 27;\n",
              "                var nbb_unformatted_code = \"# removing the units and converting to float\\ndf1[\\\"Weight_kg\\\"] = df1[\\\"Weight\\\"].str.replace(\\\"kg\\\", \\\"\\\").astype(float)\\ndf1.drop(\\\"Weight\\\", axis=1, inplace=True)\\ndf1[\\\"Weight_kg\\\"].describe()\";\n",
              "                var nbb_formatted_code = \"# removing the units and converting to float\\ndf1[\\\"Weight_kg\\\"] = df1[\\\"Weight\\\"].str.replace(\\\"kg\\\", \\\"\\\").astype(float)\\ndf1.drop(\\\"Weight\\\", axis=1, inplace=True)\\ndf1[\\\"Weight_kg\\\"].describe()\";\n",
              "                var nbb_cells = Jupyter.notebook.get_cells();\n",
              "                for (var i = 0; i < nbb_cells.length; ++i) {\n",
              "                    if (nbb_cells[i].input_prompt_number == nbb_cell_id) {\n",
              "                        if (nbb_cells[i].get_text() == nbb_unformatted_code) {\n",
              "                             nbb_cells[i].set_text(nbb_formatted_code);\n",
              "                        }\n",
              "                        break;\n",
              "                    }\n",
              "                }\n",
              "            }, 500);\n",
              "            "
            ],
            "text/plain": [
              "<IPython.core.display.Javascript object>"
            ]
          },
          "metadata": {},
          "output_type": "display_data"
        }
      ],
      "source": [
        "# removing the units and converting to float\n",
        "df1[\"Weight_kg\"] = df1[\"Weight\"].str.replace(\"kg\", \"\").astype(float)\n",
        "df1.drop(\"Weight\", axis=1, inplace=True)\n",
        "df1[\"Weight_kg\"].describe()"
      ]
    },
    {
      "cell_type": "code",
      "execution_count": null,
      "id": "43b42519",
      "metadata": {
        "id": "43b42519",
        "outputId": "c5983440-d040-4d17-bdc7-fb4634f6d2c9"
      },
      "outputs": [
        {
          "data": {
            "text/plain": [
              "Company\n",
              "Acer        1.53\n",
              "Apple       1.32\n",
              "Asus        1.32\n",
              "Dell        1.38\n",
              "Google      1.10\n",
              "HP          1.42\n",
              "Huawei      1.05\n",
              "LG          1.05\n",
              "Lenovo      1.38\n",
              "Microsoft   1.25\n",
              "Razer       1.27\n",
              "Samsung     1.07\n",
              "Toshiba     1.23\n",
              "Xiaomi      1.29\n",
              "Name: Weight_kg, dtype: float64"
            ]
          },
          "execution_count": 28,
          "metadata": {},
          "output_type": "execute_result"
        },
        {
          "data": {
            "application/javascript": [
              "\n",
              "            setTimeout(function() {\n",
              "                var nbb_cell_id = 28;\n",
              "                var nbb_unformatted_code = \"df_ultrabook = df1[df1.TypeName == \\\"Ultrabook\\\"]\\ndf_ultrabook.groupby(\\\"Company\\\")[\\\"Weight_kg\\\"].mean()\";\n",
              "                var nbb_formatted_code = \"df_ultrabook = df1[df1.TypeName == \\\"Ultrabook\\\"]\\ndf_ultrabook.groupby(\\\"Company\\\")[\\\"Weight_kg\\\"].mean()\";\n",
              "                var nbb_cells = Jupyter.notebook.get_cells();\n",
              "                for (var i = 0; i < nbb_cells.length; ++i) {\n",
              "                    if (nbb_cells[i].input_prompt_number == nbb_cell_id) {\n",
              "                        if (nbb_cells[i].get_text() == nbb_unformatted_code) {\n",
              "                             nbb_cells[i].set_text(nbb_formatted_code);\n",
              "                        }\n",
              "                        break;\n",
              "                    }\n",
              "                }\n",
              "            }, 500);\n",
              "            "
            ],
            "text/plain": [
              "<IPython.core.display.Javascript object>"
            ]
          },
          "metadata": {},
          "output_type": "display_data"
        }
      ],
      "source": [
        "df_ultrabook = df1[df1.TypeName == \"Ultrabook\"]\n",
        "df_ultrabook.groupby(\"Company\")[\"Weight_kg\"].mean()"
      ]
    },
    {
      "cell_type": "code",
      "execution_count": null,
      "id": "4a87f3fc",
      "metadata": {
        "id": "4a87f3fc",
        "outputId": "e931c810-1139-418a-fef0-afabf4d8124f"
      },
      "outputs": [
        {
          "data": {
            "image/png": "[encoded data removed]",
            "text/plain": [
              "<Figure size 1080x360 with 2 Axes>"
            ]
          },
          "metadata": {},
          "output_type": "display_data"
        },
        {
          "data": {
            "application/javascript": [
              "\n",
              "            setTimeout(function() {\n",
              "                var nbb_cell_id = 29;\n",
              "                var nbb_unformatted_code = \"plt.figure(figsize=(15, 5))\\n\\nplt.subplot(1, 2, 1)\\nsns.barplot(data=df_ultrabook, y=\\\"Weight_kg\\\", x=\\\"Company\\\")\\nplt.xticks(rotation=90)\\n\\nplt.subplot(1, 2, 2)\\nsns.boxplot(data=df_ultrabook, y=\\\"Weight_kg\\\", x=\\\"Company\\\")\\nplt.xticks(rotation=90)\\n\\nplt.show()\";\n",
              "                var nbb_formatted_code = \"plt.figure(figsize=(15, 5))\\n\\nplt.subplot(1, 2, 1)\\nsns.barplot(data=df_ultrabook, y=\\\"Weight_kg\\\", x=\\\"Company\\\")\\nplt.xticks(rotation=90)\\n\\nplt.subplot(1, 2, 2)\\nsns.boxplot(data=df_ultrabook, y=\\\"Weight_kg\\\", x=\\\"Company\\\")\\nplt.xticks(rotation=90)\\n\\nplt.show()\";\n",
              "                var nbb_cells = Jupyter.notebook.get_cells();\n",
              "                for (var i = 0; i < nbb_cells.length; ++i) {\n",
              "                    if (nbb_cells[i].input_prompt_number == nbb_cell_id) {\n",
              "                        if (nbb_cells[i].get_text() == nbb_unformatted_code) {\n",
              "                             nbb_cells[i].set_text(nbb_formatted_code);\n",
              "                        }\n",
              "                        break;\n",
              "                    }\n",
              "                }\n",
              "            }, 500);\n",
              "            "
            ],
            "text/plain": [
              "<IPython.core.display.Javascript object>"
            ]
          },
          "metadata": {},
          "output_type": "display_data"
        }
      ],
      "source": [
        "plt.figure(figsize=(15, 5))\n",
        "\n",
        "plt.subplot(1, 2, 1)\n",
        "sns.barplot(data=df_ultrabook, y=\"Weight_kg\", x=\"Company\")\n",
        "plt.xticks(rotation=90)\n",
        "\n",
        "plt.subplot(1, 2, 2)\n",
        "sns.boxplot(data=df_ultrabook, y=\"Weight_kg\", x=\"Company\")\n",
        "plt.xticks(rotation=90)\n",
        "\n",
        "plt.show()"
      ]
    },
    {
      "cell_type": "markdown",
      "id": "5503e411",
      "metadata": {
        "id": "5503e411"
      },
      "source": [
        "**Observations**\n",
        "\n",
        "- `Apple`, `Samsung`, `Huawei` and `LG` have the lightest Ultrabooks. \n",
        "- A few `Samsung`, `Apple` laptops weigh less than one KG. \n",
        "- we dont know if working executives prefer light weight laptops from this data."
      ]
    },
    {
      "cell_type": "markdown",
      "id": "76fd438d",
      "metadata": {
        "id": "76fd438d"
      },
      "source": [
        "**Q7. Does working executives have a preference for small laptops running on Windows OS? How many laptops across different brands running on Windows OS have a screen size less than 14 inches?**"
      ]
    },
    {
      "cell_type": "code",
      "execution_count": null,
      "id": "755b677b",
      "metadata": {
        "id": "755b677b",
        "outputId": "b4be5f63-60ff-4f49-b248-8aaee421c1b7"
      },
      "outputs": [
        {
          "data": {
            "text/plain": [
              "Windows 10      1072\n",
              "No OS             66\n",
              "Linux             62\n",
              "Windows 7         45\n",
              "Chrome OS         27\n",
              "macOS             13\n",
              "Windows 10 S       8\n",
              "Mac OS X           8\n",
              "Android            2\n",
              "Name: OpSys, dtype: int64"
            ]
          },
          "execution_count": 30,
          "metadata": {},
          "output_type": "execute_result"
        },
        {
          "data": {
            "application/javascript": [
              "\n",
              "            setTimeout(function() {\n",
              "                var nbb_cell_id = 30;\n",
              "                var nbb_unformatted_code = \"df1.OpSys.value_counts()\";\n",
              "                var nbb_formatted_code = \"df1.OpSys.value_counts()\";\n",
              "                var nbb_cells = Jupyter.notebook.get_cells();\n",
              "                for (var i = 0; i < nbb_cells.length; ++i) {\n",
              "                    if (nbb_cells[i].input_prompt_number == nbb_cell_id) {\n",
              "                        if (nbb_cells[i].get_text() == nbb_unformatted_code) {\n",
              "                             nbb_cells[i].set_text(nbb_formatted_code);\n",
              "                        }\n",
              "                        break;\n",
              "                    }\n",
              "                }\n",
              "            }, 500);\n",
              "            "
            ],
            "text/plain": [
              "<IPython.core.display.Javascript object>"
            ]
          },
          "metadata": {},
          "output_type": "display_data"
        }
      ],
      "source": [
        "df1.OpSys.value_counts()"
      ]
    },
    {
      "cell_type": "code",
      "execution_count": null,
      "id": "f1d6a6f0",
      "metadata": {
        "id": "f1d6a6f0",
        "outputId": "16f1a490-8711-4aff-a364-bb77a4bf49b1"
      },
      "outputs": [
        {
          "data": {
            "text/plain": [
              "Windows    1125\n",
              "No           66\n",
              "Linux        62\n",
              "Chrome       27\n",
              "macOS        13\n",
              "Mac           8\n",
              "Android       2\n",
              "Name: OS, dtype: int64"
            ]
          },
          "execution_count": 31,
          "metadata": {},
          "output_type": "execute_result"
        },
        {
          "data": {
            "application/javascript": [
              "\n",
              "            setTimeout(function() {\n",
              "                var nbb_cell_id = 31;\n",
              "                var nbb_unformatted_code = \"df1[\\\"OS\\\"] = df1[\\\"OpSys\\\"].str.split(\\\" \\\").str[0]\\ndf1[\\\"OS\\\"].value_counts()\";\n",
              "                var nbb_formatted_code = \"df1[\\\"OS\\\"] = df1[\\\"OpSys\\\"].str.split(\\\" \\\").str[0]\\ndf1[\\\"OS\\\"].value_counts()\";\n",
              "                var nbb_cells = Jupyter.notebook.get_cells();\n",
              "                for (var i = 0; i < nbb_cells.length; ++i) {\n",
              "                    if (nbb_cells[i].input_prompt_number == nbb_cell_id) {\n",
              "                        if (nbb_cells[i].get_text() == nbb_unformatted_code) {\n",
              "                             nbb_cells[i].set_text(nbb_formatted_code);\n",
              "                        }\n",
              "                        break;\n",
              "                    }\n",
              "                }\n",
              "            }, 500);\n",
              "            "
            ],
            "text/plain": [
              "<IPython.core.display.Javascript object>"
            ]
          },
          "metadata": {},
          "output_type": "display_data"
        }
      ],
      "source": [
        "df1[\"OS\"] = df1[\"OpSys\"].str.split(\" \").str[0]\n",
        "df1[\"OS\"].value_counts()"
      ]
    },
    {
      "cell_type": "code",
      "execution_count": null,
      "id": "07880c8b",
      "metadata": {
        "id": "07880c8b",
        "outputId": "e6cc16e7-596e-49f4-f055-f43100fd1c3a"
      },
      "outputs": [
        {
          "data": {
            "text/plain": [
              "Windows    1125\n",
              "NA           66\n",
              "Linux        62\n",
              "Chrome       27\n",
              "MacOS        21\n",
              "Android       2\n",
              "Name: OS, dtype: int64"
            ]
          },
          "execution_count": 32,
          "metadata": {},
          "output_type": "execute_result"
        },
        {
          "data": {
            "application/javascript": [
              "\n",
              "            setTimeout(function() {\n",
              "                var nbb_cell_id = 32;\n",
              "                var nbb_unformatted_code = \"df1[\\\"OS\\\"] = [\\n    \\\"NA\\\" if item == \\\"No\\\" else \\\"MacOS\\\" if item.lower().startswith(\\\"mac\\\") else item\\n    for item in df1.OS.values\\n]\\ndf1[\\\"OS\\\"].value_counts()\";\n",
              "                var nbb_formatted_code = \"df1[\\\"OS\\\"] = [\\n    \\\"NA\\\" if item == \\\"No\\\" else \\\"MacOS\\\" if item.lower().startswith(\\\"mac\\\") else item\\n    for item in df1.OS.values\\n]\\ndf1[\\\"OS\\\"].value_counts()\";\n",
              "                var nbb_cells = Jupyter.notebook.get_cells();\n",
              "                for (var i = 0; i < nbb_cells.length; ++i) {\n",
              "                    if (nbb_cells[i].input_prompt_number == nbb_cell_id) {\n",
              "                        if (nbb_cells[i].get_text() == nbb_unformatted_code) {\n",
              "                             nbb_cells[i].set_text(nbb_formatted_code);\n",
              "                        }\n",
              "                        break;\n",
              "                    }\n",
              "                }\n",
              "            }, 500);\n",
              "            "
            ],
            "text/plain": [
              "<IPython.core.display.Javascript object>"
            ]
          },
          "metadata": {},
          "output_type": "display_data"
        }
      ],
      "source": [
        "df1[\"OS\"] = [\n",
        "    \"NA\" if item == \"No\" else \"MacOS\" if item.lower().startswith(\"mac\") else item\n",
        "    for item in df1.OS.values\n",
        "]\n",
        "df1[\"OS\"].value_counts()"
      ]
    },
    {
      "cell_type": "code",
      "execution_count": null,
      "id": "ee89032d",
      "metadata": {
        "id": "ee89032d",
        "outputId": "93687069-2fc8-46a9-b7e4-980628ea5bb8"
      },
      "outputs": [
        {
          "data": {
            "text/plain": [
              "Lenovo       114\n",
              "HP           104\n",
              "Dell          77\n",
              "Asus          38\n",
              "Toshiba       29\n",
              "Acer          20\n",
              "Mediacom       7\n",
              "Microsoft      6\n",
              "Razer          5\n",
              "Vero           4\n",
              "Samsung        3\n",
              "Huawei         2\n",
              "MSI            2\n",
              "Xiaomi         1\n",
              "Chuwi          1\n",
              "LG             1\n",
              "Name: Company, dtype: int64"
            ]
          },
          "execution_count": 33,
          "metadata": {},
          "output_type": "execute_result"
        },
        {
          "data": {
            "application/javascript": [
              "\n",
              "            setTimeout(function() {\n",
              "                var nbb_cell_id = 33;\n",
              "                var nbb_unformatted_code = \"df_win_small = df1[(df1.OS == \\\"Windows\\\") & (df1.Inches <= 14)]\\ndf_win_small.Company.value_counts()\";\n",
              "                var nbb_formatted_code = \"df_win_small = df1[(df1.OS == \\\"Windows\\\") & (df1.Inches <= 14)]\\ndf_win_small.Company.value_counts()\";\n",
              "                var nbb_cells = Jupyter.notebook.get_cells();\n",
              "                for (var i = 0; i < nbb_cells.length; ++i) {\n",
              "                    if (nbb_cells[i].input_prompt_number == nbb_cell_id) {\n",
              "                        if (nbb_cells[i].get_text() == nbb_unformatted_code) {\n",
              "                             nbb_cells[i].set_text(nbb_formatted_code);\n",
              "                        }\n",
              "                        break;\n",
              "                    }\n",
              "                }\n",
              "            }, 500);\n",
              "            "
            ],
            "text/plain": [
              "<IPython.core.display.Javascript object>"
            ]
          },
          "metadata": {},
          "output_type": "display_data"
        }
      ],
      "source": [
        "df_win_small = df1[(df1.OS == \"Windows\") & (df1.Inches <= 14)]\n",
        "df_win_small.Company.value_counts()"
      ]
    },
    {
      "cell_type": "code",
      "execution_count": null,
      "id": "e5f4d49c",
      "metadata": {
        "id": "e5f4d49c",
        "outputId": "774cc632-328a-4971-e6f1-d19cbd2befc0"
      },
      "outputs": [
        {
          "data": {
            "image/png": "[encoded data removed]",
            "text/plain": [
              "<Figure size 1224x360 with 1 Axes>"
            ]
          },
          "metadata": {},
          "output_type": "display_data"
        },
        {
          "data": {
            "application/javascript": [
              "\n",
              "            setTimeout(function() {\n",
              "                var nbb_cell_id = 34;\n",
              "                var nbb_unformatted_code = \"labeled_barplot(df_win_small, \\\"Company\\\", perc=True)\";\n",
              "                var nbb_formatted_code = \"labeled_barplot(df_win_small, \\\"Company\\\", perc=True)\";\n",
              "                var nbb_cells = Jupyter.notebook.get_cells();\n",
              "                for (var i = 0; i < nbb_cells.length; ++i) {\n",
              "                    if (nbb_cells[i].input_prompt_number == nbb_cell_id) {\n",
              "                        if (nbb_cells[i].get_text() == nbb_unformatted_code) {\n",
              "                             nbb_cells[i].set_text(nbb_formatted_code);\n",
              "                        }\n",
              "                        break;\n",
              "                    }\n",
              "                }\n",
              "            }, 500);\n",
              "            "
            ],
            "text/plain": [
              "<IPython.core.display.Javascript object>"
            ]
          },
          "metadata": {},
          "output_type": "display_data"
        }
      ],
      "source": [
        "labeled_barplot(df_win_small, \"Company\", perc=True)"
      ]
    },
    {
      "cell_type": "markdown",
      "id": "65a4c610",
      "metadata": {
        "id": "65a4c610"
      },
      "source": [
        "**Observations**\n",
        "\n",
        "- Windows OS is the clear winner.\n",
        "- Lenovo & HP manufacture around 52% of the laptops running on windows OS with a screen size less than 15 inches. \n",
        "- Not conclusive, but it does look like working executive prefer small screen with windows os. "
      ]
    },
    {
      "cell_type": "markdown",
      "id": "54b1a354",
      "metadata": {
        "id": "54b1a354"
      },
      "source": [
        "**Q8. Are Linus & Chrome OS are rarer? How many laptops across different brands run on a linux or Chrome operating system?** "
      ]
    },
    {
      "cell_type": "code",
      "execution_count": null,
      "id": "47f77ddf",
      "metadata": {
        "id": "47f77ddf",
        "outputId": "7716e787-cda4-44c5-b6cb-2dc1f7c0824e"
      },
      "outputs": [
        {
          "data": {
            "text/plain": [
              "89"
            ]
          },
          "execution_count": 35,
          "metadata": {},
          "output_type": "execute_result"
        },
        {
          "data": {
            "application/javascript": [
              "\n",
              "            setTimeout(function() {\n",
              "                var nbb_cell_id = 35;\n",
              "                var nbb_unformatted_code = \"df_linux_chrome = df1[(df1.OS == \\\"Linux\\\") | (df1.OS == \\\"Chrome\\\")]\\ndf_linux_chrome.shape[0]\";\n",
              "                var nbb_formatted_code = \"df_linux_chrome = df1[(df1.OS == \\\"Linux\\\") | (df1.OS == \\\"Chrome\\\")]\\ndf_linux_chrome.shape[0]\";\n",
              "                var nbb_cells = Jupyter.notebook.get_cells();\n",
              "                for (var i = 0; i < nbb_cells.length; ++i) {\n",
              "                    if (nbb_cells[i].input_prompt_number == nbb_cell_id) {\n",
              "                        if (nbb_cells[i].get_text() == nbb_unformatted_code) {\n",
              "                             nbb_cells[i].set_text(nbb_formatted_code);\n",
              "                        }\n",
              "                        break;\n",
              "                    }\n",
              "                }\n",
              "            }, 500);\n",
              "            "
            ],
            "text/plain": [
              "<IPython.core.display.Javascript object>"
            ]
          },
          "metadata": {},
          "output_type": "display_data"
        }
      ],
      "source": [
        "df_linux_chrome = df1[(df1.OS == \"Linux\") | (df1.OS == \"Chrome\")]\n",
        "df_linux_chrome.shape[0]"
      ]
    },
    {
      "cell_type": "code",
      "execution_count": null,
      "id": "a3250e44",
      "metadata": {
        "id": "a3250e44",
        "outputId": "39591fed-b455-4197-a3e4-77b2498ecb39"
      },
      "outputs": [
        {
          "data": {
            "text/plain": [
              "OS      Company\n",
              "Chrome  Acer       11\n",
              "        Asus        3\n",
              "        Dell        1\n",
              "        Google      3\n",
              "        HP          4\n",
              "        Lenovo      3\n",
              "        Samsung     2\n",
              "Linux   Acer       16\n",
              "        Asus       10\n",
              "        Dell       36\n",
              "Name: Product, dtype: int64"
            ]
          },
          "execution_count": 36,
          "metadata": {},
          "output_type": "execute_result"
        },
        {
          "data": {
            "application/javascript": [
              "\n",
              "            setTimeout(function() {\n",
              "                var nbb_cell_id = 36;\n",
              "                var nbb_unformatted_code = \"df_linux_chrome.groupby([\\\"OS\\\", \\\"Company\\\"]).Product.count()\";\n",
              "                var nbb_formatted_code = \"df_linux_chrome.groupby([\\\"OS\\\", \\\"Company\\\"]).Product.count()\";\n",
              "                var nbb_cells = Jupyter.notebook.get_cells();\n",
              "                for (var i = 0; i < nbb_cells.length; ++i) {\n",
              "                    if (nbb_cells[i].input_prompt_number == nbb_cell_id) {\n",
              "                        if (nbb_cells[i].get_text() == nbb_unformatted_code) {\n",
              "                             nbb_cells[i].set_text(nbb_formatted_code);\n",
              "                        }\n",
              "                        break;\n",
              "                    }\n",
              "                }\n",
              "            }, 500);\n",
              "            "
            ],
            "text/plain": [
              "<IPython.core.display.Javascript object>"
            ]
          },
          "metadata": {},
          "output_type": "display_data"
        }
      ],
      "source": [
        "df_linux_chrome.groupby([\"OS\", \"Company\"]).Product.count()"
      ]
    },
    {
      "cell_type": "code",
      "execution_count": null,
      "id": "0a639798",
      "metadata": {
        "id": "0a639798",
        "outputId": "ecbc0ca8-f489-4fa4-e8b4-0fda1cc644a8"
      },
      "outputs": [
        {
          "data": {
            "text/plain": [
              "(array([0, 1]), [Text(0, 0, 'Linux'), Text(1, 0, 'Chrome')])"
            ]
          },
          "execution_count": 37,
          "metadata": {},
          "output_type": "execute_result"
        },
        {
          "data": {
            "image/png": "[encoded data removed]",
            "text/plain": [
              "<Figure size 864x432 with 1 Axes>"
            ]
          },
          "metadata": {},
          "output_type": "display_data"
        },
        {
          "data": {
            "application/javascript": [
              "\n",
              "            setTimeout(function() {\n",
              "                var nbb_cell_id = 37;\n",
              "                var nbb_unformatted_code = \"plt.figure(figsize=(12, 6))\\nsns.countplot(data=df_linux_chrome, x=\\\"OS\\\", hue=\\\"Company\\\")\\nplt.xticks(rotation=45)\";\n",
              "                var nbb_formatted_code = \"plt.figure(figsize=(12, 6))\\nsns.countplot(data=df_linux_chrome, x=\\\"OS\\\", hue=\\\"Company\\\")\\nplt.xticks(rotation=45)\";\n",
              "                var nbb_cells = Jupyter.notebook.get_cells();\n",
              "                for (var i = 0; i < nbb_cells.length; ++i) {\n",
              "                    if (nbb_cells[i].input_prompt_number == nbb_cell_id) {\n",
              "                        if (nbb_cells[i].get_text() == nbb_unformatted_code) {\n",
              "                             nbb_cells[i].set_text(nbb_formatted_code);\n",
              "                        }\n",
              "                        break;\n",
              "                    }\n",
              "                }\n",
              "            }, 500);\n",
              "            "
            ],
            "text/plain": [
              "<IPython.core.display.Javascript object>"
            ]
          },
          "metadata": {},
          "output_type": "display_data"
        }
      ],
      "source": [
        "plt.figure(figsize=(12, 6))\n",
        "sns.countplot(data=df_linux_chrome, x=\"OS\", hue=\"Company\")\n",
        "plt.xticks(rotation=45)"
      ]
    },
    {
      "cell_type": "markdown",
      "id": "62c7c40c",
      "metadata": {
        "id": "62c7c40c"
      },
      "source": [
        "**Observations**\n",
        "\n",
        "- Linux and Chorme OS are not used a lot. \n",
        "- Dell has the highest number of laptops running on Linus. \n",
        "- Acer has the highest number of laptops running on Chrome OS."
      ]
    },
    {
      "cell_type": "markdown",
      "id": "7dcde192",
      "metadata": {
        "id": "7dcde192"
      },
      "source": [
        "**Q9. High-resolution screens are good to have in laptops for entertainment purposes. How many laptops are available for different companies with screen resolutions better than 1600x900?**"
      ]
    },
    {
      "cell_type": "code",
      "execution_count": null,
      "id": "da2dae20",
      "metadata": {
        "id": "da2dae20",
        "outputId": "64dbcb16-962f-4a70-c57a-eac74adf879d"
      },
      "outputs": [
        {
          "data": {
            "text/html": [
              "<div>\n",
              "<style scoped>\n",
              "    .dataframe tbody tr th:only-of-type {\n",
              "        vertical-align: middle;\n",
              "    }\n",
              "\n",
              "    .dataframe tbody tr th {\n",
              "        vertical-align: top;\n",
              "    }\n",
              "\n",
              "    .dataframe thead th {\n",
              "        text-align: right;\n",
              "    }\n",
              "</style>\n",
              "<table border=\"1\" class=\"dataframe\">\n",
              "  <thead>\n",
              "    <tr style=\"text-align: right;\">\n",
              "      <th></th>\n",
              "      <th>ScrRes</th>\n",
              "      <th>ScreenResolution</th>\n",
              "    </tr>\n",
              "  </thead>\n",
              "  <tbody>\n",
              "    <tr>\n",
              "      <th>0</th>\n",
              "      <td>2560x1600</td>\n",
              "      <td>IPS Panel Retina Display 2560x1600</td>\n",
              "    </tr>\n",
              "    <tr>\n",
              "      <th>1</th>\n",
              "      <td>1440x900</td>\n",
              "      <td>1440x900</td>\n",
              "    </tr>\n",
              "    <tr>\n",
              "      <th>2</th>\n",
              "      <td>1920x1080</td>\n",
              "      <td>Full HD 1920x1080</td>\n",
              "    </tr>\n",
              "    <tr>\n",
              "      <th>3</th>\n",
              "      <td>2880x1800</td>\n",
              "      <td>IPS Panel Retina Display 2880x1800</td>\n",
              "    </tr>\n",
              "    <tr>\n",
              "      <th>4</th>\n",
              "      <td>2560x1600</td>\n",
              "      <td>IPS Panel Retina Display 2560x1600</td>\n",
              "    </tr>\n",
              "  </tbody>\n",
              "</table>\n",
              "</div>"
            ],
            "text/plain": [
              "      ScrRes                    ScreenResolution\n",
              "0  2560x1600  IPS Panel Retina Display 2560x1600\n",
              "1   1440x900                            1440x900\n",
              "2  1920x1080                   Full HD 1920x1080\n",
              "3  2880x1800  IPS Panel Retina Display 2880x1800\n",
              "4  2560x1600  IPS Panel Retina Display 2560x1600"
            ]
          },
          "execution_count": 38,
          "metadata": {},
          "output_type": "execute_result"
        },
        {
          "data": {
            "application/javascript": [
              "\n",
              "            setTimeout(function() {\n",
              "                var nbb_cell_id = 38;\n",
              "                var nbb_unformatted_code = \"# extract the screen resolution\\ndf1[\\\"ScrRes\\\"] = df1[\\\"ScreenResolution\\\"].str.split(\\\" \\\").str[-1]\\ndf1[[\\\"ScrRes\\\", \\\"ScreenResolution\\\"]].head()\";\n",
              "                var nbb_formatted_code = \"# extract the screen resolution\\ndf1[\\\"ScrRes\\\"] = df1[\\\"ScreenResolution\\\"].str.split(\\\" \\\").str[-1]\\ndf1[[\\\"ScrRes\\\", \\\"ScreenResolution\\\"]].head()\";\n",
              "                var nbb_cells = Jupyter.notebook.get_cells();\n",
              "                for (var i = 0; i < nbb_cells.length; ++i) {\n",
              "                    if (nbb_cells[i].input_prompt_number == nbb_cell_id) {\n",
              "                        if (nbb_cells[i].get_text() == nbb_unformatted_code) {\n",
              "                             nbb_cells[i].set_text(nbb_formatted_code);\n",
              "                        }\n",
              "                        break;\n",
              "                    }\n",
              "                }\n",
              "            }, 500);\n",
              "            "
            ],
            "text/plain": [
              "<IPython.core.display.Javascript object>"
            ]
          },
          "metadata": {},
          "output_type": "display_data"
        }
      ],
      "source": [
        "# extract the screen resolution\n",
        "df1[\"ScrRes\"] = df1[\"ScreenResolution\"].str.split(\" \").str[-1]\n",
        "df1[[\"ScrRes\", \"ScreenResolution\"]].head()"
      ]
    },
    {
      "cell_type": "code",
      "execution_count": null,
      "id": "7ae893ba",
      "metadata": {
        "id": "7ae893ba",
        "outputId": "43862ddb-6c20-4d22-9825-50e15ac59bf6"
      },
      "outputs": [
        {
          "data": {
            "text/plain": [
              "1920x1080    841\n",
              "1366x768     308\n",
              "3840x2160     43\n",
              "3200x1800     27\n",
              "2560x1440     23\n",
              "1600x900      23\n",
              "2256x1504      6\n",
              "2304x1440      6\n",
              "2560x1600      6\n",
              "1920x1200      5\n",
              "2400x1600      4\n",
              "2880x1800      4\n",
              "1440x900       4\n",
              "2160x1440      2\n",
              "2736x1824      1\n",
              "Name: ScrRes, dtype: int64"
            ]
          },
          "execution_count": 39,
          "metadata": {},
          "output_type": "execute_result"
        },
        {
          "data": {
            "application/javascript": [
              "\n",
              "            setTimeout(function() {\n",
              "                var nbb_cell_id = 39;\n",
              "                var nbb_unformatted_code = \"df1.drop(\\\"ScreenResolution\\\", axis=1, inplace=True)\\ndf1.ScrRes.value_counts()\";\n",
              "                var nbb_formatted_code = \"df1.drop(\\\"ScreenResolution\\\", axis=1, inplace=True)\\ndf1.ScrRes.value_counts()\";\n",
              "                var nbb_cells = Jupyter.notebook.get_cells();\n",
              "                for (var i = 0; i < nbb_cells.length; ++i) {\n",
              "                    if (nbb_cells[i].input_prompt_number == nbb_cell_id) {\n",
              "                        if (nbb_cells[i].get_text() == nbb_unformatted_code) {\n",
              "                             nbb_cells[i].set_text(nbb_formatted_code);\n",
              "                        }\n",
              "                        break;\n",
              "                    }\n",
              "                }\n",
              "            }, 500);\n",
              "            "
            ],
            "text/plain": [
              "<IPython.core.display.Javascript object>"
            ]
          },
          "metadata": {},
          "output_type": "display_data"
        }
      ],
      "source": [
        "df1.drop(\"ScreenResolution\", axis=1, inplace=True)\n",
        "df1.ScrRes.value_counts()"
      ]
    },
    {
      "cell_type": "code",
      "execution_count": null,
      "id": "0f3c0edd",
      "metadata": {
        "id": "0f3c0edd",
        "outputId": "92134513-207d-4abd-e3e6-adde119a0b35"
      },
      "outputs": [
        {
          "data": {
            "text/plain": [
              "count   1303.00\n",
              "mean    1894.78\n",
              "std      494.64\n",
              "min     1366.00\n",
              "25%     1600.00\n",
              "50%     1920.00\n",
              "75%     1920.00\n",
              "max     3840.00\n",
              "Name: ScrRes_C1, dtype: float64"
            ]
          },
          "execution_count": 40,
          "metadata": {},
          "output_type": "execute_result"
        },
        {
          "data": {
            "application/javascript": [
              "\n",
              "            setTimeout(function() {\n",
              "                var nbb_cell_id = 40;\n",
              "                var nbb_unformatted_code = \"df1[\\\"ScrRes_C1\\\"] = df1.ScrRes.str[:4].astype(float)\\ndf1[\\\"ScrRes_C1\\\"].describe()\";\n",
              "                var nbb_formatted_code = \"df1[\\\"ScrRes_C1\\\"] = df1.ScrRes.str[:4].astype(float)\\ndf1[\\\"ScrRes_C1\\\"].describe()\";\n",
              "                var nbb_cells = Jupyter.notebook.get_cells();\n",
              "                for (var i = 0; i < nbb_cells.length; ++i) {\n",
              "                    if (nbb_cells[i].input_prompt_number == nbb_cell_id) {\n",
              "                        if (nbb_cells[i].get_text() == nbb_unformatted_code) {\n",
              "                             nbb_cells[i].set_text(nbb_formatted_code);\n",
              "                        }\n",
              "                        break;\n",
              "                    }\n",
              "                }\n",
              "            }, 500);\n",
              "            "
            ],
            "text/plain": [
              "<IPython.core.display.Javascript object>"
            ]
          },
          "metadata": {},
          "output_type": "display_data"
        }
      ],
      "source": [
        "df1[\"ScrRes_C1\"] = df1.ScrRes.str[:4].astype(float)\n",
        "df1[\"ScrRes_C1\"].describe()"
      ]
    },
    {
      "cell_type": "code",
      "execution_count": null,
      "id": "c9e1b87c",
      "metadata": {
        "id": "c9e1b87c",
        "outputId": "8d0fb85a-7d70-4f7e-c2c1-73c3af0c5d1c"
      },
      "outputs": [
        {
          "data": {
            "text/plain": [
              "Lenovo       231\n",
              "Dell         226\n",
              "HP           195\n",
              "Asus         116\n",
              "MSI           54\n",
              "Acer          51\n",
              "Toshiba       33\n",
              "Apple         16\n",
              "Samsung        8\n",
              "Razer          7\n",
              "Mediacom       7\n",
              "Microsoft      6\n",
              "Xiaomi         4\n",
              "Google         3\n",
              "Chuwi          3\n",
              "LG             3\n",
              "Vero           3\n",
              "Huawei         2\n",
              "Name: Company, dtype: int64"
            ]
          },
          "execution_count": 41,
          "metadata": {},
          "output_type": "execute_result"
        },
        {
          "data": {
            "application/javascript": [
              "\n",
              "            setTimeout(function() {\n",
              "                var nbb_cell_id = 41;\n",
              "                var nbb_unformatted_code = \"df_highres = df1[df1.ScrRes_C1 > 1600]\\ndf_highres.Company.value_counts()\";\n",
              "                var nbb_formatted_code = \"df_highres = df1[df1.ScrRes_C1 > 1600]\\ndf_highres.Company.value_counts()\";\n",
              "                var nbb_cells = Jupyter.notebook.get_cells();\n",
              "                for (var i = 0; i < nbb_cells.length; ++i) {\n",
              "                    if (nbb_cells[i].input_prompt_number == nbb_cell_id) {\n",
              "                        if (nbb_cells[i].get_text() == nbb_unformatted_code) {\n",
              "                             nbb_cells[i].set_text(nbb_formatted_code);\n",
              "                        }\n",
              "                        break;\n",
              "                    }\n",
              "                }\n",
              "            }, 500);\n",
              "            "
            ],
            "text/plain": [
              "<IPython.core.display.Javascript object>"
            ]
          },
          "metadata": {},
          "output_type": "display_data"
        }
      ],
      "source": [
        "df_highres = df1[df1.ScrRes_C1 > 1600]\n",
        "df_highres.Company.value_counts()"
      ]
    },
    {
      "cell_type": "code",
      "execution_count": null,
      "id": "2cac978f",
      "metadata": {
        "id": "2cac978f",
        "outputId": "3148c578-cd09-4cce-9d8a-d985425a1fb1"
      },
      "outputs": [
        {
          "data": {
            "image/png": "[encoded data removed]",
            "text/plain": [
              "<Figure size 1368x360 with 1 Axes>"
            ]
          },
          "metadata": {},
          "output_type": "display_data"
        },
        {
          "data": {
            "application/javascript": [
              "\n",
              "            setTimeout(function() {\n",
              "                var nbb_cell_id = 42;\n",
              "                var nbb_unformatted_code = \"labeled_barplot(df_highres, \\\"Company\\\")\";\n",
              "                var nbb_formatted_code = \"labeled_barplot(df_highres, \\\"Company\\\")\";\n",
              "                var nbb_cells = Jupyter.notebook.get_cells();\n",
              "                for (var i = 0; i < nbb_cells.length; ++i) {\n",
              "                    if (nbb_cells[i].input_prompt_number == nbb_cell_id) {\n",
              "                        if (nbb_cells[i].get_text() == nbb_unformatted_code) {\n",
              "                             nbb_cells[i].set_text(nbb_formatted_code);\n",
              "                        }\n",
              "                        break;\n",
              "                    }\n",
              "                }\n",
              "            }, 500);\n",
              "            "
            ],
            "text/plain": [
              "<IPython.core.display.Javascript object>"
            ]
          },
          "metadata": {},
          "output_type": "display_data"
        }
      ],
      "source": [
        "labeled_barplot(df_highres, \"Company\")"
      ]
    },
    {
      "cell_type": "markdown",
      "id": "7dcb25e1",
      "metadata": {
        "id": "7dcb25e1"
      },
      "source": [
        "**Observations**\n",
        "\n",
        "- `HP`, `Dell` and `Lenovo` provide many more options for those looking for laptops with higher screen resolutions. "
      ]
    },
    {
      "cell_type": "markdown",
      "id": "311dda77",
      "metadata": {
        "id": "311dda77"
      },
      "source": [
        "**Q10. What percentage of laptops in each company have high-resolution screens?**"
      ]
    },
    {
      "cell_type": "code",
      "execution_count": null,
      "id": "dd80c340",
      "metadata": {
        "id": "dd80c340",
        "outputId": "350a668f-ca8e-4047-a5bb-04a21ce43cbb"
      },
      "outputs": [
        {
          "data": {
            "text/plain": [
              "array(['Apple', 'HP', 'Asus', 'Acer', 'Dell', 'Lenovo', 'Chuwi', 'MSI',\n",
              "       'Microsoft', 'Huawei', 'Xiaomi', 'Vero', 'Razer', 'Toshiba',\n",
              "       'Mediacom', 'Google', 'Samsung', 'LG'], dtype=object)"
            ]
          },
          "execution_count": 43,
          "metadata": {},
          "output_type": "execute_result"
        },
        {
          "data": {
            "application/javascript": [
              "\n",
              "            setTimeout(function() {\n",
              "                var nbb_cell_id = 43;\n",
              "                var nbb_unformatted_code = \"df_highres.Company.unique()\";\n",
              "                var nbb_formatted_code = \"df_highres.Company.unique()\";\n",
              "                var nbb_cells = Jupyter.notebook.get_cells();\n",
              "                for (var i = 0; i < nbb_cells.length; ++i) {\n",
              "                    if (nbb_cells[i].input_prompt_number == nbb_cell_id) {\n",
              "                        if (nbb_cells[i].get_text() == nbb_unformatted_code) {\n",
              "                             nbb_cells[i].set_text(nbb_formatted_code);\n",
              "                        }\n",
              "                        break;\n",
              "                    }\n",
              "                }\n",
              "            }, 500);\n",
              "            "
            ],
            "text/plain": [
              "<IPython.core.display.Javascript object>"
            ]
          },
          "metadata": {},
          "output_type": "display_data"
        }
      ],
      "source": [
        "df_highres.Company.unique()"
      ]
    },
    {
      "cell_type": "code",
      "execution_count": null,
      "id": "5c16ff9d",
      "metadata": {
        "id": "5c16ff9d",
        "outputId": "e1fc8691-e6c6-4d5b-b38a-a2550f695cce"
      },
      "outputs": [
        {
          "data": {
            "text/plain": [
              "array(['Apple', 'HP', 'Acer', 'Asus', 'Dell', 'Lenovo', 'Chuwi', 'MSI',\n",
              "       'Microsoft', 'Toshiba', 'Huawei', 'Xiaomi', 'Vero', 'Razer',\n",
              "       'Mediacom', 'Samsung', 'Google', 'Fujitsu', 'LG'], dtype=object)"
            ]
          },
          "execution_count": 44,
          "metadata": {},
          "output_type": "execute_result"
        },
        {
          "data": {
            "application/javascript": [
              "\n",
              "            setTimeout(function() {\n",
              "                var nbb_cell_id = 44;\n",
              "                var nbb_unformatted_code = \"df.Company.unique()\";\n",
              "                var nbb_formatted_code = \"df.Company.unique()\";\n",
              "                var nbb_cells = Jupyter.notebook.get_cells();\n",
              "                for (var i = 0; i < nbb_cells.length; ++i) {\n",
              "                    if (nbb_cells[i].input_prompt_number == nbb_cell_id) {\n",
              "                        if (nbb_cells[i].get_text() == nbb_unformatted_code) {\n",
              "                             nbb_cells[i].set_text(nbb_formatted_code);\n",
              "                        }\n",
              "                        break;\n",
              "                    }\n",
              "                }\n",
              "            }, 500);\n",
              "            "
            ],
            "text/plain": [
              "<IPython.core.display.Javascript object>"
            ]
          },
          "metadata": {},
          "output_type": "display_data"
        }
      ],
      "source": [
        "df.Company.unique()"
      ]
    },
    {
      "cell_type": "code",
      "execution_count": null,
      "id": "067c446f",
      "metadata": {
        "id": "067c446f",
        "outputId": "5b34b5d9-3fe3-4bcf-f607-e0b676e1b323"
      },
      "outputs": [
        {
          "data": {
            "text/plain": [
              "Acer        0.50\n",
              "Apple       0.76\n",
              "Asus        0.73\n",
              "Chuwi       1.00\n",
              "Dell        0.76\n",
              "Google      1.00\n",
              "HP          0.71\n",
              "Huawei      1.00\n",
              "LG          1.00\n",
              "Lenovo      0.78\n",
              "MSI         1.00\n",
              "Mediacom    1.00\n",
              "Microsoft   1.00\n",
              "Razer       1.00\n",
              "Samsung     0.89\n",
              "Toshiba     0.69\n",
              "Vero        0.75\n",
              "Xiaomi      1.00\n",
              "Name: Company, dtype: float64"
            ]
          },
          "execution_count": 45,
          "metadata": {},
          "output_type": "execute_result"
        },
        {
          "data": {
            "application/javascript": [
              "\n",
              "            setTimeout(function() {\n",
              "                var nbb_cell_id = 45;\n",
              "                var nbb_unformatted_code = \"# let us compute the percentage of laptops in each company having high resolution screens\\ndf_highres.Company.value_counts() / df[df.Company != \\\"Fujitsu\\\"].Company.value_counts()\";\n",
              "                var nbb_formatted_code = \"# let us compute the percentage of laptops in each company having high resolution screens\\ndf_highres.Company.value_counts() / df[df.Company != \\\"Fujitsu\\\"].Company.value_counts()\";\n",
              "                var nbb_cells = Jupyter.notebook.get_cells();\n",
              "                for (var i = 0; i < nbb_cells.length; ++i) {\n",
              "                    if (nbb_cells[i].input_prompt_number == nbb_cell_id) {\n",
              "                        if (nbb_cells[i].get_text() == nbb_unformatted_code) {\n",
              "                             nbb_cells[i].set_text(nbb_formatted_code);\n",
              "                        }\n",
              "                        break;\n",
              "                    }\n",
              "                }\n",
              "            }, 500);\n",
              "            "
            ],
            "text/plain": [
              "<IPython.core.display.Javascript object>"
            ]
          },
          "metadata": {},
          "output_type": "display_data"
        }
      ],
      "source": [
        "# let us compute the percentage of laptops in each company that have high resolution screens\n",
        "df_highres.Company.value_counts() / df[df.Company != \"Fujitsu\"].Company.value_counts()"
      ]
    },
    {
      "cell_type": "markdown",
      "id": "1b312a31",
      "metadata": {
        "id": "1b312a31"
      },
      "source": [
        "**Observations**\n",
        "\n",
        "- `Fujitsu` does not manufacture laptops with high resolution screens. \n",
        "- Many companies manufacture laptops with high resolution screens. "
      ]
    },
    {
      "cell_type": "markdown",
      "id": "69c58701",
      "metadata": {
        "id": "69c58701"
      },
      "source": [
        "**Q11. Intel and AMD are primary manufacturers of processors. How does the speed of processing vary between these two processor manufacturers for laptops of different types of Notebook?**"
      ]
    },
    {
      "cell_type": "code",
      "execution_count": null,
      "id": "0ac72818",
      "metadata": {
        "id": "0ac72818",
        "outputId": "3b3dbd81-abf9-4d52-9d13-24267d6487d3"
      },
      "outputs": [
        {
          "data": {
            "text/html": [
              "<div>\n",
              "<style scoped>\n",
              "    .dataframe tbody tr th:only-of-type {\n",
              "        vertical-align: middle;\n",
              "    }\n",
              "\n",
              "    .dataframe tbody tr th {\n",
              "        vertical-align: top;\n",
              "    }\n",
              "\n",
              "    .dataframe thead th {\n",
              "        text-align: right;\n",
              "    }\n",
              "</style>\n",
              "<table border=\"1\" class=\"dataframe\">\n",
              "  <thead>\n",
              "    <tr style=\"text-align: right;\">\n",
              "      <th></th>\n",
              "      <th>laptop_ID</th>\n",
              "      <th>Company</th>\n",
              "      <th>Product</th>\n",
              "      <th>TypeName</th>\n",
              "      <th>Inches</th>\n",
              "      <th>Cpu</th>\n",
              "      <th>Memory</th>\n",
              "      <th>Gpu</th>\n",
              "      <th>OpSys</th>\n",
              "      <th>Price_euros</th>\n",
              "      <th>RAM_GB</th>\n",
              "      <th>GPU_Nvidia_GTX</th>\n",
              "      <th>Weight_kg</th>\n",
              "      <th>OS</th>\n",
              "      <th>ScrRes</th>\n",
              "      <th>ScrRes_C1</th>\n",
              "    </tr>\n",
              "  </thead>\n",
              "  <tbody>\n",
              "    <tr>\n",
              "      <th>0</th>\n",
              "      <td>1</td>\n",
              "      <td>Apple</td>\n",
              "      <td>MacBook Pro</td>\n",
              "      <td>Ultrabook</td>\n",
              "      <td>13.30</td>\n",
              "      <td>Intel Core i5 2.3GHz</td>\n",
              "      <td>128GB SSD</td>\n",
              "      <td>Intel Iris Plus Graphics 640</td>\n",
              "      <td>macOS</td>\n",
              "      <td>1339.69</td>\n",
              "      <td>8.00</td>\n",
              "      <td>0</td>\n",
              "      <td>1.37</td>\n",
              "      <td>MacOS</td>\n",
              "      <td>2560x1600</td>\n",
              "      <td>2560.00</td>\n",
              "    </tr>\n",
              "    <tr>\n",
              "      <th>1</th>\n",
              "      <td>2</td>\n",
              "      <td>Apple</td>\n",
              "      <td>Macbook Air</td>\n",
              "      <td>Ultrabook</td>\n",
              "      <td>13.30</td>\n",
              "      <td>Intel Core i5 1.8GHz</td>\n",
              "      <td>128GB Flash Storage</td>\n",
              "      <td>Intel HD Graphics 6000</td>\n",
              "      <td>macOS</td>\n",
              "      <td>898.94</td>\n",
              "      <td>8.00</td>\n",
              "      <td>0</td>\n",
              "      <td>1.34</td>\n",
              "      <td>MacOS</td>\n",
              "      <td>1440x900</td>\n",
              "      <td>1440.00</td>\n",
              "    </tr>\n",
              "    <tr>\n",
              "      <th>2</th>\n",
              "      <td>3</td>\n",
              "      <td>HP</td>\n",
              "      <td>250 G6</td>\n",
              "      <td>Notebook</td>\n",
              "      <td>15.60</td>\n",
              "      <td>Intel Core i5 7200U 2.5GHz</td>\n",
              "      <td>256GB SSD</td>\n",
              "      <td>Intel HD Graphics 620</td>\n",
              "      <td>No OS</td>\n",
              "      <td>575.00</td>\n",
              "      <td>8.00</td>\n",
              "      <td>0</td>\n",
              "      <td>1.86</td>\n",
              "      <td>NA</td>\n",
              "      <td>1920x1080</td>\n",
              "      <td>1920.00</td>\n",
              "    </tr>\n",
              "    <tr>\n",
              "      <th>3</th>\n",
              "      <td>4</td>\n",
              "      <td>Apple</td>\n",
              "      <td>MacBook Pro</td>\n",
              "      <td>Ultrabook</td>\n",
              "      <td>15.40</td>\n",
              "      <td>Intel Core i7 2.7GHz</td>\n",
              "      <td>512GB SSD</td>\n",
              "      <td>AMD Radeon Pro 455</td>\n",
              "      <td>macOS</td>\n",
              "      <td>2537.45</td>\n",
              "      <td>16.00</td>\n",
              "      <td>0</td>\n",
              "      <td>1.83</td>\n",
              "      <td>MacOS</td>\n",
              "      <td>2880x1800</td>\n",
              "      <td>2880.00</td>\n",
              "    </tr>\n",
              "    <tr>\n",
              "      <th>4</th>\n",
              "      <td>5</td>\n",
              "      <td>Apple</td>\n",
              "      <td>MacBook Pro</td>\n",
              "      <td>Ultrabook</td>\n",
              "      <td>13.30</td>\n",
              "      <td>Intel Core i5 3.1GHz</td>\n",
              "      <td>256GB SSD</td>\n",
              "      <td>Intel Iris Plus Graphics 650</td>\n",
              "      <td>macOS</td>\n",
              "      <td>1803.60</td>\n",
              "      <td>8.00</td>\n",
              "      <td>0</td>\n",
              "      <td>1.37</td>\n",
              "      <td>MacOS</td>\n",
              "      <td>2560x1600</td>\n",
              "      <td>2560.00</td>\n",
              "    </tr>\n",
              "  </tbody>\n",
              "</table>\n",
              "</div>"
            ],
            "text/plain": [
              "   laptop_ID Company      Product   TypeName  Inches  \\\n",
              "0          1   Apple  MacBook Pro  Ultrabook   13.30   \n",
              "1          2   Apple  Macbook Air  Ultrabook   13.30   \n",
              "2          3      HP       250 G6   Notebook   15.60   \n",
              "3          4   Apple  MacBook Pro  Ultrabook   15.40   \n",
              "4          5   Apple  MacBook Pro  Ultrabook   13.30   \n",
              "\n",
              "                          Cpu               Memory  \\\n",
              "0        Intel Core i5 2.3GHz            128GB SSD   \n",
              "1        Intel Core i5 1.8GHz  128GB Flash Storage   \n",
              "2  Intel Core i5 7200U 2.5GHz            256GB SSD   \n",
              "3        Intel Core i7 2.7GHz            512GB SSD   \n",
              "4        Intel Core i5 3.1GHz            256GB SSD   \n",
              "\n",
              "                            Gpu  OpSys  Price_euros  RAM_GB  GPU_Nvidia_GTX  \\\n",
              "0  Intel Iris Plus Graphics 640  macOS      1339.69    8.00               0   \n",
              "1        Intel HD Graphics 6000  macOS       898.94    8.00               0   \n",
              "2         Intel HD Graphics 620  No OS       575.00    8.00               0   \n",
              "3            AMD Radeon Pro 455  macOS      2537.45   16.00               0   \n",
              "4  Intel Iris Plus Graphics 650  macOS      1803.60    8.00               0   \n",
              "\n",
              "   Weight_kg     OS     ScrRes  ScrRes_C1  \n",
              "0       1.37  MacOS  2560x1600    2560.00  \n",
              "1       1.34  MacOS   1440x900    1440.00  \n",
              "2       1.86     NA  1920x1080    1920.00  \n",
              "3       1.83  MacOS  2880x1800    2880.00  \n",
              "4       1.37  MacOS  2560x1600    2560.00  "
            ]
          },
          "execution_count": 46,
          "metadata": {},
          "output_type": "execute_result"
        },
        {
          "data": {
            "application/javascript": [
              "\n",
              "            setTimeout(function() {\n",
              "                var nbb_cell_id = 46;\n",
              "                var nbb_unformatted_code = \"df1.head()\";\n",
              "                var nbb_formatted_code = \"df1.head()\";\n",
              "                var nbb_cells = Jupyter.notebook.get_cells();\n",
              "                for (var i = 0; i < nbb_cells.length; ++i) {\n",
              "                    if (nbb_cells[i].input_prompt_number == nbb_cell_id) {\n",
              "                        if (nbb_cells[i].get_text() == nbb_unformatted_code) {\n",
              "                             nbb_cells[i].set_text(nbb_formatted_code);\n",
              "                        }\n",
              "                        break;\n",
              "                    }\n",
              "                }\n",
              "            }, 500);\n",
              "            "
            ],
            "text/plain": [
              "<IPython.core.display.Javascript object>"
            ]
          },
          "metadata": {},
          "output_type": "display_data"
        }
      ],
      "source": [
        "df1.head()"
      ]
    },
    {
      "cell_type": "code",
      "execution_count": null,
      "id": "e4bdad39",
      "metadata": {
        "id": "e4bdad39",
        "outputId": "69602274-e740-4d97-bcde-da86c9173d6d"
      },
      "outputs": [
        {
          "data": {
            "application/javascript": [
              "\n",
              "            setTimeout(function() {\n",
              "                var nbb_cell_id = 47;\n",
              "                var nbb_unformatted_code = \"df1[\\\"CPU_mnfc\\\"] = df1.Cpu.str.split().str[0]\\ndf1[\\\"CPU_speed\\\"] = df1.Cpu.str.split().str[-1]\";\n",
              "                var nbb_formatted_code = \"df1[\\\"CPU_mnfc\\\"] = df1.Cpu.str.split().str[0]\\ndf1[\\\"CPU_speed\\\"] = df1.Cpu.str.split().str[-1]\";\n",
              "                var nbb_cells = Jupyter.notebook.get_cells();\n",
              "                for (var i = 0; i < nbb_cells.length; ++i) {\n",
              "                    if (nbb_cells[i].input_prompt_number == nbb_cell_id) {\n",
              "                        if (nbb_cells[i].get_text() == nbb_unformatted_code) {\n",
              "                             nbb_cells[i].set_text(nbb_formatted_code);\n",
              "                        }\n",
              "                        break;\n",
              "                    }\n",
              "                }\n",
              "            }, 500);\n",
              "            "
            ],
            "text/plain": [
              "<IPython.core.display.Javascript object>"
            ]
          },
          "metadata": {},
          "output_type": "display_data"
        }
      ],
      "source": [
        "df1[\"CPU_mnfc\"] = df1.Cpu.str.split().str[0]\n",
        "df1[\"CPU_speed\"] = df1.Cpu.str.split().str[-1]"
      ]
    },
    {
      "cell_type": "code",
      "execution_count": null,
      "id": "8441f04e",
      "metadata": {
        "id": "8441f04e",
        "outputId": "df38f6b7-b540-4e09-baec-8a0797de6d17"
      },
      "outputs": [
        {
          "data": {
            "text/plain": [
              "Intel      1240\n",
              "AMD          62\n",
              "Samsung       1\n",
              "Name: CPU_mnfc, dtype: int64"
            ]
          },
          "execution_count": 48,
          "metadata": {},
          "output_type": "execute_result"
        },
        {
          "data": {
            "application/javascript": [
              "\n",
              "            setTimeout(function() {\n",
              "                var nbb_cell_id = 48;\n",
              "                var nbb_unformatted_code = \"df1.CPU_mnfc.value_counts()\";\n",
              "                var nbb_formatted_code = \"df1.CPU_mnfc.value_counts()\";\n",
              "                var nbb_cells = Jupyter.notebook.get_cells();\n",
              "                for (var i = 0; i < nbb_cells.length; ++i) {\n",
              "                    if (nbb_cells[i].input_prompt_number == nbb_cell_id) {\n",
              "                        if (nbb_cells[i].get_text() == nbb_unformatted_code) {\n",
              "                             nbb_cells[i].set_text(nbb_formatted_code);\n",
              "                        }\n",
              "                        break;\n",
              "                    }\n",
              "                }\n",
              "            }, 500);\n",
              "            "
            ],
            "text/plain": [
              "<IPython.core.display.Javascript object>"
            ]
          },
          "metadata": {},
          "output_type": "display_data"
        }
      ],
      "source": [
        "df1.CPU_mnfc.value_counts()"
      ]
    },
    {
      "cell_type": "code",
      "execution_count": null,
      "id": "d24ab13c",
      "metadata": {
        "id": "d24ab13c",
        "outputId": "7676bfab-c8f9-4c72-aed6-9883370d7bb4"
      },
      "outputs": [
        {
          "data": {
            "text/plain": [
              "['GHz']"
            ]
          },
          "execution_count": 49,
          "metadata": {},
          "output_type": "execute_result"
        },
        {
          "data": {
            "application/javascript": [
              "\n",
              "            setTimeout(function() {\n",
              "                var nbb_cell_id = 49;\n",
              "                var nbb_unformatted_code = \"# checking the units of CPU speed\\ncpu_units = list(set([item[-3:] for item in df1.CPU_speed]))\\ncpu_units\";\n",
              "                var nbb_formatted_code = \"# checking the units of CPU speed\\ncpu_units = list(set([item[-3:] for item in df1.CPU_speed]))\\ncpu_units\";\n",
              "                var nbb_cells = Jupyter.notebook.get_cells();\n",
              "                for (var i = 0; i < nbb_cells.length; ++i) {\n",
              "                    if (nbb_cells[i].input_prompt_number == nbb_cell_id) {\n",
              "                        if (nbb_cells[i].get_text() == nbb_unformatted_code) {\n",
              "                             nbb_cells[i].set_text(nbb_formatted_code);\n",
              "                        }\n",
              "                        break;\n",
              "                    }\n",
              "                }\n",
              "            }, 500);\n",
              "            "
            ],
            "text/plain": [
              "<IPython.core.display.Javascript object>"
            ]
          },
          "metadata": {},
          "output_type": "display_data"
        }
      ],
      "source": [
        "# checking the units of CPU speed\n",
        "cpu_units = list(set([item[-3:] for item in df1.CPU_speed]))\n",
        "cpu_units"
      ]
    },
    {
      "cell_type": "code",
      "execution_count": null,
      "id": "ce56272a",
      "metadata": {
        "id": "ce56272a",
        "outputId": "77f5d343-1b24-438b-9170-e07f6403af30"
      },
      "outputs": [
        {
          "data": {
            "text/html": [
              "<div>\n",
              "<style scoped>\n",
              "    .dataframe tbody tr th:only-of-type {\n",
              "        vertical-align: middle;\n",
              "    }\n",
              "\n",
              "    .dataframe tbody tr th {\n",
              "        vertical-align: top;\n",
              "    }\n",
              "\n",
              "    .dataframe thead th {\n",
              "        text-align: right;\n",
              "    }\n",
              "</style>\n",
              "<table border=\"1\" class=\"dataframe\">\n",
              "  <thead>\n",
              "    <tr style=\"text-align: right;\">\n",
              "      <th></th>\n",
              "      <th>CPU_speed</th>\n",
              "      <th>Cpu</th>\n",
              "    </tr>\n",
              "  </thead>\n",
              "  <tbody>\n",
              "    <tr>\n",
              "      <th>0</th>\n",
              "      <td>2.30</td>\n",
              "      <td>Intel Core i5 2.3GHz</td>\n",
              "    </tr>\n",
              "    <tr>\n",
              "      <th>1</th>\n",
              "      <td>1.80</td>\n",
              "      <td>Intel Core i5 1.8GHz</td>\n",
              "    </tr>\n",
              "    <tr>\n",
              "      <th>2</th>\n",
              "      <td>2.50</td>\n",
              "      <td>Intel Core i5 7200U 2.5GHz</td>\n",
              "    </tr>\n",
              "    <tr>\n",
              "      <th>3</th>\n",
              "      <td>2.70</td>\n",
              "      <td>Intel Core i7 2.7GHz</td>\n",
              "    </tr>\n",
              "    <tr>\n",
              "      <th>4</th>\n",
              "      <td>3.10</td>\n",
              "      <td>Intel Core i5 3.1GHz</td>\n",
              "    </tr>\n",
              "  </tbody>\n",
              "</table>\n",
              "</div>"
            ],
            "text/plain": [
              "   CPU_speed                         Cpu\n",
              "0       2.30        Intel Core i5 2.3GHz\n",
              "1       1.80        Intel Core i5 1.8GHz\n",
              "2       2.50  Intel Core i5 7200U 2.5GHz\n",
              "3       2.70        Intel Core i7 2.7GHz\n",
              "4       3.10        Intel Core i5 3.1GHz"
            ]
          },
          "execution_count": 50,
          "metadata": {},
          "output_type": "execute_result"
        },
        {
          "data": {
            "application/javascript": [
              "\n",
              "            setTimeout(function() {\n",
              "                var nbb_cell_id = 50;\n",
              "                var nbb_unformatted_code = \"# extract the amount of RAM\\ndf1[\\\"CPU_speed\\\"] = df1[\\\"CPU_speed\\\"].str.replace(\\\"GHz\\\", \\\"\\\").astype(float)\\ndf1[[\\\"CPU_speed\\\", \\\"Cpu\\\"]].head()\";\n",
              "                var nbb_formatted_code = \"# extract the amount of RAM\\ndf1[\\\"CPU_speed\\\"] = df1[\\\"CPU_speed\\\"].str.replace(\\\"GHz\\\", \\\"\\\").astype(float)\\ndf1[[\\\"CPU_speed\\\", \\\"Cpu\\\"]].head()\";\n",
              "                var nbb_cells = Jupyter.notebook.get_cells();\n",
              "                for (var i = 0; i < nbb_cells.length; ++i) {\n",
              "                    if (nbb_cells[i].input_prompt_number == nbb_cell_id) {\n",
              "                        if (nbb_cells[i].get_text() == nbb_unformatted_code) {\n",
              "                             nbb_cells[i].set_text(nbb_formatted_code);\n",
              "                        }\n",
              "                        break;\n",
              "                    }\n",
              "                }\n",
              "            }, 500);\n",
              "            "
            ],
            "text/plain": [
              "<IPython.core.display.Javascript object>"
            ]
          },
          "metadata": {},
          "output_type": "display_data"
        }
      ],
      "source": [
        "# extract the amount of RAM\n",
        "df1[\"CPU_speed\"] = df1[\"CPU_speed\"].str.replace(\"GHz\", \"\").astype(float)\n",
        "df1[[\"CPU_speed\", \"Cpu\"]].head()"
      ]
    },
    {
      "cell_type": "code",
      "execution_count": null,
      "id": "91256916",
      "metadata": {
        "id": "91256916",
        "outputId": "d7624ca1-f5db-44ae-f22d-76e44b2d4120"
      },
      "outputs": [
        {
          "data": {
            "text/plain": [
              "CPU_mnfc\n",
              "AMD     2.59\n",
              "Intel   2.18\n",
              "Name: CPU_speed, dtype: float64"
            ]
          },
          "execution_count": 51,
          "metadata": {},
          "output_type": "execute_result"
        },
        {
          "data": {
            "application/javascript": [
              "\n",
              "            setTimeout(function() {\n",
              "                var nbb_cell_id = 51;\n",
              "                var nbb_unformatted_code = \"df_notebook = df1[df1.TypeName == \\\"Notebook\\\"]\\ndf_notebook.groupby(\\\"CPU_mnfc\\\")[\\\"CPU_speed\\\"].mean()\";\n",
              "                var nbb_formatted_code = \"df_notebook = df1[df1.TypeName == \\\"Notebook\\\"]\\ndf_notebook.groupby(\\\"CPU_mnfc\\\")[\\\"CPU_speed\\\"].mean()\";\n",
              "                var nbb_cells = Jupyter.notebook.get_cells();\n",
              "                for (var i = 0; i < nbb_cells.length; ++i) {\n",
              "                    if (nbb_cells[i].input_prompt_number == nbb_cell_id) {\n",
              "                        if (nbb_cells[i].get_text() == nbb_unformatted_code) {\n",
              "                             nbb_cells[i].set_text(nbb_formatted_code);\n",
              "                        }\n",
              "                        break;\n",
              "                    }\n",
              "                }\n",
              "            }, 500);\n",
              "            "
            ],
            "text/plain": [
              "<IPython.core.display.Javascript object>"
            ]
          },
          "metadata": {},
          "output_type": "display_data"
        }
      ],
      "source": [
        "df_notebook = df1[df1.TypeName == \"Notebook\"]\n",
        "df_notebook.groupby(\"CPU_mnfc\")[\"CPU_speed\"].mean()"
      ]
    },
    {
      "cell_type": "code",
      "execution_count": null,
      "id": "fe181e05",
      "metadata": {
        "id": "fe181e05",
        "outputId": "c4516b67-2ab8-4829-f5a4-d1049f986d16"
      },
      "outputs": [
        {
          "data": {
            "image/png": "[encoded data removed]",
            "text/plain": [
              "<Figure size 1080x360 with 2 Axes>"
            ]
          },
          "metadata": {},
          "output_type": "display_data"
        },
        {
          "data": {
            "application/javascript": [
              "\n",
              "            setTimeout(function() {\n",
              "                var nbb_cell_id = 52;\n",
              "                var nbb_unformatted_code = \"plt.figure(figsize=(15, 5))\\n\\nplt.subplot(1, 2, 1)\\nsns.barplot(data=df_notebook, y=\\\"CPU_speed\\\", x=\\\"CPU_mnfc\\\")\\nplt.xticks(rotation=45)\\n\\nplt.subplot(1, 2, 2)\\nsns.boxplot(data=df_notebook, y=\\\"CPU_speed\\\", x=\\\"CPU_mnfc\\\")\\nplt.xticks(rotation=45)\\n\\nplt.show()\";\n",
              "                var nbb_formatted_code = \"plt.figure(figsize=(15, 5))\\n\\nplt.subplot(1, 2, 1)\\nsns.barplot(data=df_notebook, y=\\\"CPU_speed\\\", x=\\\"CPU_mnfc\\\")\\nplt.xticks(rotation=45)\\n\\nplt.subplot(1, 2, 2)\\nsns.boxplot(data=df_notebook, y=\\\"CPU_speed\\\", x=\\\"CPU_mnfc\\\")\\nplt.xticks(rotation=45)\\n\\nplt.show()\";\n",
              "                var nbb_cells = Jupyter.notebook.get_cells();\n",
              "                for (var i = 0; i < nbb_cells.length; ++i) {\n",
              "                    if (nbb_cells[i].input_prompt_number == nbb_cell_id) {\n",
              "                        if (nbb_cells[i].get_text() == nbb_unformatted_code) {\n",
              "                             nbb_cells[i].set_text(nbb_formatted_code);\n",
              "                        }\n",
              "                        break;\n",
              "                    }\n",
              "                }\n",
              "            }, 500);\n",
              "            "
            ],
            "text/plain": [
              "<IPython.core.display.Javascript object>"
            ]
          },
          "metadata": {},
          "output_type": "display_data"
        }
      ],
      "source": [
        "plt.figure(figsize=(15, 5))\n",
        "\n",
        "plt.subplot(1, 2, 1)\n",
        "sns.barplot(data=df_notebook, y=\"CPU_speed\", x=\"CPU_mnfc\")\n",
        "plt.xticks(rotation=45)\n",
        "\n",
        "plt.subplot(1, 2, 2)\n",
        "sns.boxplot(data=df_notebook, y=\"CPU_speed\", x=\"CPU_mnfc\")\n",
        "plt.xticks(rotation=45)\n",
        "\n",
        "plt.show()"
      ]
    },
    {
      "cell_type": "markdown",
      "id": "f85aa54d",
      "metadata": {
        "id": "f85aa54d"
      },
      "source": [
        "**Observations**\n",
        "\n",
        "- Looks like `AMD` processor tends to offer more processing speed than `Intel` processors. "
      ]
    },
    {
      "cell_type": "markdown",
      "id": "56b1c430",
      "metadata": {
        "id": "56b1c430"
      },
      "source": [
        "**Q12. Many recent laptops have started to provide multiple storage options (like an SSD with an HDD). What are the different kinds of storage available for laptops manufactured by Apple? (Refer to the '*Memory*' column)**"
      ]
    },
    {
      "cell_type": "code",
      "execution_count": null,
      "id": "5c2a7db8",
      "metadata": {
        "id": "5c2a7db8",
        "outputId": "0d9fb20c-b0a7-4b79-c16d-c74a1d24330b"
      },
      "outputs": [
        {
          "data": {
            "text/html": [
              "<div>\n",
              "<style scoped>\n",
              "    .dataframe tbody tr th:only-of-type {\n",
              "        vertical-align: middle;\n",
              "    }\n",
              "\n",
              "    .dataframe tbody tr th {\n",
              "        vertical-align: top;\n",
              "    }\n",
              "\n",
              "    .dataframe thead th {\n",
              "        text-align: right;\n",
              "    }\n",
              "</style>\n",
              "<table border=\"1\" class=\"dataframe\">\n",
              "  <thead>\n",
              "    <tr style=\"text-align: right;\">\n",
              "      <th></th>\n",
              "      <th>laptop_ID</th>\n",
              "      <th>Company</th>\n",
              "      <th>Product</th>\n",
              "      <th>TypeName</th>\n",
              "      <th>Inches</th>\n",
              "      <th>Cpu</th>\n",
              "      <th>Memory</th>\n",
              "      <th>Gpu</th>\n",
              "      <th>OpSys</th>\n",
              "      <th>Price_euros</th>\n",
              "      <th>RAM_GB</th>\n",
              "      <th>GPU_Nvidia_GTX</th>\n",
              "      <th>Weight_kg</th>\n",
              "      <th>OS</th>\n",
              "      <th>ScrRes</th>\n",
              "      <th>ScrRes_C1</th>\n",
              "      <th>CPU_mnfc</th>\n",
              "      <th>CPU_speed</th>\n",
              "    </tr>\n",
              "  </thead>\n",
              "  <tbody>\n",
              "    <tr>\n",
              "      <th>248</th>\n",
              "      <td>253</td>\n",
              "      <td>HP</td>\n",
              "      <td>ProBook 430</td>\n",
              "      <td>Notebook</td>\n",
              "      <td>13.30</td>\n",
              "      <td>Intel Core i5 8250U 1.6GHz</td>\n",
              "      <td>500GB HDD</td>\n",
              "      <td>Intel UHD Graphics 620</td>\n",
              "      <td>Windows 10</td>\n",
              "      <td>675.00</td>\n",
              "      <td>4.00</td>\n",
              "      <td>0</td>\n",
              "      <td>1.49</td>\n",
              "      <td>Windows</td>\n",
              "      <td>1920x1080</td>\n",
              "      <td>1920.00</td>\n",
              "      <td>Intel</td>\n",
              "      <td>1.60</td>\n",
              "    </tr>\n",
              "    <tr>\n",
              "      <th>556</th>\n",
              "      <td>563</td>\n",
              "      <td>Mediacom</td>\n",
              "      <td>SmartBook 130</td>\n",
              "      <td>Notebook</td>\n",
              "      <td>13.30</td>\n",
              "      <td>Intel Atom x5-Z8350 1.44GHz</td>\n",
              "      <td>32GB Flash Storage</td>\n",
              "      <td>Intel HD Graphics</td>\n",
              "      <td>Windows 10</td>\n",
              "      <td>255.00</td>\n",
              "      <td>4.00</td>\n",
              "      <td>0</td>\n",
              "      <td>1.35</td>\n",
              "      <td>Windows</td>\n",
              "      <td>1920x1080</td>\n",
              "      <td>1920.00</td>\n",
              "      <td>Intel</td>\n",
              "      <td>1.44</td>\n",
              "    </tr>\n",
              "    <tr>\n",
              "      <th>693</th>\n",
              "      <td>701</td>\n",
              "      <td>Lenovo</td>\n",
              "      <td>ThinkPad X1</td>\n",
              "      <td>2 in 1 Convertible</td>\n",
              "      <td>14.00</td>\n",
              "      <td>Intel Core i7 7500U 2.7GHz</td>\n",
              "      <td>256GB SSD</td>\n",
              "      <td>Intel HD Graphics 620</td>\n",
              "      <td>Windows 10</td>\n",
              "      <td>2590.00</td>\n",
              "      <td>8.00</td>\n",
              "      <td>0</td>\n",
              "      <td>1.42</td>\n",
              "      <td>Windows</td>\n",
              "      <td>2560x1440</td>\n",
              "      <td>2560.00</td>\n",
              "      <td>Intel</td>\n",
              "      <td>2.70</td>\n",
              "    </tr>\n",
              "    <tr>\n",
              "      <th>387</th>\n",
              "      <td>393</td>\n",
              "      <td>Dell</td>\n",
              "      <td>Precision 3510</td>\n",
              "      <td>Workstation</td>\n",
              "      <td>15.60</td>\n",
              "      <td>Intel Core i5 6440HQ 2.6GHz</td>\n",
              "      <td>500GB HDD</td>\n",
              "      <td>AMD FirePro W5130M</td>\n",
              "      <td>Windows 10</td>\n",
              "      <td>1369.00</td>\n",
              "      <td>8.00</td>\n",
              "      <td>0</td>\n",
              "      <td>2.23</td>\n",
              "      <td>Windows</td>\n",
              "      <td>1920x1080</td>\n",
              "      <td>1920.00</td>\n",
              "      <td>Intel</td>\n",
              "      <td>2.60</td>\n",
              "    </tr>\n",
              "    <tr>\n",
              "      <th>781</th>\n",
              "      <td>790</td>\n",
              "      <td>Asus</td>\n",
              "      <td>Rog G752VS-BA171T</td>\n",
              "      <td>Gaming</td>\n",
              "      <td>17.30</td>\n",
              "      <td>Intel Core i7 6700HQ 2.6GHz</td>\n",
              "      <td>256GB SSD +  1TB HDD</td>\n",
              "      <td>Nvidia GeForce GTX 1070</td>\n",
              "      <td>Windows 10</td>\n",
              "      <td>2350.00</td>\n",
              "      <td>16.00</td>\n",
              "      <td>1</td>\n",
              "      <td>4.30</td>\n",
              "      <td>Windows</td>\n",
              "      <td>1920x1080</td>\n",
              "      <td>1920.00</td>\n",
              "      <td>Intel</td>\n",
              "      <td>2.60</td>\n",
              "    </tr>\n",
              "    <tr>\n",
              "      <th>379</th>\n",
              "      <td>385</td>\n",
              "      <td>Acer</td>\n",
              "      <td>Aspire 7</td>\n",
              "      <td>Notebook</td>\n",
              "      <td>15.60</td>\n",
              "      <td>Intel Core i7 7700HQ 2.8GHz</td>\n",
              "      <td>1TB HDD</td>\n",
              "      <td>Nvidia GeForce GTX 1050</td>\n",
              "      <td>Linux</td>\n",
              "      <td>846.00</td>\n",
              "      <td>8.00</td>\n",
              "      <td>1</td>\n",
              "      <td>2.40</td>\n",
              "      <td>Linux</td>\n",
              "      <td>1920x1080</td>\n",
              "      <td>1920.00</td>\n",
              "      <td>Intel</td>\n",
              "      <td>2.80</td>\n",
              "    </tr>\n",
              "    <tr>\n",
              "      <th>716</th>\n",
              "      <td>724</td>\n",
              "      <td>Dell</td>\n",
              "      <td>Latitude 5580</td>\n",
              "      <td>Notebook</td>\n",
              "      <td>15.60</td>\n",
              "      <td>Intel Core i5 7300U 2.6GHz</td>\n",
              "      <td>256GB SSD</td>\n",
              "      <td>Intel HD Graphics 620</td>\n",
              "      <td>Windows 10</td>\n",
              "      <td>1179.00</td>\n",
              "      <td>8.00</td>\n",
              "      <td>0</td>\n",
              "      <td>1.90</td>\n",
              "      <td>Windows</td>\n",
              "      <td>1920x1080</td>\n",
              "      <td>1920.00</td>\n",
              "      <td>Intel</td>\n",
              "      <td>2.60</td>\n",
              "    </tr>\n",
              "    <tr>\n",
              "      <th>880</th>\n",
              "      <td>891</td>\n",
              "      <td>HP</td>\n",
              "      <td>EliteBook x360</td>\n",
              "      <td>2 in 1 Convertible</td>\n",
              "      <td>13.30</td>\n",
              "      <td>Intel Core i5 7200U 2.5GHz</td>\n",
              "      <td>256GB SSD</td>\n",
              "      <td>Intel HD Graphics 620</td>\n",
              "      <td>Windows 10</td>\n",
              "      <td>1700.00</td>\n",
              "      <td>4.00</td>\n",
              "      <td>0</td>\n",
              "      <td>1.28</td>\n",
              "      <td>Windows</td>\n",
              "      <td>1920x1080</td>\n",
              "      <td>1920.00</td>\n",
              "      <td>Intel</td>\n",
              "      <td>2.50</td>\n",
              "    </tr>\n",
              "    <tr>\n",
              "      <th>654</th>\n",
              "      <td>662</td>\n",
              "      <td>HP</td>\n",
              "      <td>250 G6</td>\n",
              "      <td>Notebook</td>\n",
              "      <td>15.60</td>\n",
              "      <td>Intel Core i3 6006U 2GHz</td>\n",
              "      <td>500GB HDD</td>\n",
              "      <td>Intel HD Graphics 520</td>\n",
              "      <td>No OS</td>\n",
              "      <td>364.90</td>\n",
              "      <td>4.00</td>\n",
              "      <td>0</td>\n",
              "      <td>1.86</td>\n",
              "      <td>NA</td>\n",
              "      <td>1366x768</td>\n",
              "      <td>1366.00</td>\n",
              "      <td>Intel</td>\n",
              "      <td>2.00</td>\n",
              "    </tr>\n",
              "    <tr>\n",
              "      <th>994</th>\n",
              "      <td>1008</td>\n",
              "      <td>Dell</td>\n",
              "      <td>Inspiron 5378</td>\n",
              "      <td>2 in 1 Convertible</td>\n",
              "      <td>13.30</td>\n",
              "      <td>Intel Core i5 7200U 2.5GHz</td>\n",
              "      <td>256GB SSD</td>\n",
              "      <td>Intel HD Graphics 620</td>\n",
              "      <td>Windows 10</td>\n",
              "      <td>889.00</td>\n",
              "      <td>8.00</td>\n",
              "      <td>0</td>\n",
              "      <td>1.68</td>\n",
              "      <td>Windows</td>\n",
              "      <td>1920x1080</td>\n",
              "      <td>1920.00</td>\n",
              "      <td>Intel</td>\n",
              "      <td>2.50</td>\n",
              "    </tr>\n",
              "  </tbody>\n",
              "</table>\n",
              "</div>"
            ],
            "text/plain": [
              "     laptop_ID   Company            Product            TypeName  Inches  \\\n",
              "248        253        HP        ProBook 430            Notebook   13.30   \n",
              "556        563  Mediacom      SmartBook 130            Notebook   13.30   \n",
              "693        701    Lenovo        ThinkPad X1  2 in 1 Convertible   14.00   \n",
              "387        393      Dell     Precision 3510         Workstation   15.60   \n",
              "781        790      Asus  Rog G752VS-BA171T              Gaming   17.30   \n",
              "379        385      Acer           Aspire 7            Notebook   15.60   \n",
              "716        724      Dell      Latitude 5580            Notebook   15.60   \n",
              "880        891        HP     EliteBook x360  2 in 1 Convertible   13.30   \n",
              "654        662        HP             250 G6            Notebook   15.60   \n",
              "994       1008      Dell      Inspiron 5378  2 in 1 Convertible   13.30   \n",
              "\n",
              "                             Cpu                Memory  \\\n",
              "248   Intel Core i5 8250U 1.6GHz             500GB HDD   \n",
              "556  Intel Atom x5-Z8350 1.44GHz    32GB Flash Storage   \n",
              "693   Intel Core i7 7500U 2.7GHz             256GB SSD   \n",
              "387  Intel Core i5 6440HQ 2.6GHz             500GB HDD   \n",
              "781  Intel Core i7 6700HQ 2.6GHz  256GB SSD +  1TB HDD   \n",
              "379  Intel Core i7 7700HQ 2.8GHz               1TB HDD   \n",
              "716   Intel Core i5 7300U 2.6GHz             256GB SSD   \n",
              "880   Intel Core i5 7200U 2.5GHz             256GB SSD   \n",
              "654     Intel Core i3 6006U 2GHz             500GB HDD   \n",
              "994   Intel Core i5 7200U 2.5GHz             256GB SSD   \n",
              "\n",
              "                         Gpu       OpSys  Price_euros  RAM_GB  GPU_Nvidia_GTX  \\\n",
              "248   Intel UHD Graphics 620  Windows 10       675.00    4.00               0   \n",
              "556        Intel HD Graphics  Windows 10       255.00    4.00               0   \n",
              "693    Intel HD Graphics 620  Windows 10      2590.00    8.00               0   \n",
              "387       AMD FirePro W5130M  Windows 10      1369.00    8.00               0   \n",
              "781  Nvidia GeForce GTX 1070  Windows 10      2350.00   16.00               1   \n",
              "379  Nvidia GeForce GTX 1050       Linux       846.00    8.00               1   \n",
              "716    Intel HD Graphics 620  Windows 10      1179.00    8.00               0   \n",
              "880    Intel HD Graphics 620  Windows 10      1700.00    4.00               0   \n",
              "654    Intel HD Graphics 520       No OS       364.90    4.00               0   \n",
              "994    Intel HD Graphics 620  Windows 10       889.00    8.00               0   \n",
              "\n",
              "     Weight_kg       OS     ScrRes  ScrRes_C1 CPU_mnfc  CPU_speed  \n",
              "248       1.49  Windows  1920x1080    1920.00    Intel       1.60  \n",
              "556       1.35  Windows  1920x1080    1920.00    Intel       1.44  \n",
              "693       1.42  Windows  2560x1440    2560.00    Intel       2.70  \n",
              "387       2.23  Windows  1920x1080    1920.00    Intel       2.60  \n",
              "781       4.30  Windows  1920x1080    1920.00    Intel       2.60  \n",
              "379       2.40    Linux  1920x1080    1920.00    Intel       2.80  \n",
              "716       1.90  Windows  1920x1080    1920.00    Intel       2.60  \n",
              "880       1.28  Windows  1920x1080    1920.00    Intel       2.50  \n",
              "654       1.86       NA   1366x768    1366.00    Intel       2.00  \n",
              "994       1.68  Windows  1920x1080    1920.00    Intel       2.50  "
            ]
          },
          "execution_count": 53,
          "metadata": {},
          "output_type": "execute_result"
        },
        {
          "data": {
            "application/javascript": [
              "\n",
              "            setTimeout(function() {\n",
              "                var nbb_cell_id = 53;\n",
              "                var nbb_unformatted_code = \"np.random.seed(2)\\ndf1.sample(10)\";\n",
              "                var nbb_formatted_code = \"np.random.seed(2)\\ndf1.sample(10)\";\n",
              "                var nbb_cells = Jupyter.notebook.get_cells();\n",
              "                for (var i = 0; i < nbb_cells.length; ++i) {\n",
              "                    if (nbb_cells[i].input_prompt_number == nbb_cell_id) {\n",
              "                        if (nbb_cells[i].get_text() == nbb_unformatted_code) {\n",
              "                             nbb_cells[i].set_text(nbb_formatted_code);\n",
              "                        }\n",
              "                        break;\n",
              "                    }\n",
              "                }\n",
              "            }, 500);\n",
              "            "
            ],
            "text/plain": [
              "<IPython.core.display.Javascript object>"
            ]
          },
          "metadata": {},
          "output_type": "display_data"
        }
      ],
      "source": [
        "np.random.seed(2)\n",
        "df1.sample(10)"
      ]
    },
    {
      "cell_type": "code",
      "execution_count": null,
      "id": "7ae71e9e",
      "metadata": {
        "id": "7ae71e9e",
        "outputId": "01f04d43-47a1-4003-e761-e4c72d69c8c4"
      },
      "outputs": [
        {
          "data": {
            "text/html": [
              "<div>\n",
              "<style scoped>\n",
              "    .dataframe tbody tr th:only-of-type {\n",
              "        vertical-align: middle;\n",
              "    }\n",
              "\n",
              "    .dataframe tbody tr th {\n",
              "        vertical-align: top;\n",
              "    }\n",
              "\n",
              "    .dataframe thead th {\n",
              "        text-align: right;\n",
              "    }\n",
              "</style>\n",
              "<table border=\"1\" class=\"dataframe\">\n",
              "  <thead>\n",
              "    <tr style=\"text-align: right;\">\n",
              "      <th></th>\n",
              "      <th>laptop_ID</th>\n",
              "      <th>Company</th>\n",
              "      <th>Product</th>\n",
              "      <th>TypeName</th>\n",
              "      <th>Inches</th>\n",
              "      <th>Cpu</th>\n",
              "      <th>Memory</th>\n",
              "      <th>Gpu</th>\n",
              "      <th>OpSys</th>\n",
              "      <th>Price_euros</th>\n",
              "      <th>RAM_GB</th>\n",
              "      <th>GPU_Nvidia_GTX</th>\n",
              "      <th>Weight_kg</th>\n",
              "      <th>OS</th>\n",
              "      <th>ScrRes</th>\n",
              "      <th>ScrRes_C1</th>\n",
              "      <th>CPU_mnfc</th>\n",
              "      <th>CPU_speed</th>\n",
              "    </tr>\n",
              "  </thead>\n",
              "  <tbody>\n",
              "    <tr>\n",
              "      <th>0</th>\n",
              "      <td>1</td>\n",
              "      <td>Apple</td>\n",
              "      <td>MacBook Pro</td>\n",
              "      <td>Ultrabook</td>\n",
              "      <td>13.30</td>\n",
              "      <td>Intel Core i5 2.3GHz</td>\n",
              "      <td>128GB SSD + NaN</td>\n",
              "      <td>Intel Iris Plus Graphics 640</td>\n",
              "      <td>macOS</td>\n",
              "      <td>1339.69</td>\n",
              "      <td>8.00</td>\n",
              "      <td>0</td>\n",
              "      <td>1.37</td>\n",
              "      <td>MacOS</td>\n",
              "      <td>2560x1600</td>\n",
              "      <td>2560.00</td>\n",
              "      <td>Intel</td>\n",
              "      <td>2.30</td>\n",
              "    </tr>\n",
              "    <tr>\n",
              "      <th>1</th>\n",
              "      <td>2</td>\n",
              "      <td>Apple</td>\n",
              "      <td>Macbook Air</td>\n",
              "      <td>Ultrabook</td>\n",
              "      <td>13.30</td>\n",
              "      <td>Intel Core i5 1.8GHz</td>\n",
              "      <td>128GB Flash Storage + NaN</td>\n",
              "      <td>Intel HD Graphics 6000</td>\n",
              "      <td>macOS</td>\n",
              "      <td>898.94</td>\n",
              "      <td>8.00</td>\n",
              "      <td>0</td>\n",
              "      <td>1.34</td>\n",
              "      <td>MacOS</td>\n",
              "      <td>1440x900</td>\n",
              "      <td>1440.00</td>\n",
              "      <td>Intel</td>\n",
              "      <td>1.80</td>\n",
              "    </tr>\n",
              "    <tr>\n",
              "      <th>2</th>\n",
              "      <td>3</td>\n",
              "      <td>HP</td>\n",
              "      <td>250 G6</td>\n",
              "      <td>Notebook</td>\n",
              "      <td>15.60</td>\n",
              "      <td>Intel Core i5 7200U 2.5GHz</td>\n",
              "      <td>256GB SSD + NaN</td>\n",
              "      <td>Intel HD Graphics 620</td>\n",
              "      <td>No OS</td>\n",
              "      <td>575.00</td>\n",
              "      <td>8.00</td>\n",
              "      <td>0</td>\n",
              "      <td>1.86</td>\n",
              "      <td>NA</td>\n",
              "      <td>1920x1080</td>\n",
              "      <td>1920.00</td>\n",
              "      <td>Intel</td>\n",
              "      <td>2.50</td>\n",
              "    </tr>\n",
              "    <tr>\n",
              "      <th>3</th>\n",
              "      <td>4</td>\n",
              "      <td>Apple</td>\n",
              "      <td>MacBook Pro</td>\n",
              "      <td>Ultrabook</td>\n",
              "      <td>15.40</td>\n",
              "      <td>Intel Core i7 2.7GHz</td>\n",
              "      <td>512GB SSD + NaN</td>\n",
              "      <td>AMD Radeon Pro 455</td>\n",
              "      <td>macOS</td>\n",
              "      <td>2537.45</td>\n",
              "      <td>16.00</td>\n",
              "      <td>0</td>\n",
              "      <td>1.83</td>\n",
              "      <td>MacOS</td>\n",
              "      <td>2880x1800</td>\n",
              "      <td>2880.00</td>\n",
              "      <td>Intel</td>\n",
              "      <td>2.70</td>\n",
              "    </tr>\n",
              "    <tr>\n",
              "      <th>4</th>\n",
              "      <td>5</td>\n",
              "      <td>Apple</td>\n",
              "      <td>MacBook Pro</td>\n",
              "      <td>Ultrabook</td>\n",
              "      <td>13.30</td>\n",
              "      <td>Intel Core i5 3.1GHz</td>\n",
              "      <td>256GB SSD + NaN</td>\n",
              "      <td>Intel Iris Plus Graphics 650</td>\n",
              "      <td>macOS</td>\n",
              "      <td>1803.60</td>\n",
              "      <td>8.00</td>\n",
              "      <td>0</td>\n",
              "      <td>1.37</td>\n",
              "      <td>MacOS</td>\n",
              "      <td>2560x1600</td>\n",
              "      <td>2560.00</td>\n",
              "      <td>Intel</td>\n",
              "      <td>3.10</td>\n",
              "    </tr>\n",
              "  </tbody>\n",
              "</table>\n",
              "</div>"
            ],
            "text/plain": [
              "   laptop_ID Company      Product   TypeName  Inches  \\\n",
              "0          1   Apple  MacBook Pro  Ultrabook   13.30   \n",
              "1          2   Apple  Macbook Air  Ultrabook   13.30   \n",
              "2          3      HP       250 G6   Notebook   15.60   \n",
              "3          4   Apple  MacBook Pro  Ultrabook   15.40   \n",
              "4          5   Apple  MacBook Pro  Ultrabook   13.30   \n",
              "\n",
              "                          Cpu                     Memory  \\\n",
              "0        Intel Core i5 2.3GHz            128GB SSD + NaN   \n",
              "1        Intel Core i5 1.8GHz  128GB Flash Storage + NaN   \n",
              "2  Intel Core i5 7200U 2.5GHz            256GB SSD + NaN   \n",
              "3        Intel Core i7 2.7GHz            512GB SSD + NaN   \n",
              "4        Intel Core i5 3.1GHz            256GB SSD + NaN   \n",
              "\n",
              "                            Gpu  OpSys  Price_euros  RAM_GB  GPU_Nvidia_GTX  \\\n",
              "0  Intel Iris Plus Graphics 640  macOS      1339.69    8.00               0   \n",
              "1        Intel HD Graphics 6000  macOS       898.94    8.00               0   \n",
              "2         Intel HD Graphics 620  No OS       575.00    8.00               0   \n",
              "3            AMD Radeon Pro 455  macOS      2537.45   16.00               0   \n",
              "4  Intel Iris Plus Graphics 650  macOS      1803.60    8.00               0   \n",
              "\n",
              "   Weight_kg     OS     ScrRes  ScrRes_C1 CPU_mnfc  CPU_speed  \n",
              "0       1.37  MacOS  2560x1600    2560.00    Intel       2.30  \n",
              "1       1.34  MacOS   1440x900    1440.00    Intel       1.80  \n",
              "2       1.86     NA  1920x1080    1920.00    Intel       2.50  \n",
              "3       1.83  MacOS  2880x1800    2880.00    Intel       2.70  \n",
              "4       1.37  MacOS  2560x1600    2560.00    Intel       3.10  "
            ]
          },
          "execution_count": 54,
          "metadata": {},
          "output_type": "execute_result"
        },
        {
          "data": {
            "application/javascript": [
              "\n",
              "            setTimeout(function() {\n",
              "                var nbb_cell_id = 54;\n",
              "                var nbb_unformatted_code = \"df1[\\\"Memory\\\"] = [\\n    item + \\\" + NaN\\\" if \\\"+\\\" not in item else item for item in df1[\\\"Memory\\\"].values\\n]\\ndf1.head()\";\n",
              "                var nbb_formatted_code = \"df1[\\\"Memory\\\"] = [\\n    item + \\\" + NaN\\\" if \\\"+\\\" not in item else item for item in df1[\\\"Memory\\\"].values\\n]\\ndf1.head()\";\n",
              "                var nbb_cells = Jupyter.notebook.get_cells();\n",
              "                for (var i = 0; i < nbb_cells.length; ++i) {\n",
              "                    if (nbb_cells[i].input_prompt_number == nbb_cell_id) {\n",
              "                        if (nbb_cells[i].get_text() == nbb_unformatted_code) {\n",
              "                             nbb_cells[i].set_text(nbb_formatted_code);\n",
              "                        }\n",
              "                        break;\n",
              "                    }\n",
              "                }\n",
              "            }, 500);\n",
              "            "
            ],
            "text/plain": [
              "<IPython.core.display.Javascript object>"
            ]
          },
          "metadata": {},
          "output_type": "display_data"
        }
      ],
      "source": [
        "df1[\"Memory\"] = [\n",
        "    item + \" + NaN\" if \"+\" not in item else item for item in df1[\"Memory\"].values\n",
        "]\n",
        "df1.head()"
      ]
    },
    {
      "cell_type": "code",
      "execution_count": null,
      "id": "e5d2d8d6",
      "metadata": {
        "id": "e5d2d8d6",
        "outputId": "b4adc1f3-29e5-4ece-d928-89e7642c2c3d"
      },
      "outputs": [
        {
          "data": {
            "text/html": [
              "<div>\n",
              "<style scoped>\n",
              "    .dataframe tbody tr th:only-of-type {\n",
              "        vertical-align: middle;\n",
              "    }\n",
              "\n",
              "    .dataframe tbody tr th {\n",
              "        vertical-align: top;\n",
              "    }\n",
              "\n",
              "    .dataframe thead th {\n",
              "        text-align: right;\n",
              "    }\n",
              "</style>\n",
              "<table border=\"1\" class=\"dataframe\">\n",
              "  <thead>\n",
              "    <tr style=\"text-align: right;\">\n",
              "      <th></th>\n",
              "      <th>laptop_ID</th>\n",
              "      <th>Company</th>\n",
              "      <th>Product</th>\n",
              "      <th>TypeName</th>\n",
              "      <th>Inches</th>\n",
              "      <th>Cpu</th>\n",
              "      <th>Memory</th>\n",
              "      <th>Gpu</th>\n",
              "      <th>OpSys</th>\n",
              "      <th>Price_euros</th>\n",
              "      <th>RAM_GB</th>\n",
              "      <th>GPU_Nvidia_GTX</th>\n",
              "      <th>Weight_kg</th>\n",
              "      <th>OS</th>\n",
              "      <th>ScrRes</th>\n",
              "      <th>ScrRes_C1</th>\n",
              "      <th>CPU_mnfc</th>\n",
              "      <th>CPU_speed</th>\n",
              "      <th>Storage1</th>\n",
              "      <th>Storage2</th>\n",
              "    </tr>\n",
              "  </thead>\n",
              "  <tbody>\n",
              "    <tr>\n",
              "      <th>0</th>\n",
              "      <td>1</td>\n",
              "      <td>Apple</td>\n",
              "      <td>MacBook Pro</td>\n",
              "      <td>Ultrabook</td>\n",
              "      <td>13.30</td>\n",
              "      <td>Intel Core i5 2.3GHz</td>\n",
              "      <td>128GB SSD + NaN</td>\n",
              "      <td>Intel Iris Plus Graphics 640</td>\n",
              "      <td>macOS</td>\n",
              "      <td>1339.69</td>\n",
              "      <td>8.00</td>\n",
              "      <td>0</td>\n",
              "      <td>1.37</td>\n",
              "      <td>MacOS</td>\n",
              "      <td>2560x1600</td>\n",
              "      <td>2560.00</td>\n",
              "      <td>Intel</td>\n",
              "      <td>2.30</td>\n",
              "      <td>128GB SSD</td>\n",
              "      <td>NaN</td>\n",
              "    </tr>\n",
              "    <tr>\n",
              "      <th>1</th>\n",
              "      <td>2</td>\n",
              "      <td>Apple</td>\n",
              "      <td>Macbook Air</td>\n",
              "      <td>Ultrabook</td>\n",
              "      <td>13.30</td>\n",
              "      <td>Intel Core i5 1.8GHz</td>\n",
              "      <td>128GB Flash Storage + NaN</td>\n",
              "      <td>Intel HD Graphics 6000</td>\n",
              "      <td>macOS</td>\n",
              "      <td>898.94</td>\n",
              "      <td>8.00</td>\n",
              "      <td>0</td>\n",
              "      <td>1.34</td>\n",
              "      <td>MacOS</td>\n",
              "      <td>1440x900</td>\n",
              "      <td>1440.00</td>\n",
              "      <td>Intel</td>\n",
              "      <td>1.80</td>\n",
              "      <td>128GB Flash Storage</td>\n",
              "      <td>NaN</td>\n",
              "    </tr>\n",
              "    <tr>\n",
              "      <th>2</th>\n",
              "      <td>3</td>\n",
              "      <td>HP</td>\n",
              "      <td>250 G6</td>\n",
              "      <td>Notebook</td>\n",
              "      <td>15.60</td>\n",
              "      <td>Intel Core i5 7200U 2.5GHz</td>\n",
              "      <td>256GB SSD + NaN</td>\n",
              "      <td>Intel HD Graphics 620</td>\n",
              "      <td>No OS</td>\n",
              "      <td>575.00</td>\n",
              "      <td>8.00</td>\n",
              "      <td>0</td>\n",
              "      <td>1.86</td>\n",
              "      <td>NA</td>\n",
              "      <td>1920x1080</td>\n",
              "      <td>1920.00</td>\n",
              "      <td>Intel</td>\n",
              "      <td>2.50</td>\n",
              "      <td>256GB SSD</td>\n",
              "      <td>NaN</td>\n",
              "    </tr>\n",
              "    <tr>\n",
              "      <th>3</th>\n",
              "      <td>4</td>\n",
              "      <td>Apple</td>\n",
              "      <td>MacBook Pro</td>\n",
              "      <td>Ultrabook</td>\n",
              "      <td>15.40</td>\n",
              "      <td>Intel Core i7 2.7GHz</td>\n",
              "      <td>512GB SSD + NaN</td>\n",
              "      <td>AMD Radeon Pro 455</td>\n",
              "      <td>macOS</td>\n",
              "      <td>2537.45</td>\n",
              "      <td>16.00</td>\n",
              "      <td>0</td>\n",
              "      <td>1.83</td>\n",
              "      <td>MacOS</td>\n",
              "      <td>2880x1800</td>\n",
              "      <td>2880.00</td>\n",
              "      <td>Intel</td>\n",
              "      <td>2.70</td>\n",
              "      <td>512GB SSD</td>\n",
              "      <td>NaN</td>\n",
              "    </tr>\n",
              "    <tr>\n",
              "      <th>4</th>\n",
              "      <td>5</td>\n",
              "      <td>Apple</td>\n",
              "      <td>MacBook Pro</td>\n",
              "      <td>Ultrabook</td>\n",
              "      <td>13.30</td>\n",
              "      <td>Intel Core i5 3.1GHz</td>\n",
              "      <td>256GB SSD + NaN</td>\n",
              "      <td>Intel Iris Plus Graphics 650</td>\n",
              "      <td>macOS</td>\n",
              "      <td>1803.60</td>\n",
              "      <td>8.00</td>\n",
              "      <td>0</td>\n",
              "      <td>1.37</td>\n",
              "      <td>MacOS</td>\n",
              "      <td>2560x1600</td>\n",
              "      <td>2560.00</td>\n",
              "      <td>Intel</td>\n",
              "      <td>3.10</td>\n",
              "      <td>256GB SSD</td>\n",
              "      <td>NaN</td>\n",
              "    </tr>\n",
              "  </tbody>\n",
              "</table>\n",
              "</div>"
            ],
            "text/plain": [
              "   laptop_ID Company      Product   TypeName  Inches  \\\n",
              "0          1   Apple  MacBook Pro  Ultrabook   13.30   \n",
              "1          2   Apple  Macbook Air  Ultrabook   13.30   \n",
              "2          3      HP       250 G6   Notebook   15.60   \n",
              "3          4   Apple  MacBook Pro  Ultrabook   15.40   \n",
              "4          5   Apple  MacBook Pro  Ultrabook   13.30   \n",
              "\n",
              "                          Cpu                     Memory  \\\n",
              "0        Intel Core i5 2.3GHz            128GB SSD + NaN   \n",
              "1        Intel Core i5 1.8GHz  128GB Flash Storage + NaN   \n",
              "2  Intel Core i5 7200U 2.5GHz            256GB SSD + NaN   \n",
              "3        Intel Core i7 2.7GHz            512GB SSD + NaN   \n",
              "4        Intel Core i5 3.1GHz            256GB SSD + NaN   \n",
              "\n",
              "                            Gpu  OpSys  Price_euros  RAM_GB  GPU_Nvidia_GTX  \\\n",
              "0  Intel Iris Plus Graphics 640  macOS      1339.69    8.00               0   \n",
              "1        Intel HD Graphics 6000  macOS       898.94    8.00               0   \n",
              "2         Intel HD Graphics 620  No OS       575.00    8.00               0   \n",
              "3            AMD Radeon Pro 455  macOS      2537.45   16.00               0   \n",
              "4  Intel Iris Plus Graphics 650  macOS      1803.60    8.00               0   \n",
              "\n",
              "   Weight_kg     OS     ScrRes  ScrRes_C1 CPU_mnfc  CPU_speed  \\\n",
              "0       1.37  MacOS  2560x1600    2560.00    Intel       2.30   \n",
              "1       1.34  MacOS   1440x900    1440.00    Intel       1.80   \n",
              "2       1.86     NA  1920x1080    1920.00    Intel       2.50   \n",
              "3       1.83  MacOS  2880x1800    2880.00    Intel       2.70   \n",
              "4       1.37  MacOS  2560x1600    2560.00    Intel       3.10   \n",
              "\n",
              "              Storage1 Storage2  \n",
              "0            128GB SSD      NaN  \n",
              "1  128GB Flash Storage      NaN  \n",
              "2            256GB SSD      NaN  \n",
              "3            512GB SSD      NaN  \n",
              "4            256GB SSD      NaN  "
            ]
          },
          "execution_count": 55,
          "metadata": {},
          "output_type": "execute_result"
        },
        {
          "data": {
            "application/javascript": [
              "\n",
              "            setTimeout(function() {\n",
              "                var nbb_cell_id = 55;\n",
              "                var nbb_unformatted_code = \"df1[\\\"Storage1\\\"] = df1[\\\"Memory\\\"].str.split(\\\"+\\\").str[0].str.strip()\\ndf1[\\\"Storage2\\\"] = df1[\\\"Memory\\\"].str.split(\\\"+\\\").str[1].str.strip()\\ndf1.head()\";\n",
              "                var nbb_formatted_code = \"df1[\\\"Storage1\\\"] = df1[\\\"Memory\\\"].str.split(\\\"+\\\").str[0].str.strip()\\ndf1[\\\"Storage2\\\"] = df1[\\\"Memory\\\"].str.split(\\\"+\\\").str[1].str.strip()\\ndf1.head()\";\n",
              "                var nbb_cells = Jupyter.notebook.get_cells();\n",
              "                for (var i = 0; i < nbb_cells.length; ++i) {\n",
              "                    if (nbb_cells[i].input_prompt_number == nbb_cell_id) {\n",
              "                        if (nbb_cells[i].get_text() == nbb_unformatted_code) {\n",
              "                             nbb_cells[i].set_text(nbb_formatted_code);\n",
              "                        }\n",
              "                        break;\n",
              "                    }\n",
              "                }\n",
              "            }, 500);\n",
              "            "
            ],
            "text/plain": [
              "<IPython.core.display.Javascript object>"
            ]
          },
          "metadata": {},
          "output_type": "display_data"
        }
      ],
      "source": [
        "df1[\"Storage1\"] = df1[\"Memory\"].str.split(\"+\").str[0].str.strip()\n",
        "df1[\"Storage2\"] = df1[\"Memory\"].str.split(\"+\").str[1].str.strip()\n",
        "df1.head()"
      ]
    },
    {
      "cell_type": "code",
      "execution_count": null,
      "id": "5a8761f6",
      "metadata": {
        "id": "5a8761f6",
        "outputId": "ef610901-ed26-4696-9ce7-3cbff6244377"
      },
      "outputs": [
        {
          "data": {
            "text/html": [
              "<div>\n",
              "<style scoped>\n",
              "    .dataframe tbody tr th:only-of-type {\n",
              "        vertical-align: middle;\n",
              "    }\n",
              "\n",
              "    .dataframe tbody tr th {\n",
              "        vertical-align: top;\n",
              "    }\n",
              "\n",
              "    .dataframe thead th {\n",
              "        text-align: right;\n",
              "    }\n",
              "</style>\n",
              "<table border=\"1\" class=\"dataframe\">\n",
              "  <thead>\n",
              "    <tr style=\"text-align: right;\">\n",
              "      <th></th>\n",
              "      <th>laptop_ID</th>\n",
              "      <th>Company</th>\n",
              "      <th>Product</th>\n",
              "      <th>TypeName</th>\n",
              "      <th>Inches</th>\n",
              "      <th>Cpu</th>\n",
              "      <th>Memory</th>\n",
              "      <th>Gpu</th>\n",
              "      <th>OpSys</th>\n",
              "      <th>Price_euros</th>\n",
              "      <th>RAM_GB</th>\n",
              "      <th>GPU_Nvidia_GTX</th>\n",
              "      <th>Weight_kg</th>\n",
              "      <th>OS</th>\n",
              "      <th>ScrRes</th>\n",
              "      <th>ScrRes_C1</th>\n",
              "      <th>CPU_mnfc</th>\n",
              "      <th>CPU_speed</th>\n",
              "      <th>Storage1</th>\n",
              "      <th>Storage2</th>\n",
              "    </tr>\n",
              "  </thead>\n",
              "  <tbody>\n",
              "    <tr>\n",
              "      <th>248</th>\n",
              "      <td>253</td>\n",
              "      <td>HP</td>\n",
              "      <td>ProBook 430</td>\n",
              "      <td>Notebook</td>\n",
              "      <td>13.30</td>\n",
              "      <td>Intel Core i5 8250U 1.6GHz</td>\n",
              "      <td>500GB HDD + NaN</td>\n",
              "      <td>Intel UHD Graphics 620</td>\n",
              "      <td>Windows 10</td>\n",
              "      <td>675.00</td>\n",
              "      <td>4.00</td>\n",
              "      <td>0</td>\n",
              "      <td>1.49</td>\n",
              "      <td>Windows</td>\n",
              "      <td>1920x1080</td>\n",
              "      <td>1920.00</td>\n",
              "      <td>Intel</td>\n",
              "      <td>1.60</td>\n",
              "      <td>500GB HDD</td>\n",
              "      <td>NaN</td>\n",
              "    </tr>\n",
              "    <tr>\n",
              "      <th>556</th>\n",
              "      <td>563</td>\n",
              "      <td>Mediacom</td>\n",
              "      <td>SmartBook 130</td>\n",
              "      <td>Notebook</td>\n",
              "      <td>13.30</td>\n",
              "      <td>Intel Atom x5-Z8350 1.44GHz</td>\n",
              "      <td>32GB Flash Storage + NaN</td>\n",
              "      <td>Intel HD Graphics</td>\n",
              "      <td>Windows 10</td>\n",
              "      <td>255.00</td>\n",
              "      <td>4.00</td>\n",
              "      <td>0</td>\n",
              "      <td>1.35</td>\n",
              "      <td>Windows</td>\n",
              "      <td>1920x1080</td>\n",
              "      <td>1920.00</td>\n",
              "      <td>Intel</td>\n",
              "      <td>1.44</td>\n",
              "      <td>32GB Flash Storage</td>\n",
              "      <td>NaN</td>\n",
              "    </tr>\n",
              "    <tr>\n",
              "      <th>693</th>\n",
              "      <td>701</td>\n",
              "      <td>Lenovo</td>\n",
              "      <td>ThinkPad X1</td>\n",
              "      <td>2 in 1 Convertible</td>\n",
              "      <td>14.00</td>\n",
              "      <td>Intel Core i7 7500U 2.7GHz</td>\n",
              "      <td>256GB SSD + NaN</td>\n",
              "      <td>Intel HD Graphics 620</td>\n",
              "      <td>Windows 10</td>\n",
              "      <td>2590.00</td>\n",
              "      <td>8.00</td>\n",
              "      <td>0</td>\n",
              "      <td>1.42</td>\n",
              "      <td>Windows</td>\n",
              "      <td>2560x1440</td>\n",
              "      <td>2560.00</td>\n",
              "      <td>Intel</td>\n",
              "      <td>2.70</td>\n",
              "      <td>256GB SSD</td>\n",
              "      <td>NaN</td>\n",
              "    </tr>\n",
              "    <tr>\n",
              "      <th>387</th>\n",
              "      <td>393</td>\n",
              "      <td>Dell</td>\n",
              "      <td>Precision 3510</td>\n",
              "      <td>Workstation</td>\n",
              "      <td>15.60</td>\n",
              "      <td>Intel Core i5 6440HQ 2.6GHz</td>\n",
              "      <td>500GB HDD + NaN</td>\n",
              "      <td>AMD FirePro W5130M</td>\n",
              "      <td>Windows 10</td>\n",
              "      <td>1369.00</td>\n",
              "      <td>8.00</td>\n",
              "      <td>0</td>\n",
              "      <td>2.23</td>\n",
              "      <td>Windows</td>\n",
              "      <td>1920x1080</td>\n",
              "      <td>1920.00</td>\n",
              "      <td>Intel</td>\n",
              "      <td>2.60</td>\n",
              "      <td>500GB HDD</td>\n",
              "      <td>NaN</td>\n",
              "    </tr>\n",
              "    <tr>\n",
              "      <th>781</th>\n",
              "      <td>790</td>\n",
              "      <td>Asus</td>\n",
              "      <td>Rog G752VS-BA171T</td>\n",
              "      <td>Gaming</td>\n",
              "      <td>17.30</td>\n",
              "      <td>Intel Core i7 6700HQ 2.6GHz</td>\n",
              "      <td>256GB SSD +  1TB HDD</td>\n",
              "      <td>Nvidia GeForce GTX 1070</td>\n",
              "      <td>Windows 10</td>\n",
              "      <td>2350.00</td>\n",
              "      <td>16.00</td>\n",
              "      <td>1</td>\n",
              "      <td>4.30</td>\n",
              "      <td>Windows</td>\n",
              "      <td>1920x1080</td>\n",
              "      <td>1920.00</td>\n",
              "      <td>Intel</td>\n",
              "      <td>2.60</td>\n",
              "      <td>256GB SSD</td>\n",
              "      <td>1TB HDD</td>\n",
              "    </tr>\n",
              "    <tr>\n",
              "      <th>379</th>\n",
              "      <td>385</td>\n",
              "      <td>Acer</td>\n",
              "      <td>Aspire 7</td>\n",
              "      <td>Notebook</td>\n",
              "      <td>15.60</td>\n",
              "      <td>Intel Core i7 7700HQ 2.8GHz</td>\n",
              "      <td>1TB HDD + NaN</td>\n",
              "      <td>Nvidia GeForce GTX 1050</td>\n",
              "      <td>Linux</td>\n",
              "      <td>846.00</td>\n",
              "      <td>8.00</td>\n",
              "      <td>1</td>\n",
              "      <td>2.40</td>\n",
              "      <td>Linux</td>\n",
              "      <td>1920x1080</td>\n",
              "      <td>1920.00</td>\n",
              "      <td>Intel</td>\n",
              "      <td>2.80</td>\n",
              "      <td>1TB HDD</td>\n",
              "      <td>NaN</td>\n",
              "    </tr>\n",
              "    <tr>\n",
              "      <th>716</th>\n",
              "      <td>724</td>\n",
              "      <td>Dell</td>\n",
              "      <td>Latitude 5580</td>\n",
              "      <td>Notebook</td>\n",
              "      <td>15.60</td>\n",
              "      <td>Intel Core i5 7300U 2.6GHz</td>\n",
              "      <td>256GB SSD + NaN</td>\n",
              "      <td>Intel HD Graphics 620</td>\n",
              "      <td>Windows 10</td>\n",
              "      <td>1179.00</td>\n",
              "      <td>8.00</td>\n",
              "      <td>0</td>\n",
              "      <td>1.90</td>\n",
              "      <td>Windows</td>\n",
              "      <td>1920x1080</td>\n",
              "      <td>1920.00</td>\n",
              "      <td>Intel</td>\n",
              "      <td>2.60</td>\n",
              "      <td>256GB SSD</td>\n",
              "      <td>NaN</td>\n",
              "    </tr>\n",
              "    <tr>\n",
              "      <th>880</th>\n",
              "      <td>891</td>\n",
              "      <td>HP</td>\n",
              "      <td>EliteBook x360</td>\n",
              "      <td>2 in 1 Convertible</td>\n",
              "      <td>13.30</td>\n",
              "      <td>Intel Core i5 7200U 2.5GHz</td>\n",
              "      <td>256GB SSD + NaN</td>\n",
              "      <td>Intel HD Graphics 620</td>\n",
              "      <td>Windows 10</td>\n",
              "      <td>1700.00</td>\n",
              "      <td>4.00</td>\n",
              "      <td>0</td>\n",
              "      <td>1.28</td>\n",
              "      <td>Windows</td>\n",
              "      <td>1920x1080</td>\n",
              "      <td>1920.00</td>\n",
              "      <td>Intel</td>\n",
              "      <td>2.50</td>\n",
              "      <td>256GB SSD</td>\n",
              "      <td>NaN</td>\n",
              "    </tr>\n",
              "    <tr>\n",
              "      <th>654</th>\n",
              "      <td>662</td>\n",
              "      <td>HP</td>\n",
              "      <td>250 G6</td>\n",
              "      <td>Notebook</td>\n",
              "      <td>15.60</td>\n",
              "      <td>Intel Core i3 6006U 2GHz</td>\n",
              "      <td>500GB HDD + NaN</td>\n",
              "      <td>Intel HD Graphics 520</td>\n",
              "      <td>No OS</td>\n",
              "      <td>364.90</td>\n",
              "      <td>4.00</td>\n",
              "      <td>0</td>\n",
              "      <td>1.86</td>\n",
              "      <td>NA</td>\n",
              "      <td>1366x768</td>\n",
              "      <td>1366.00</td>\n",
              "      <td>Intel</td>\n",
              "      <td>2.00</td>\n",
              "      <td>500GB HDD</td>\n",
              "      <td>NaN</td>\n",
              "    </tr>\n",
              "    <tr>\n",
              "      <th>994</th>\n",
              "      <td>1008</td>\n",
              "      <td>Dell</td>\n",
              "      <td>Inspiron 5378</td>\n",
              "      <td>2 in 1 Convertible</td>\n",
              "      <td>13.30</td>\n",
              "      <td>Intel Core i5 7200U 2.5GHz</td>\n",
              "      <td>256GB SSD + NaN</td>\n",
              "      <td>Intel HD Graphics 620</td>\n",
              "      <td>Windows 10</td>\n",
              "      <td>889.00</td>\n",
              "      <td>8.00</td>\n",
              "      <td>0</td>\n",
              "      <td>1.68</td>\n",
              "      <td>Windows</td>\n",
              "      <td>1920x1080</td>\n",
              "      <td>1920.00</td>\n",
              "      <td>Intel</td>\n",
              "      <td>2.50</td>\n",
              "      <td>256GB SSD</td>\n",
              "      <td>NaN</td>\n",
              "    </tr>\n",
              "  </tbody>\n",
              "</table>\n",
              "</div>"
            ],
            "text/plain": [
              "     laptop_ID   Company            Product            TypeName  Inches  \\\n",
              "248        253        HP        ProBook 430            Notebook   13.30   \n",
              "556        563  Mediacom      SmartBook 130            Notebook   13.30   \n",
              "693        701    Lenovo        ThinkPad X1  2 in 1 Convertible   14.00   \n",
              "387        393      Dell     Precision 3510         Workstation   15.60   \n",
              "781        790      Asus  Rog G752VS-BA171T              Gaming   17.30   \n",
              "379        385      Acer           Aspire 7            Notebook   15.60   \n",
              "716        724      Dell      Latitude 5580            Notebook   15.60   \n",
              "880        891        HP     EliteBook x360  2 in 1 Convertible   13.30   \n",
              "654        662        HP             250 G6            Notebook   15.60   \n",
              "994       1008      Dell      Inspiron 5378  2 in 1 Convertible   13.30   \n",
              "\n",
              "                             Cpu                    Memory  \\\n",
              "248   Intel Core i5 8250U 1.6GHz           500GB HDD + NaN   \n",
              "556  Intel Atom x5-Z8350 1.44GHz  32GB Flash Storage + NaN   \n",
              "693   Intel Core i7 7500U 2.7GHz           256GB SSD + NaN   \n",
              "387  Intel Core i5 6440HQ 2.6GHz           500GB HDD + NaN   \n",
              "781  Intel Core i7 6700HQ 2.6GHz      256GB SSD +  1TB HDD   \n",
              "379  Intel Core i7 7700HQ 2.8GHz             1TB HDD + NaN   \n",
              "716   Intel Core i5 7300U 2.6GHz           256GB SSD + NaN   \n",
              "880   Intel Core i5 7200U 2.5GHz           256GB SSD + NaN   \n",
              "654     Intel Core i3 6006U 2GHz           500GB HDD + NaN   \n",
              "994   Intel Core i5 7200U 2.5GHz           256GB SSD + NaN   \n",
              "\n",
              "                         Gpu       OpSys  Price_euros  RAM_GB  GPU_Nvidia_GTX  \\\n",
              "248   Intel UHD Graphics 620  Windows 10       675.00    4.00               0   \n",
              "556        Intel HD Graphics  Windows 10       255.00    4.00               0   \n",
              "693    Intel HD Graphics 620  Windows 10      2590.00    8.00               0   \n",
              "387       AMD FirePro W5130M  Windows 10      1369.00    8.00               0   \n",
              "781  Nvidia GeForce GTX 1070  Windows 10      2350.00   16.00               1   \n",
              "379  Nvidia GeForce GTX 1050       Linux       846.00    8.00               1   \n",
              "716    Intel HD Graphics 620  Windows 10      1179.00    8.00               0   \n",
              "880    Intel HD Graphics 620  Windows 10      1700.00    4.00               0   \n",
              "654    Intel HD Graphics 520       No OS       364.90    4.00               0   \n",
              "994    Intel HD Graphics 620  Windows 10       889.00    8.00               0   \n",
              "\n",
              "     Weight_kg       OS     ScrRes  ScrRes_C1 CPU_mnfc  CPU_speed  \\\n",
              "248       1.49  Windows  1920x1080    1920.00    Intel       1.60   \n",
              "556       1.35  Windows  1920x1080    1920.00    Intel       1.44   \n",
              "693       1.42  Windows  2560x1440    2560.00    Intel       2.70   \n",
              "387       2.23  Windows  1920x1080    1920.00    Intel       2.60   \n",
              "781       4.30  Windows  1920x1080    1920.00    Intel       2.60   \n",
              "379       2.40    Linux  1920x1080    1920.00    Intel       2.80   \n",
              "716       1.90  Windows  1920x1080    1920.00    Intel       2.60   \n",
              "880       1.28  Windows  1920x1080    1920.00    Intel       2.50   \n",
              "654       1.86       NA   1366x768    1366.00    Intel       2.00   \n",
              "994       1.68  Windows  1920x1080    1920.00    Intel       2.50   \n",
              "\n",
              "               Storage1 Storage2  \n",
              "248           500GB HDD      NaN  \n",
              "556  32GB Flash Storage      NaN  \n",
              "693           256GB SSD      NaN  \n",
              "387           500GB HDD      NaN  \n",
              "781           256GB SSD  1TB HDD  \n",
              "379             1TB HDD      NaN  \n",
              "716           256GB SSD      NaN  \n",
              "880           256GB SSD      NaN  \n",
              "654           500GB HDD      NaN  \n",
              "994           256GB SSD      NaN  "
            ]
          },
          "execution_count": 56,
          "metadata": {},
          "output_type": "execute_result"
        },
        {
          "data": {
            "application/javascript": [
              "\n",
              "            setTimeout(function() {\n",
              "                var nbb_cell_id = 56;\n",
              "                var nbb_unformatted_code = \"np.random.seed(2)\\ndf1.sample(10)\";\n",
              "                var nbb_formatted_code = \"np.random.seed(2)\\ndf1.sample(10)\";\n",
              "                var nbb_cells = Jupyter.notebook.get_cells();\n",
              "                for (var i = 0; i < nbb_cells.length; ++i) {\n",
              "                    if (nbb_cells[i].input_prompt_number == nbb_cell_id) {\n",
              "                        if (nbb_cells[i].get_text() == nbb_unformatted_code) {\n",
              "                             nbb_cells[i].set_text(nbb_formatted_code);\n",
              "                        }\n",
              "                        break;\n",
              "                    }\n",
              "                }\n",
              "            }, 500);\n",
              "            "
            ],
            "text/plain": [
              "<IPython.core.display.Javascript object>"
            ]
          },
          "metadata": {},
          "output_type": "display_data"
        }
      ],
      "source": [
        "np.random.seed(2)\n",
        "df1.sample(10)"
      ]
    },
    {
      "cell_type": "code",
      "execution_count": null,
      "id": "8bbaec50",
      "metadata": {
        "id": "8bbaec50",
        "outputId": "ebac0208-0c72-43be-8e45-1626480b9e56"
      },
      "outputs": [
        {
          "data": {
            "text/html": [
              "<div>\n",
              "<style scoped>\n",
              "    .dataframe tbody tr th:only-of-type {\n",
              "        vertical-align: middle;\n",
              "    }\n",
              "\n",
              "    .dataframe tbody tr th {\n",
              "        vertical-align: top;\n",
              "    }\n",
              "\n",
              "    .dataframe thead th {\n",
              "        text-align: right;\n",
              "    }\n",
              "</style>\n",
              "<table border=\"1\" class=\"dataframe\">\n",
              "  <thead>\n",
              "    <tr style=\"text-align: right;\">\n",
              "      <th></th>\n",
              "      <th>laptop_ID</th>\n",
              "      <th>Company</th>\n",
              "      <th>Product</th>\n",
              "      <th>TypeName</th>\n",
              "      <th>Inches</th>\n",
              "      <th>Cpu</th>\n",
              "      <th>Memory</th>\n",
              "      <th>Gpu</th>\n",
              "      <th>OpSys</th>\n",
              "      <th>Price_euros</th>\n",
              "      <th>RAM_GB</th>\n",
              "      <th>GPU_Nvidia_GTX</th>\n",
              "      <th>Weight_kg</th>\n",
              "      <th>OS</th>\n",
              "      <th>ScrRes</th>\n",
              "      <th>ScrRes_C1</th>\n",
              "      <th>CPU_mnfc</th>\n",
              "      <th>CPU_speed</th>\n",
              "      <th>Storage1</th>\n",
              "      <th>Storage2</th>\n",
              "      <th>Storage1_Type</th>\n",
              "      <th>Storage1_Volume</th>\n",
              "      <th>Storage2_Type</th>\n",
              "      <th>Storage2_Volume</th>\n",
              "    </tr>\n",
              "  </thead>\n",
              "  <tbody>\n",
              "    <tr>\n",
              "      <th>0</th>\n",
              "      <td>1</td>\n",
              "      <td>Apple</td>\n",
              "      <td>MacBook Pro</td>\n",
              "      <td>Ultrabook</td>\n",
              "      <td>13.30</td>\n",
              "      <td>Intel Core i5 2.3GHz</td>\n",
              "      <td>128GB SSD + NaN</td>\n",
              "      <td>Intel Iris Plus Graphics 640</td>\n",
              "      <td>macOS</td>\n",
              "      <td>1339.69</td>\n",
              "      <td>8.00</td>\n",
              "      <td>0</td>\n",
              "      <td>1.37</td>\n",
              "      <td>MacOS</td>\n",
              "      <td>2560x1600</td>\n",
              "      <td>2560.00</td>\n",
              "      <td>Intel</td>\n",
              "      <td>2.30</td>\n",
              "      <td>128GB SSD</td>\n",
              "      <td>NaN</td>\n",
              "      <td>SSD</td>\n",
              "      <td>128GB</td>\n",
              "      <td>NaN</td>\n",
              "      <td>NaN</td>\n",
              "    </tr>\n",
              "    <tr>\n",
              "      <th>1</th>\n",
              "      <td>2</td>\n",
              "      <td>Apple</td>\n",
              "      <td>Macbook Air</td>\n",
              "      <td>Ultrabook</td>\n",
              "      <td>13.30</td>\n",
              "      <td>Intel Core i5 1.8GHz</td>\n",
              "      <td>128GB Flash Storage + NaN</td>\n",
              "      <td>Intel HD Graphics 6000</td>\n",
              "      <td>macOS</td>\n",
              "      <td>898.94</td>\n",
              "      <td>8.00</td>\n",
              "      <td>0</td>\n",
              "      <td>1.34</td>\n",
              "      <td>MacOS</td>\n",
              "      <td>1440x900</td>\n",
              "      <td>1440.00</td>\n",
              "      <td>Intel</td>\n",
              "      <td>1.80</td>\n",
              "      <td>128GB Flash Storage</td>\n",
              "      <td>NaN</td>\n",
              "      <td>Flash</td>\n",
              "      <td>128GB</td>\n",
              "      <td>NaN</td>\n",
              "      <td>NaN</td>\n",
              "    </tr>\n",
              "    <tr>\n",
              "      <th>2</th>\n",
              "      <td>3</td>\n",
              "      <td>HP</td>\n",
              "      <td>250 G6</td>\n",
              "      <td>Notebook</td>\n",
              "      <td>15.60</td>\n",
              "      <td>Intel Core i5 7200U 2.5GHz</td>\n",
              "      <td>256GB SSD + NaN</td>\n",
              "      <td>Intel HD Graphics 620</td>\n",
              "      <td>No OS</td>\n",
              "      <td>575.00</td>\n",
              "      <td>8.00</td>\n",
              "      <td>0</td>\n",
              "      <td>1.86</td>\n",
              "      <td>NA</td>\n",
              "      <td>1920x1080</td>\n",
              "      <td>1920.00</td>\n",
              "      <td>Intel</td>\n",
              "      <td>2.50</td>\n",
              "      <td>256GB SSD</td>\n",
              "      <td>NaN</td>\n",
              "      <td>SSD</td>\n",
              "      <td>256GB</td>\n",
              "      <td>NaN</td>\n",
              "      <td>NaN</td>\n",
              "    </tr>\n",
              "    <tr>\n",
              "      <th>3</th>\n",
              "      <td>4</td>\n",
              "      <td>Apple</td>\n",
              "      <td>MacBook Pro</td>\n",
              "      <td>Ultrabook</td>\n",
              "      <td>15.40</td>\n",
              "      <td>Intel Core i7 2.7GHz</td>\n",
              "      <td>512GB SSD + NaN</td>\n",
              "      <td>AMD Radeon Pro 455</td>\n",
              "      <td>macOS</td>\n",
              "      <td>2537.45</td>\n",
              "      <td>16.00</td>\n",
              "      <td>0</td>\n",
              "      <td>1.83</td>\n",
              "      <td>MacOS</td>\n",
              "      <td>2880x1800</td>\n",
              "      <td>2880.00</td>\n",
              "      <td>Intel</td>\n",
              "      <td>2.70</td>\n",
              "      <td>512GB SSD</td>\n",
              "      <td>NaN</td>\n",
              "      <td>SSD</td>\n",
              "      <td>512GB</td>\n",
              "      <td>NaN</td>\n",
              "      <td>NaN</td>\n",
              "    </tr>\n",
              "    <tr>\n",
              "      <th>4</th>\n",
              "      <td>5</td>\n",
              "      <td>Apple</td>\n",
              "      <td>MacBook Pro</td>\n",
              "      <td>Ultrabook</td>\n",
              "      <td>13.30</td>\n",
              "      <td>Intel Core i5 3.1GHz</td>\n",
              "      <td>256GB SSD + NaN</td>\n",
              "      <td>Intel Iris Plus Graphics 650</td>\n",
              "      <td>macOS</td>\n",
              "      <td>1803.60</td>\n",
              "      <td>8.00</td>\n",
              "      <td>0</td>\n",
              "      <td>1.37</td>\n",
              "      <td>MacOS</td>\n",
              "      <td>2560x1600</td>\n",
              "      <td>2560.00</td>\n",
              "      <td>Intel</td>\n",
              "      <td>3.10</td>\n",
              "      <td>256GB SSD</td>\n",
              "      <td>NaN</td>\n",
              "      <td>SSD</td>\n",
              "      <td>256GB</td>\n",
              "      <td>NaN</td>\n",
              "      <td>NaN</td>\n",
              "    </tr>\n",
              "  </tbody>\n",
              "</table>\n",
              "</div>"
            ],
            "text/plain": [
              "   laptop_ID Company      Product   TypeName  Inches  \\\n",
              "0          1   Apple  MacBook Pro  Ultrabook   13.30   \n",
              "1          2   Apple  Macbook Air  Ultrabook   13.30   \n",
              "2          3      HP       250 G6   Notebook   15.60   \n",
              "3          4   Apple  MacBook Pro  Ultrabook   15.40   \n",
              "4          5   Apple  MacBook Pro  Ultrabook   13.30   \n",
              "\n",
              "                          Cpu                     Memory  \\\n",
              "0        Intel Core i5 2.3GHz            128GB SSD + NaN   \n",
              "1        Intel Core i5 1.8GHz  128GB Flash Storage + NaN   \n",
              "2  Intel Core i5 7200U 2.5GHz            256GB SSD + NaN   \n",
              "3        Intel Core i7 2.7GHz            512GB SSD + NaN   \n",
              "4        Intel Core i5 3.1GHz            256GB SSD + NaN   \n",
              "\n",
              "                            Gpu  OpSys  Price_euros  RAM_GB  GPU_Nvidia_GTX  \\\n",
              "0  Intel Iris Plus Graphics 640  macOS      1339.69    8.00               0   \n",
              "1        Intel HD Graphics 6000  macOS       898.94    8.00               0   \n",
              "2         Intel HD Graphics 620  No OS       575.00    8.00               0   \n",
              "3            AMD Radeon Pro 455  macOS      2537.45   16.00               0   \n",
              "4  Intel Iris Plus Graphics 650  macOS      1803.60    8.00               0   \n",
              "\n",
              "   Weight_kg     OS     ScrRes  ScrRes_C1 CPU_mnfc  CPU_speed  \\\n",
              "0       1.37  MacOS  2560x1600    2560.00    Intel       2.30   \n",
              "1       1.34  MacOS   1440x900    1440.00    Intel       1.80   \n",
              "2       1.86     NA  1920x1080    1920.00    Intel       2.50   \n",
              "3       1.83  MacOS  2880x1800    2880.00    Intel       2.70   \n",
              "4       1.37  MacOS  2560x1600    2560.00    Intel       3.10   \n",
              "\n",
              "              Storage1 Storage2 Storage1_Type Storage1_Volume Storage2_Type  \\\n",
              "0            128GB SSD      NaN           SSD           128GB           NaN   \n",
              "1  128GB Flash Storage      NaN         Flash           128GB           NaN   \n",
              "2            256GB SSD      NaN           SSD           256GB           NaN   \n",
              "3            512GB SSD      NaN           SSD           512GB           NaN   \n",
              "4            256GB SSD      NaN           SSD           256GB           NaN   \n",
              "\n",
              "  Storage2_Volume  \n",
              "0             NaN  \n",
              "1             NaN  \n",
              "2             NaN  \n",
              "3             NaN  \n",
              "4             NaN  "
            ]
          },
          "execution_count": 57,
          "metadata": {},
          "output_type": "execute_result"
        },
        {
          "data": {
            "application/javascript": [
              "\n",
              "            setTimeout(function() {\n",
              "                var nbb_cell_id = 57;\n",
              "                var nbb_unformatted_code = \"df1[\\\"Storage1_Type\\\"] = df1[\\\"Storage1\\\"].str.split(\\\" \\\").str[1]\\ndf1[\\\"Storage1_Volume\\\"] = df1[\\\"Storage1\\\"].str.split(\\\" \\\").str[0]\\n\\ndf1[\\\"Storage2_Type\\\"] = df1[\\\"Storage2\\\"].str.split(\\\" \\\").str[1]\\ndf1[\\\"Storage2_Volume\\\"] = df1[\\\"Storage2\\\"].str.split(\\\" \\\").str[0]\\n\\ndf1.head()\";\n",
              "                var nbb_formatted_code = \"df1[\\\"Storage1_Type\\\"] = df1[\\\"Storage1\\\"].str.split(\\\" \\\").str[1]\\ndf1[\\\"Storage1_Volume\\\"] = df1[\\\"Storage1\\\"].str.split(\\\" \\\").str[0]\\n\\ndf1[\\\"Storage2_Type\\\"] = df1[\\\"Storage2\\\"].str.split(\\\" \\\").str[1]\\ndf1[\\\"Storage2_Volume\\\"] = df1[\\\"Storage2\\\"].str.split(\\\" \\\").str[0]\\n\\ndf1.head()\";\n",
              "                var nbb_cells = Jupyter.notebook.get_cells();\n",
              "                for (var i = 0; i < nbb_cells.length; ++i) {\n",
              "                    if (nbb_cells[i].input_prompt_number == nbb_cell_id) {\n",
              "                        if (nbb_cells[i].get_text() == nbb_unformatted_code) {\n",
              "                             nbb_cells[i].set_text(nbb_formatted_code);\n",
              "                        }\n",
              "                        break;\n",
              "                    }\n",
              "                }\n",
              "            }, 500);\n",
              "            "
            ],
            "text/plain": [
              "<IPython.core.display.Javascript object>"
            ]
          },
          "metadata": {},
          "output_type": "display_data"
        }
      ],
      "source": [
        "df1[\"Storage1_Type\"] = df1[\"Storage1\"].str.split(\" \").str[1]\n",
        "df1[\"Storage1_Volume\"] = df1[\"Storage1\"].str.split(\" \").str[0]\n",
        "\n",
        "df1[\"Storage2_Type\"] = df1[\"Storage2\"].str.split(\" \").str[1]\n",
        "df1[\"Storage2_Volume\"] = df1[\"Storage2\"].str.split(\" \").str[0]\n",
        "\n",
        "df1.head()"
      ]
    },
    {
      "cell_type": "code",
      "execution_count": null,
      "id": "7826c669",
      "metadata": {
        "id": "7826c669",
        "outputId": "1a8d5b2a-85e0-4424-ef48-bc7163d6d49d"
      },
      "outputs": [
        {
          "data": {
            "text/html": [
              "<div>\n",
              "<style scoped>\n",
              "    .dataframe tbody tr th:only-of-type {\n",
              "        vertical-align: middle;\n",
              "    }\n",
              "\n",
              "    .dataframe tbody tr th {\n",
              "        vertical-align: top;\n",
              "    }\n",
              "\n",
              "    .dataframe thead th {\n",
              "        text-align: right;\n",
              "    }\n",
              "</style>\n",
              "<table border=\"1\" class=\"dataframe\">\n",
              "  <thead>\n",
              "    <tr style=\"text-align: right;\">\n",
              "      <th></th>\n",
              "      <th>laptop_ID</th>\n",
              "      <th>Company</th>\n",
              "      <th>Product</th>\n",
              "      <th>TypeName</th>\n",
              "      <th>Inches</th>\n",
              "      <th>Cpu</th>\n",
              "      <th>Memory</th>\n",
              "      <th>Gpu</th>\n",
              "      <th>OpSys</th>\n",
              "      <th>Price_euros</th>\n",
              "      <th>RAM_GB</th>\n",
              "      <th>GPU_Nvidia_GTX</th>\n",
              "      <th>Weight_kg</th>\n",
              "      <th>OS</th>\n",
              "      <th>ScrRes</th>\n",
              "      <th>ScrRes_C1</th>\n",
              "      <th>CPU_mnfc</th>\n",
              "      <th>CPU_speed</th>\n",
              "      <th>Storage1</th>\n",
              "      <th>Storage2</th>\n",
              "      <th>Storage1_Type</th>\n",
              "      <th>Storage1_Volume</th>\n",
              "      <th>Storage2_Type</th>\n",
              "      <th>Storage2_Volume</th>\n",
              "    </tr>\n",
              "  </thead>\n",
              "  <tbody>\n",
              "    <tr>\n",
              "      <th>248</th>\n",
              "      <td>253</td>\n",
              "      <td>HP</td>\n",
              "      <td>ProBook 430</td>\n",
              "      <td>Notebook</td>\n",
              "      <td>13.30</td>\n",
              "      <td>Intel Core i5 8250U 1.6GHz</td>\n",
              "      <td>500GB HDD + NaN</td>\n",
              "      <td>Intel UHD Graphics 620</td>\n",
              "      <td>Windows 10</td>\n",
              "      <td>675.00</td>\n",
              "      <td>4.00</td>\n",
              "      <td>0</td>\n",
              "      <td>1.49</td>\n",
              "      <td>Windows</td>\n",
              "      <td>1920x1080</td>\n",
              "      <td>1920.00</td>\n",
              "      <td>Intel</td>\n",
              "      <td>1.60</td>\n",
              "      <td>500GB HDD</td>\n",
              "      <td>NaN</td>\n",
              "      <td>HDD</td>\n",
              "      <td>500GB</td>\n",
              "      <td>NaN</td>\n",
              "      <td>NaN</td>\n",
              "    </tr>\n",
              "    <tr>\n",
              "      <th>556</th>\n",
              "      <td>563</td>\n",
              "      <td>Mediacom</td>\n",
              "      <td>SmartBook 130</td>\n",
              "      <td>Notebook</td>\n",
              "      <td>13.30</td>\n",
              "      <td>Intel Atom x5-Z8350 1.44GHz</td>\n",
              "      <td>32GB Flash Storage + NaN</td>\n",
              "      <td>Intel HD Graphics</td>\n",
              "      <td>Windows 10</td>\n",
              "      <td>255.00</td>\n",
              "      <td>4.00</td>\n",
              "      <td>0</td>\n",
              "      <td>1.35</td>\n",
              "      <td>Windows</td>\n",
              "      <td>1920x1080</td>\n",
              "      <td>1920.00</td>\n",
              "      <td>Intel</td>\n",
              "      <td>1.44</td>\n",
              "      <td>32GB Flash Storage</td>\n",
              "      <td>NaN</td>\n",
              "      <td>Flash</td>\n",
              "      <td>32GB</td>\n",
              "      <td>NaN</td>\n",
              "      <td>NaN</td>\n",
              "    </tr>\n",
              "    <tr>\n",
              "      <th>693</th>\n",
              "      <td>701</td>\n",
              "      <td>Lenovo</td>\n",
              "      <td>ThinkPad X1</td>\n",
              "      <td>2 in 1 Convertible</td>\n",
              "      <td>14.00</td>\n",
              "      <td>Intel Core i7 7500U 2.7GHz</td>\n",
              "      <td>256GB SSD + NaN</td>\n",
              "      <td>Intel HD Graphics 620</td>\n",
              "      <td>Windows 10</td>\n",
              "      <td>2590.00</td>\n",
              "      <td>8.00</td>\n",
              "      <td>0</td>\n",
              "      <td>1.42</td>\n",
              "      <td>Windows</td>\n",
              "      <td>2560x1440</td>\n",
              "      <td>2560.00</td>\n",
              "      <td>Intel</td>\n",
              "      <td>2.70</td>\n",
              "      <td>256GB SSD</td>\n",
              "      <td>NaN</td>\n",
              "      <td>SSD</td>\n",
              "      <td>256GB</td>\n",
              "      <td>NaN</td>\n",
              "      <td>NaN</td>\n",
              "    </tr>\n",
              "    <tr>\n",
              "      <th>387</th>\n",
              "      <td>393</td>\n",
              "      <td>Dell</td>\n",
              "      <td>Precision 3510</td>\n",
              "      <td>Workstation</td>\n",
              "      <td>15.60</td>\n",
              "      <td>Intel Core i5 6440HQ 2.6GHz</td>\n",
              "      <td>500GB HDD + NaN</td>\n",
              "      <td>AMD FirePro W5130M</td>\n",
              "      <td>Windows 10</td>\n",
              "      <td>1369.00</td>\n",
              "      <td>8.00</td>\n",
              "      <td>0</td>\n",
              "      <td>2.23</td>\n",
              "      <td>Windows</td>\n",
              "      <td>1920x1080</td>\n",
              "      <td>1920.00</td>\n",
              "      <td>Intel</td>\n",
              "      <td>2.60</td>\n",
              "      <td>500GB HDD</td>\n",
              "      <td>NaN</td>\n",
              "      <td>HDD</td>\n",
              "      <td>500GB</td>\n",
              "      <td>NaN</td>\n",
              "      <td>NaN</td>\n",
              "    </tr>\n",
              "    <tr>\n",
              "      <th>781</th>\n",
              "      <td>790</td>\n",
              "      <td>Asus</td>\n",
              "      <td>Rog G752VS-BA171T</td>\n",
              "      <td>Gaming</td>\n",
              "      <td>17.30</td>\n",
              "      <td>Intel Core i7 6700HQ 2.6GHz</td>\n",
              "      <td>256GB SSD +  1TB HDD</td>\n",
              "      <td>Nvidia GeForce GTX 1070</td>\n",
              "      <td>Windows 10</td>\n",
              "      <td>2350.00</td>\n",
              "      <td>16.00</td>\n",
              "      <td>1</td>\n",
              "      <td>4.30</td>\n",
              "      <td>Windows</td>\n",
              "      <td>1920x1080</td>\n",
              "      <td>1920.00</td>\n",
              "      <td>Intel</td>\n",
              "      <td>2.60</td>\n",
              "      <td>256GB SSD</td>\n",
              "      <td>1TB HDD</td>\n",
              "      <td>SSD</td>\n",
              "      <td>256GB</td>\n",
              "      <td>HDD</td>\n",
              "      <td>1TB</td>\n",
              "    </tr>\n",
              "    <tr>\n",
              "      <th>379</th>\n",
              "      <td>385</td>\n",
              "      <td>Acer</td>\n",
              "      <td>Aspire 7</td>\n",
              "      <td>Notebook</td>\n",
              "      <td>15.60</td>\n",
              "      <td>Intel Core i7 7700HQ 2.8GHz</td>\n",
              "      <td>1TB HDD + NaN</td>\n",
              "      <td>Nvidia GeForce GTX 1050</td>\n",
              "      <td>Linux</td>\n",
              "      <td>846.00</td>\n",
              "      <td>8.00</td>\n",
              "      <td>1</td>\n",
              "      <td>2.40</td>\n",
              "      <td>Linux</td>\n",
              "      <td>1920x1080</td>\n",
              "      <td>1920.00</td>\n",
              "      <td>Intel</td>\n",
              "      <td>2.80</td>\n",
              "      <td>1TB HDD</td>\n",
              "      <td>NaN</td>\n",
              "      <td>HDD</td>\n",
              "      <td>1TB</td>\n",
              "      <td>NaN</td>\n",
              "      <td>NaN</td>\n",
              "    </tr>\n",
              "    <tr>\n",
              "      <th>716</th>\n",
              "      <td>724</td>\n",
              "      <td>Dell</td>\n",
              "      <td>Latitude 5580</td>\n",
              "      <td>Notebook</td>\n",
              "      <td>15.60</td>\n",
              "      <td>Intel Core i5 7300U 2.6GHz</td>\n",
              "      <td>256GB SSD + NaN</td>\n",
              "      <td>Intel HD Graphics 620</td>\n",
              "      <td>Windows 10</td>\n",
              "      <td>1179.00</td>\n",
              "      <td>8.00</td>\n",
              "      <td>0</td>\n",
              "      <td>1.90</td>\n",
              "      <td>Windows</td>\n",
              "      <td>1920x1080</td>\n",
              "      <td>1920.00</td>\n",
              "      <td>Intel</td>\n",
              "      <td>2.60</td>\n",
              "      <td>256GB SSD</td>\n",
              "      <td>NaN</td>\n",
              "      <td>SSD</td>\n",
              "      <td>256GB</td>\n",
              "      <td>NaN</td>\n",
              "      <td>NaN</td>\n",
              "    </tr>\n",
              "    <tr>\n",
              "      <th>880</th>\n",
              "      <td>891</td>\n",
              "      <td>HP</td>\n",
              "      <td>EliteBook x360</td>\n",
              "      <td>2 in 1 Convertible</td>\n",
              "      <td>13.30</td>\n",
              "      <td>Intel Core i5 7200U 2.5GHz</td>\n",
              "      <td>256GB SSD + NaN</td>\n",
              "      <td>Intel HD Graphics 620</td>\n",
              "      <td>Windows 10</td>\n",
              "      <td>1700.00</td>\n",
              "      <td>4.00</td>\n",
              "      <td>0</td>\n",
              "      <td>1.28</td>\n",
              "      <td>Windows</td>\n",
              "      <td>1920x1080</td>\n",
              "      <td>1920.00</td>\n",
              "      <td>Intel</td>\n",
              "      <td>2.50</td>\n",
              "      <td>256GB SSD</td>\n",
              "      <td>NaN</td>\n",
              "      <td>SSD</td>\n",
              "      <td>256GB</td>\n",
              "      <td>NaN</td>\n",
              "      <td>NaN</td>\n",
              "    </tr>\n",
              "    <tr>\n",
              "      <th>654</th>\n",
              "      <td>662</td>\n",
              "      <td>HP</td>\n",
              "      <td>250 G6</td>\n",
              "      <td>Notebook</td>\n",
              "      <td>15.60</td>\n",
              "      <td>Intel Core i3 6006U 2GHz</td>\n",
              "      <td>500GB HDD + NaN</td>\n",
              "      <td>Intel HD Graphics 520</td>\n",
              "      <td>No OS</td>\n",
              "      <td>364.90</td>\n",
              "      <td>4.00</td>\n",
              "      <td>0</td>\n",
              "      <td>1.86</td>\n",
              "      <td>NA</td>\n",
              "      <td>1366x768</td>\n",
              "      <td>1366.00</td>\n",
              "      <td>Intel</td>\n",
              "      <td>2.00</td>\n",
              "      <td>500GB HDD</td>\n",
              "      <td>NaN</td>\n",
              "      <td>HDD</td>\n",
              "      <td>500GB</td>\n",
              "      <td>NaN</td>\n",
              "      <td>NaN</td>\n",
              "    </tr>\n",
              "    <tr>\n",
              "      <th>994</th>\n",
              "      <td>1008</td>\n",
              "      <td>Dell</td>\n",
              "      <td>Inspiron 5378</td>\n",
              "      <td>2 in 1 Convertible</td>\n",
              "      <td>13.30</td>\n",
              "      <td>Intel Core i5 7200U 2.5GHz</td>\n",
              "      <td>256GB SSD + NaN</td>\n",
              "      <td>Intel HD Graphics 620</td>\n",
              "      <td>Windows 10</td>\n",
              "      <td>889.00</td>\n",
              "      <td>8.00</td>\n",
              "      <td>0</td>\n",
              "      <td>1.68</td>\n",
              "      <td>Windows</td>\n",
              "      <td>1920x1080</td>\n",
              "      <td>1920.00</td>\n",
              "      <td>Intel</td>\n",
              "      <td>2.50</td>\n",
              "      <td>256GB SSD</td>\n",
              "      <td>NaN</td>\n",
              "      <td>SSD</td>\n",
              "      <td>256GB</td>\n",
              "      <td>NaN</td>\n",
              "      <td>NaN</td>\n",
              "    </tr>\n",
              "  </tbody>\n",
              "</table>\n",
              "</div>"
            ],
            "text/plain": [
              "     laptop_ID   Company            Product            TypeName  Inches  \\\n",
              "248        253        HP        ProBook 430            Notebook   13.30   \n",
              "556        563  Mediacom      SmartBook 130            Notebook   13.30   \n",
              "693        701    Lenovo        ThinkPad X1  2 in 1 Convertible   14.00   \n",
              "387        393      Dell     Precision 3510         Workstation   15.60   \n",
              "781        790      Asus  Rog G752VS-BA171T              Gaming   17.30   \n",
              "379        385      Acer           Aspire 7            Notebook   15.60   \n",
              "716        724      Dell      Latitude 5580            Notebook   15.60   \n",
              "880        891        HP     EliteBook x360  2 in 1 Convertible   13.30   \n",
              "654        662        HP             250 G6            Notebook   15.60   \n",
              "994       1008      Dell      Inspiron 5378  2 in 1 Convertible   13.30   \n",
              "\n",
              "                             Cpu                    Memory  \\\n",
              "248   Intel Core i5 8250U 1.6GHz           500GB HDD + NaN   \n",
              "556  Intel Atom x5-Z8350 1.44GHz  32GB Flash Storage + NaN   \n",
              "693   Intel Core i7 7500U 2.7GHz           256GB SSD + NaN   \n",
              "387  Intel Core i5 6440HQ 2.6GHz           500GB HDD + NaN   \n",
              "781  Intel Core i7 6700HQ 2.6GHz      256GB SSD +  1TB HDD   \n",
              "379  Intel Core i7 7700HQ 2.8GHz             1TB HDD + NaN   \n",
              "716   Intel Core i5 7300U 2.6GHz           256GB SSD + NaN   \n",
              "880   Intel Core i5 7200U 2.5GHz           256GB SSD + NaN   \n",
              "654     Intel Core i3 6006U 2GHz           500GB HDD + NaN   \n",
              "994   Intel Core i5 7200U 2.5GHz           256GB SSD + NaN   \n",
              "\n",
              "                         Gpu       OpSys  Price_euros  RAM_GB  GPU_Nvidia_GTX  \\\n",
              "248   Intel UHD Graphics 620  Windows 10       675.00    4.00               0   \n",
              "556        Intel HD Graphics  Windows 10       255.00    4.00               0   \n",
              "693    Intel HD Graphics 620  Windows 10      2590.00    8.00               0   \n",
              "387       AMD FirePro W5130M  Windows 10      1369.00    8.00               0   \n",
              "781  Nvidia GeForce GTX 1070  Windows 10      2350.00   16.00               1   \n",
              "379  Nvidia GeForce GTX 1050       Linux       846.00    8.00               1   \n",
              "716    Intel HD Graphics 620  Windows 10      1179.00    8.00               0   \n",
              "880    Intel HD Graphics 620  Windows 10      1700.00    4.00               0   \n",
              "654    Intel HD Graphics 520       No OS       364.90    4.00               0   \n",
              "994    Intel HD Graphics 620  Windows 10       889.00    8.00               0   \n",
              "\n",
              "     Weight_kg       OS     ScrRes  ScrRes_C1 CPU_mnfc  CPU_speed  \\\n",
              "248       1.49  Windows  1920x1080    1920.00    Intel       1.60   \n",
              "556       1.35  Windows  1920x1080    1920.00    Intel       1.44   \n",
              "693       1.42  Windows  2560x1440    2560.00    Intel       2.70   \n",
              "387       2.23  Windows  1920x1080    1920.00    Intel       2.60   \n",
              "781       4.30  Windows  1920x1080    1920.00    Intel       2.60   \n",
              "379       2.40    Linux  1920x1080    1920.00    Intel       2.80   \n",
              "716       1.90  Windows  1920x1080    1920.00    Intel       2.60   \n",
              "880       1.28  Windows  1920x1080    1920.00    Intel       2.50   \n",
              "654       1.86       NA   1366x768    1366.00    Intel       2.00   \n",
              "994       1.68  Windows  1920x1080    1920.00    Intel       2.50   \n",
              "\n",
              "               Storage1 Storage2 Storage1_Type Storage1_Volume Storage2_Type  \\\n",
              "248           500GB HDD      NaN           HDD           500GB           NaN   \n",
              "556  32GB Flash Storage      NaN         Flash            32GB           NaN   \n",
              "693           256GB SSD      NaN           SSD           256GB           NaN   \n",
              "387           500GB HDD      NaN           HDD           500GB           NaN   \n",
              "781           256GB SSD  1TB HDD           SSD           256GB           HDD   \n",
              "379             1TB HDD      NaN           HDD             1TB           NaN   \n",
              "716           256GB SSD      NaN           SSD           256GB           NaN   \n",
              "880           256GB SSD      NaN           SSD           256GB           NaN   \n",
              "654           500GB HDD      NaN           HDD           500GB           NaN   \n",
              "994           256GB SSD      NaN           SSD           256GB           NaN   \n",
              "\n",
              "    Storage2_Volume  \n",
              "248             NaN  \n",
              "556             NaN  \n",
              "693             NaN  \n",
              "387             NaN  \n",
              "781             1TB  \n",
              "379             NaN  \n",
              "716             NaN  \n",
              "880             NaN  \n",
              "654             NaN  \n",
              "994             NaN  "
            ]
          },
          "execution_count": 58,
          "metadata": {},
          "output_type": "execute_result"
        },
        {
          "data": {
            "application/javascript": [
              "\n",
              "            setTimeout(function() {\n",
              "                var nbb_cell_id = 58;\n",
              "                var nbb_unformatted_code = \"np.random.seed(2)\\ndf1.sample(10)\";\n",
              "                var nbb_formatted_code = \"np.random.seed(2)\\ndf1.sample(10)\";\n",
              "                var nbb_cells = Jupyter.notebook.get_cells();\n",
              "                for (var i = 0; i < nbb_cells.length; ++i) {\n",
              "                    if (nbb_cells[i].input_prompt_number == nbb_cell_id) {\n",
              "                        if (nbb_cells[i].get_text() == nbb_unformatted_code) {\n",
              "                             nbb_cells[i].set_text(nbb_formatted_code);\n",
              "                        }\n",
              "                        break;\n",
              "                    }\n",
              "                }\n",
              "            }, 500);\n",
              "            "
            ],
            "text/plain": [
              "<IPython.core.display.Javascript object>"
            ]
          },
          "metadata": {},
          "output_type": "display_data"
        }
      ],
      "source": [
        "np.random.seed(2)\n",
        "df1.sample(10)"
      ]
    },
    {
      "cell_type": "code",
      "execution_count": null,
      "id": "e0703288",
      "metadata": {
        "id": "e0703288",
        "outputId": "dad93c7f-9f46-4d51-f3d9-119537bfd97a"
      },
      "outputs": [
        {
          "data": {
            "application/javascript": [
              "\n",
              "            setTimeout(function() {\n",
              "                var nbb_cell_id = 59;\n",
              "                var nbb_unformatted_code = \"def storage_volume_to_num(str_vol_val):\\n    \\\"\\\"\\\"This function takes in a string representing the volume of a storage device\\n    and converts it to a number.\\n    For example, '256GB' becomes 256.\\n    If the input is already numeric, which probably means it's NaN,\\n    this function just returns np.nan.\\\"\\\"\\\"\\n    if isinstance(str_vol_val, str):  # checks if `str_vol_val` is a string\\n        multiplier = 1  # handles GB vs TB\\n        if str_vol_val.endswith(\\\"TB\\\"):\\n            multiplier = 1024\\n        return float(str_vol_val.replace(\\\"GB\\\", \\\"\\\").replace(\\\"TB\\\", \\\"\\\")) * multiplier\\n    else:  # this happens when the str_vol is np.nan\\n        return np.nan\";\n",
              "                var nbb_formatted_code = \"def storage_volume_to_num(str_vol_val):\\n    \\\"\\\"\\\"This function takes in a string representing the volume of a storage device\\n    and converts it to a number.\\n    For example, '256GB' becomes 256.\\n    If the input is already numeric, which probably means it's NaN,\\n    this function just returns np.nan.\\\"\\\"\\\"\\n    if isinstance(str_vol_val, str):  # checks if `str_vol_val` is a string\\n        multiplier = 1  # handles GB vs TB\\n        if str_vol_val.endswith(\\\"TB\\\"):\\n            multiplier = 1024\\n        return float(str_vol_val.replace(\\\"GB\\\", \\\"\\\").replace(\\\"TB\\\", \\\"\\\")) * multiplier\\n    else:  # this happens when the str_vol is np.nan\\n        return np.nan\";\n",
              "                var nbb_cells = Jupyter.notebook.get_cells();\n",
              "                for (var i = 0; i < nbb_cells.length; ++i) {\n",
              "                    if (nbb_cells[i].input_prompt_number == nbb_cell_id) {\n",
              "                        if (nbb_cells[i].get_text() == nbb_unformatted_code) {\n",
              "                             nbb_cells[i].set_text(nbb_formatted_code);\n",
              "                        }\n",
              "                        break;\n",
              "                    }\n",
              "                }\n",
              "            }, 500);\n",
              "            "
            ],
            "text/plain": [
              "<IPython.core.display.Javascript object>"
            ]
          },
          "metadata": {},
          "output_type": "display_data"
        }
      ],
      "source": [
        "def storage_volume_to_num(str_vol_val):\n",
        "    \"\"\"This function takes in a string representing the volume of a storage device\n",
        "    and converts it to a number.\n",
        "    For example, '256GB' becomes 256.\n",
        "    If the input is already numeric, which probably means it's NaN,\n",
        "    this function just returns np.nan.\"\"\"\n",
        "    if isinstance(str_vol_val, str):  # checks if `str_vol_val` is a string\n",
        "        multiplier = 1  # handles GB vs TB\n",
        "        if str_vol_val.endswith(\"TB\"):\n",
        "            multiplier = 1024\n",
        "        return float(str_vol_val.replace(\"GB\", \"\").replace(\"TB\", \"\")) * multiplier\n",
        "    else:  # this happens when the str_vol is np.nan\n",
        "        return np.nan"
      ]
    },
    {
      "cell_type": "code",
      "execution_count": null,
      "id": "30fa9683",
      "metadata": {
        "id": "30fa9683",
        "outputId": "3a39a7c5-2c74-4256-e973-276cf679163a"
      },
      "outputs": [
        {
          "data": {
            "text/html": [
              "<div>\n",
              "<style scoped>\n",
              "    .dataframe tbody tr th:only-of-type {\n",
              "        vertical-align: middle;\n",
              "    }\n",
              "\n",
              "    .dataframe tbody tr th {\n",
              "        vertical-align: top;\n",
              "    }\n",
              "\n",
              "    .dataframe thead th {\n",
              "        text-align: right;\n",
              "    }\n",
              "</style>\n",
              "<table border=\"1\" class=\"dataframe\">\n",
              "  <thead>\n",
              "    <tr style=\"text-align: right;\">\n",
              "      <th></th>\n",
              "      <th>laptop_ID</th>\n",
              "      <th>Company</th>\n",
              "      <th>Product</th>\n",
              "      <th>TypeName</th>\n",
              "      <th>Inches</th>\n",
              "      <th>Cpu</th>\n",
              "      <th>Memory</th>\n",
              "      <th>Gpu</th>\n",
              "      <th>OpSys</th>\n",
              "      <th>Price_euros</th>\n",
              "      <th>RAM_GB</th>\n",
              "      <th>GPU_Nvidia_GTX</th>\n",
              "      <th>Weight_kg</th>\n",
              "      <th>OS</th>\n",
              "      <th>ScrRes</th>\n",
              "      <th>ScrRes_C1</th>\n",
              "      <th>CPU_mnfc</th>\n",
              "      <th>CPU_speed</th>\n",
              "      <th>Storage1</th>\n",
              "      <th>Storage2</th>\n",
              "      <th>Storage1_Type</th>\n",
              "      <th>Storage1_Volume</th>\n",
              "      <th>Storage2_Type</th>\n",
              "      <th>Storage2_Volume</th>\n",
              "    </tr>\n",
              "  </thead>\n",
              "  <tbody>\n",
              "    <tr>\n",
              "      <th>0</th>\n",
              "      <td>1</td>\n",
              "      <td>Apple</td>\n",
              "      <td>MacBook Pro</td>\n",
              "      <td>Ultrabook</td>\n",
              "      <td>13.30</td>\n",
              "      <td>Intel Core i5 2.3GHz</td>\n",
              "      <td>128GB SSD + NaN</td>\n",
              "      <td>Intel Iris Plus Graphics 640</td>\n",
              "      <td>macOS</td>\n",
              "      <td>1339.69</td>\n",
              "      <td>8.00</td>\n",
              "      <td>0</td>\n",
              "      <td>1.37</td>\n",
              "      <td>MacOS</td>\n",
              "      <td>2560x1600</td>\n",
              "      <td>2560.00</td>\n",
              "      <td>Intel</td>\n",
              "      <td>2.30</td>\n",
              "      <td>128GB SSD</td>\n",
              "      <td>NaN</td>\n",
              "      <td>SSD</td>\n",
              "      <td>128.00</td>\n",
              "      <td>NaN</td>\n",
              "      <td>NaN</td>\n",
              "    </tr>\n",
              "    <tr>\n",
              "      <th>1</th>\n",
              "      <td>2</td>\n",
              "      <td>Apple</td>\n",
              "      <td>Macbook Air</td>\n",
              "      <td>Ultrabook</td>\n",
              "      <td>13.30</td>\n",
              "      <td>Intel Core i5 1.8GHz</td>\n",
              "      <td>128GB Flash Storage + NaN</td>\n",
              "      <td>Intel HD Graphics 6000</td>\n",
              "      <td>macOS</td>\n",
              "      <td>898.94</td>\n",
              "      <td>8.00</td>\n",
              "      <td>0</td>\n",
              "      <td>1.34</td>\n",
              "      <td>MacOS</td>\n",
              "      <td>1440x900</td>\n",
              "      <td>1440.00</td>\n",
              "      <td>Intel</td>\n",
              "      <td>1.80</td>\n",
              "      <td>128GB Flash Storage</td>\n",
              "      <td>NaN</td>\n",
              "      <td>Flash</td>\n",
              "      <td>128.00</td>\n",
              "      <td>NaN</td>\n",
              "      <td>NaN</td>\n",
              "    </tr>\n",
              "    <tr>\n",
              "      <th>2</th>\n",
              "      <td>3</td>\n",
              "      <td>HP</td>\n",
              "      <td>250 G6</td>\n",
              "      <td>Notebook</td>\n",
              "      <td>15.60</td>\n",
              "      <td>Intel Core i5 7200U 2.5GHz</td>\n",
              "      <td>256GB SSD + NaN</td>\n",
              "      <td>Intel HD Graphics 620</td>\n",
              "      <td>No OS</td>\n",
              "      <td>575.00</td>\n",
              "      <td>8.00</td>\n",
              "      <td>0</td>\n",
              "      <td>1.86</td>\n",
              "      <td>NA</td>\n",
              "      <td>1920x1080</td>\n",
              "      <td>1920.00</td>\n",
              "      <td>Intel</td>\n",
              "      <td>2.50</td>\n",
              "      <td>256GB SSD</td>\n",
              "      <td>NaN</td>\n",
              "      <td>SSD</td>\n",
              "      <td>256.00</td>\n",
              "      <td>NaN</td>\n",
              "      <td>NaN</td>\n",
              "    </tr>\n",
              "    <tr>\n",
              "      <th>3</th>\n",
              "      <td>4</td>\n",
              "      <td>Apple</td>\n",
              "      <td>MacBook Pro</td>\n",
              "      <td>Ultrabook</td>\n",
              "      <td>15.40</td>\n",
              "      <td>Intel Core i7 2.7GHz</td>\n",
              "      <td>512GB SSD + NaN</td>\n",
              "      <td>AMD Radeon Pro 455</td>\n",
              "      <td>macOS</td>\n",
              "      <td>2537.45</td>\n",
              "      <td>16.00</td>\n",
              "      <td>0</td>\n",
              "      <td>1.83</td>\n",
              "      <td>MacOS</td>\n",
              "      <td>2880x1800</td>\n",
              "      <td>2880.00</td>\n",
              "      <td>Intel</td>\n",
              "      <td>2.70</td>\n",
              "      <td>512GB SSD</td>\n",
              "      <td>NaN</td>\n",
              "      <td>SSD</td>\n",
              "      <td>512.00</td>\n",
              "      <td>NaN</td>\n",
              "      <td>NaN</td>\n",
              "    </tr>\n",
              "    <tr>\n",
              "      <th>4</th>\n",
              "      <td>5</td>\n",
              "      <td>Apple</td>\n",
              "      <td>MacBook Pro</td>\n",
              "      <td>Ultrabook</td>\n",
              "      <td>13.30</td>\n",
              "      <td>Intel Core i5 3.1GHz</td>\n",
              "      <td>256GB SSD + NaN</td>\n",
              "      <td>Intel Iris Plus Graphics 650</td>\n",
              "      <td>macOS</td>\n",
              "      <td>1803.60</td>\n",
              "      <td>8.00</td>\n",
              "      <td>0</td>\n",
              "      <td>1.37</td>\n",
              "      <td>MacOS</td>\n",
              "      <td>2560x1600</td>\n",
              "      <td>2560.00</td>\n",
              "      <td>Intel</td>\n",
              "      <td>3.10</td>\n",
              "      <td>256GB SSD</td>\n",
              "      <td>NaN</td>\n",
              "      <td>SSD</td>\n",
              "      <td>256.00</td>\n",
              "      <td>NaN</td>\n",
              "      <td>NaN</td>\n",
              "    </tr>\n",
              "  </tbody>\n",
              "</table>\n",
              "</div>"
            ],
            "text/plain": [
              "   laptop_ID Company      Product   TypeName  Inches  \\\n",
              "0          1   Apple  MacBook Pro  Ultrabook   13.30   \n",
              "1          2   Apple  Macbook Air  Ultrabook   13.30   \n",
              "2          3      HP       250 G6   Notebook   15.60   \n",
              "3          4   Apple  MacBook Pro  Ultrabook   15.40   \n",
              "4          5   Apple  MacBook Pro  Ultrabook   13.30   \n",
              "\n",
              "                          Cpu                     Memory  \\\n",
              "0        Intel Core i5 2.3GHz            128GB SSD + NaN   \n",
              "1        Intel Core i5 1.8GHz  128GB Flash Storage + NaN   \n",
              "2  Intel Core i5 7200U 2.5GHz            256GB SSD + NaN   \n",
              "3        Intel Core i7 2.7GHz            512GB SSD + NaN   \n",
              "4        Intel Core i5 3.1GHz            256GB SSD + NaN   \n",
              "\n",
              "                            Gpu  OpSys  Price_euros  RAM_GB  GPU_Nvidia_GTX  \\\n",
              "0  Intel Iris Plus Graphics 640  macOS      1339.69    8.00               0   \n",
              "1        Intel HD Graphics 6000  macOS       898.94    8.00               0   \n",
              "2         Intel HD Graphics 620  No OS       575.00    8.00               0   \n",
              "3            AMD Radeon Pro 455  macOS      2537.45   16.00               0   \n",
              "4  Intel Iris Plus Graphics 650  macOS      1803.60    8.00               0   \n",
              "\n",
              "   Weight_kg     OS     ScrRes  ScrRes_C1 CPU_mnfc  CPU_speed  \\\n",
              "0       1.37  MacOS  2560x1600    2560.00    Intel       2.30   \n",
              "1       1.34  MacOS   1440x900    1440.00    Intel       1.80   \n",
              "2       1.86     NA  1920x1080    1920.00    Intel       2.50   \n",
              "3       1.83  MacOS  2880x1800    2880.00    Intel       2.70   \n",
              "4       1.37  MacOS  2560x1600    2560.00    Intel       3.10   \n",
              "\n",
              "              Storage1 Storage2 Storage1_Type  Storage1_Volume Storage2_Type  \\\n",
              "0            128GB SSD      NaN           SSD           128.00           NaN   \n",
              "1  128GB Flash Storage      NaN         Flash           128.00           NaN   \n",
              "2            256GB SSD      NaN           SSD           256.00           NaN   \n",
              "3            512GB SSD      NaN           SSD           512.00           NaN   \n",
              "4            256GB SSD      NaN           SSD           256.00           NaN   \n",
              "\n",
              "   Storage2_Volume  \n",
              "0              NaN  \n",
              "1              NaN  \n",
              "2              NaN  \n",
              "3              NaN  \n",
              "4              NaN  "
            ]
          },
          "execution_count": 60,
          "metadata": {},
          "output_type": "execute_result"
        },
        {
          "data": {
            "application/javascript": [
              "\n",
              "            setTimeout(function() {\n",
              "                var nbb_cell_id = 60;\n",
              "                var nbb_unformatted_code = \"df1[\\\"Storage1_Volume\\\"] = df1[\\\"Storage1_Volume\\\"].apply(storage_volume_to_num)\\ndf1[\\\"Storage2_Volume\\\"] = df1[\\\"Storage2_Volume\\\"].apply(storage_volume_to_num)\\n\\ndf1.head()\";\n",
              "                var nbb_formatted_code = \"df1[\\\"Storage1_Volume\\\"] = df1[\\\"Storage1_Volume\\\"].apply(storage_volume_to_num)\\ndf1[\\\"Storage2_Volume\\\"] = df1[\\\"Storage2_Volume\\\"].apply(storage_volume_to_num)\\n\\ndf1.head()\";\n",
              "                var nbb_cells = Jupyter.notebook.get_cells();\n",
              "                for (var i = 0; i < nbb_cells.length; ++i) {\n",
              "                    if (nbb_cells[i].input_prompt_number == nbb_cell_id) {\n",
              "                        if (nbb_cells[i].get_text() == nbb_unformatted_code) {\n",
              "                             nbb_cells[i].set_text(nbb_formatted_code);\n",
              "                        }\n",
              "                        break;\n",
              "                    }\n",
              "                }\n",
              "            }, 500);\n",
              "            "
            ],
            "text/plain": [
              "<IPython.core.display.Javascript object>"
            ]
          },
          "metadata": {},
          "output_type": "display_data"
        }
      ],
      "source": [
        "df1[\"Storage1_Volume\"] = df1[\"Storage1_Volume\"].apply(storage_volume_to_num)\n",
        "df1[\"Storage2_Volume\"] = df1[\"Storage2_Volume\"].apply(storage_volume_to_num)\n",
        "\n",
        "df1.head()"
      ]
    },
    {
      "cell_type": "code",
      "execution_count": null,
      "id": "d7285ff2",
      "metadata": {
        "id": "d7285ff2",
        "outputId": "dc1da424-2a76-4a1a-ca1f-b6dfd88f2698"
      },
      "outputs": [
        {
          "data": {
            "text/html": [
              "<div>\n",
              "<style scoped>\n",
              "    .dataframe tbody tr th:only-of-type {\n",
              "        vertical-align: middle;\n",
              "    }\n",
              "\n",
              "    .dataframe tbody tr th {\n",
              "        vertical-align: top;\n",
              "    }\n",
              "\n",
              "    .dataframe thead th {\n",
              "        text-align: right;\n",
              "    }\n",
              "</style>\n",
              "<table border=\"1\" class=\"dataframe\">\n",
              "  <thead>\n",
              "    <tr style=\"text-align: right;\">\n",
              "      <th></th>\n",
              "      <th>laptop_ID</th>\n",
              "      <th>Company</th>\n",
              "      <th>Product</th>\n",
              "      <th>TypeName</th>\n",
              "      <th>Inches</th>\n",
              "      <th>Cpu</th>\n",
              "      <th>Memory</th>\n",
              "      <th>Gpu</th>\n",
              "      <th>OpSys</th>\n",
              "      <th>Price_euros</th>\n",
              "      <th>RAM_GB</th>\n",
              "      <th>GPU_Nvidia_GTX</th>\n",
              "      <th>Weight_kg</th>\n",
              "      <th>OS</th>\n",
              "      <th>ScrRes</th>\n",
              "      <th>ScrRes_C1</th>\n",
              "      <th>CPU_mnfc</th>\n",
              "      <th>CPU_speed</th>\n",
              "      <th>Storage1</th>\n",
              "      <th>Storage2</th>\n",
              "      <th>Storage1_Type</th>\n",
              "      <th>Storage1_Volume</th>\n",
              "      <th>Storage2_Type</th>\n",
              "      <th>Storage2_Volume</th>\n",
              "    </tr>\n",
              "  </thead>\n",
              "  <tbody>\n",
              "    <tr>\n",
              "      <th>248</th>\n",
              "      <td>253</td>\n",
              "      <td>HP</td>\n",
              "      <td>ProBook 430</td>\n",
              "      <td>Notebook</td>\n",
              "      <td>13.30</td>\n",
              "      <td>Intel Core i5 8250U 1.6GHz</td>\n",
              "      <td>500GB HDD + NaN</td>\n",
              "      <td>Intel UHD Graphics 620</td>\n",
              "      <td>Windows 10</td>\n",
              "      <td>675.00</td>\n",
              "      <td>4.00</td>\n",
              "      <td>0</td>\n",
              "      <td>1.49</td>\n",
              "      <td>Windows</td>\n",
              "      <td>1920x1080</td>\n",
              "      <td>1920.00</td>\n",
              "      <td>Intel</td>\n",
              "      <td>1.60</td>\n",
              "      <td>500GB HDD</td>\n",
              "      <td>NaN</td>\n",
              "      <td>HDD</td>\n",
              "      <td>500.00</td>\n",
              "      <td>NaN</td>\n",
              "      <td>NaN</td>\n",
              "    </tr>\n",
              "    <tr>\n",
              "      <th>556</th>\n",
              "      <td>563</td>\n",
              "      <td>Mediacom</td>\n",
              "      <td>SmartBook 130</td>\n",
              "      <td>Notebook</td>\n",
              "      <td>13.30</td>\n",
              "      <td>Intel Atom x5-Z8350 1.44GHz</td>\n",
              "      <td>32GB Flash Storage + NaN</td>\n",
              "      <td>Intel HD Graphics</td>\n",
              "      <td>Windows 10</td>\n",
              "      <td>255.00</td>\n",
              "      <td>4.00</td>\n",
              "      <td>0</td>\n",
              "      <td>1.35</td>\n",
              "      <td>Windows</td>\n",
              "      <td>1920x1080</td>\n",
              "      <td>1920.00</td>\n",
              "      <td>Intel</td>\n",
              "      <td>1.44</td>\n",
              "      <td>32GB Flash Storage</td>\n",
              "      <td>NaN</td>\n",
              "      <td>Flash</td>\n",
              "      <td>32.00</td>\n",
              "      <td>NaN</td>\n",
              "      <td>NaN</td>\n",
              "    </tr>\n",
              "    <tr>\n",
              "      <th>693</th>\n",
              "      <td>701</td>\n",
              "      <td>Lenovo</td>\n",
              "      <td>ThinkPad X1</td>\n",
              "      <td>2 in 1 Convertible</td>\n",
              "      <td>14.00</td>\n",
              "      <td>Intel Core i7 7500U 2.7GHz</td>\n",
              "      <td>256GB SSD + NaN</td>\n",
              "      <td>Intel HD Graphics 620</td>\n",
              "      <td>Windows 10</td>\n",
              "      <td>2590.00</td>\n",
              "      <td>8.00</td>\n",
              "      <td>0</td>\n",
              "      <td>1.42</td>\n",
              "      <td>Windows</td>\n",
              "      <td>2560x1440</td>\n",
              "      <td>2560.00</td>\n",
              "      <td>Intel</td>\n",
              "      <td>2.70</td>\n",
              "      <td>256GB SSD</td>\n",
              "      <td>NaN</td>\n",
              "      <td>SSD</td>\n",
              "      <td>256.00</td>\n",
              "      <td>NaN</td>\n",
              "      <td>NaN</td>\n",
              "    </tr>\n",
              "    <tr>\n",
              "      <th>387</th>\n",
              "      <td>393</td>\n",
              "      <td>Dell</td>\n",
              "      <td>Precision 3510</td>\n",
              "      <td>Workstation</td>\n",
              "      <td>15.60</td>\n",
              "      <td>Intel Core i5 6440HQ 2.6GHz</td>\n",
              "      <td>500GB HDD + NaN</td>\n",
              "      <td>AMD FirePro W5130M</td>\n",
              "      <td>Windows 10</td>\n",
              "      <td>1369.00</td>\n",
              "      <td>8.00</td>\n",
              "      <td>0</td>\n",
              "      <td>2.23</td>\n",
              "      <td>Windows</td>\n",
              "      <td>1920x1080</td>\n",
              "      <td>1920.00</td>\n",
              "      <td>Intel</td>\n",
              "      <td>2.60</td>\n",
              "      <td>500GB HDD</td>\n",
              "      <td>NaN</td>\n",
              "      <td>HDD</td>\n",
              "      <td>500.00</td>\n",
              "      <td>NaN</td>\n",
              "      <td>NaN</td>\n",
              "    </tr>\n",
              "    <tr>\n",
              "      <th>781</th>\n",
              "      <td>790</td>\n",
              "      <td>Asus</td>\n",
              "      <td>Rog G752VS-BA171T</td>\n",
              "      <td>Gaming</td>\n",
              "      <td>17.30</td>\n",
              "      <td>Intel Core i7 6700HQ 2.6GHz</td>\n",
              "      <td>256GB SSD +  1TB HDD</td>\n",
              "      <td>Nvidia GeForce GTX 1070</td>\n",
              "      <td>Windows 10</td>\n",
              "      <td>2350.00</td>\n",
              "      <td>16.00</td>\n",
              "      <td>1</td>\n",
              "      <td>4.30</td>\n",
              "      <td>Windows</td>\n",
              "      <td>1920x1080</td>\n",
              "      <td>1920.00</td>\n",
              "      <td>Intel</td>\n",
              "      <td>2.60</td>\n",
              "      <td>256GB SSD</td>\n",
              "      <td>1TB HDD</td>\n",
              "      <td>SSD</td>\n",
              "      <td>256.00</td>\n",
              "      <td>HDD</td>\n",
              "      <td>1024.00</td>\n",
              "    </tr>\n",
              "    <tr>\n",
              "      <th>379</th>\n",
              "      <td>385</td>\n",
              "      <td>Acer</td>\n",
              "      <td>Aspire 7</td>\n",
              "      <td>Notebook</td>\n",
              "      <td>15.60</td>\n",
              "      <td>Intel Core i7 7700HQ 2.8GHz</td>\n",
              "      <td>1TB HDD + NaN</td>\n",
              "      <td>Nvidia GeForce GTX 1050</td>\n",
              "      <td>Linux</td>\n",
              "      <td>846.00</td>\n",
              "      <td>8.00</td>\n",
              "      <td>1</td>\n",
              "      <td>2.40</td>\n",
              "      <td>Linux</td>\n",
              "      <td>1920x1080</td>\n",
              "      <td>1920.00</td>\n",
              "      <td>Intel</td>\n",
              "      <td>2.80</td>\n",
              "      <td>1TB HDD</td>\n",
              "      <td>NaN</td>\n",
              "      <td>HDD</td>\n",
              "      <td>1024.00</td>\n",
              "      <td>NaN</td>\n",
              "      <td>NaN</td>\n",
              "    </tr>\n",
              "    <tr>\n",
              "      <th>716</th>\n",
              "      <td>724</td>\n",
              "      <td>Dell</td>\n",
              "      <td>Latitude 5580</td>\n",
              "      <td>Notebook</td>\n",
              "      <td>15.60</td>\n",
              "      <td>Intel Core i5 7300U 2.6GHz</td>\n",
              "      <td>256GB SSD + NaN</td>\n",
              "      <td>Intel HD Graphics 620</td>\n",
              "      <td>Windows 10</td>\n",
              "      <td>1179.00</td>\n",
              "      <td>8.00</td>\n",
              "      <td>0</td>\n",
              "      <td>1.90</td>\n",
              "      <td>Windows</td>\n",
              "      <td>1920x1080</td>\n",
              "      <td>1920.00</td>\n",
              "      <td>Intel</td>\n",
              "      <td>2.60</td>\n",
              "      <td>256GB SSD</td>\n",
              "      <td>NaN</td>\n",
              "      <td>SSD</td>\n",
              "      <td>256.00</td>\n",
              "      <td>NaN</td>\n",
              "      <td>NaN</td>\n",
              "    </tr>\n",
              "    <tr>\n",
              "      <th>880</th>\n",
              "      <td>891</td>\n",
              "      <td>HP</td>\n",
              "      <td>EliteBook x360</td>\n",
              "      <td>2 in 1 Convertible</td>\n",
              "      <td>13.30</td>\n",
              "      <td>Intel Core i5 7200U 2.5GHz</td>\n",
              "      <td>256GB SSD + NaN</td>\n",
              "      <td>Intel HD Graphics 620</td>\n",
              "      <td>Windows 10</td>\n",
              "      <td>1700.00</td>\n",
              "      <td>4.00</td>\n",
              "      <td>0</td>\n",
              "      <td>1.28</td>\n",
              "      <td>Windows</td>\n",
              "      <td>1920x1080</td>\n",
              "      <td>1920.00</td>\n",
              "      <td>Intel</td>\n",
              "      <td>2.50</td>\n",
              "      <td>256GB SSD</td>\n",
              "      <td>NaN</td>\n",
              "      <td>SSD</td>\n",
              "      <td>256.00</td>\n",
              "      <td>NaN</td>\n",
              "      <td>NaN</td>\n",
              "    </tr>\n",
              "    <tr>\n",
              "      <th>654</th>\n",
              "      <td>662</td>\n",
              "      <td>HP</td>\n",
              "      <td>250 G6</td>\n",
              "      <td>Notebook</td>\n",
              "      <td>15.60</td>\n",
              "      <td>Intel Core i3 6006U 2GHz</td>\n",
              "      <td>500GB HDD + NaN</td>\n",
              "      <td>Intel HD Graphics 520</td>\n",
              "      <td>No OS</td>\n",
              "      <td>364.90</td>\n",
              "      <td>4.00</td>\n",
              "      <td>0</td>\n",
              "      <td>1.86</td>\n",
              "      <td>NA</td>\n",
              "      <td>1366x768</td>\n",
              "      <td>1366.00</td>\n",
              "      <td>Intel</td>\n",
              "      <td>2.00</td>\n",
              "      <td>500GB HDD</td>\n",
              "      <td>NaN</td>\n",
              "      <td>HDD</td>\n",
              "      <td>500.00</td>\n",
              "      <td>NaN</td>\n",
              "      <td>NaN</td>\n",
              "    </tr>\n",
              "    <tr>\n",
              "      <th>994</th>\n",
              "      <td>1008</td>\n",
              "      <td>Dell</td>\n",
              "      <td>Inspiron 5378</td>\n",
              "      <td>2 in 1 Convertible</td>\n",
              "      <td>13.30</td>\n",
              "      <td>Intel Core i5 7200U 2.5GHz</td>\n",
              "      <td>256GB SSD + NaN</td>\n",
              "      <td>Intel HD Graphics 620</td>\n",
              "      <td>Windows 10</td>\n",
              "      <td>889.00</td>\n",
              "      <td>8.00</td>\n",
              "      <td>0</td>\n",
              "      <td>1.68</td>\n",
              "      <td>Windows</td>\n",
              "      <td>1920x1080</td>\n",
              "      <td>1920.00</td>\n",
              "      <td>Intel</td>\n",
              "      <td>2.50</td>\n",
              "      <td>256GB SSD</td>\n",
              "      <td>NaN</td>\n",
              "      <td>SSD</td>\n",
              "      <td>256.00</td>\n",
              "      <td>NaN</td>\n",
              "      <td>NaN</td>\n",
              "    </tr>\n",
              "  </tbody>\n",
              "</table>\n",
              "</div>"
            ],
            "text/plain": [
              "     laptop_ID   Company            Product            TypeName  Inches  \\\n",
              "248        253        HP        ProBook 430            Notebook   13.30   \n",
              "556        563  Mediacom      SmartBook 130            Notebook   13.30   \n",
              "693        701    Lenovo        ThinkPad X1  2 in 1 Convertible   14.00   \n",
              "387        393      Dell     Precision 3510         Workstation   15.60   \n",
              "781        790      Asus  Rog G752VS-BA171T              Gaming   17.30   \n",
              "379        385      Acer           Aspire 7            Notebook   15.60   \n",
              "716        724      Dell      Latitude 5580            Notebook   15.60   \n",
              "880        891        HP     EliteBook x360  2 in 1 Convertible   13.30   \n",
              "654        662        HP             250 G6            Notebook   15.60   \n",
              "994       1008      Dell      Inspiron 5378  2 in 1 Convertible   13.30   \n",
              "\n",
              "                             Cpu                    Memory  \\\n",
              "248   Intel Core i5 8250U 1.6GHz           500GB HDD + NaN   \n",
              "556  Intel Atom x5-Z8350 1.44GHz  32GB Flash Storage + NaN   \n",
              "693   Intel Core i7 7500U 2.7GHz           256GB SSD + NaN   \n",
              "387  Intel Core i5 6440HQ 2.6GHz           500GB HDD + NaN   \n",
              "781  Intel Core i7 6700HQ 2.6GHz      256GB SSD +  1TB HDD   \n",
              "379  Intel Core i7 7700HQ 2.8GHz             1TB HDD + NaN   \n",
              "716   Intel Core i5 7300U 2.6GHz           256GB SSD + NaN   \n",
              "880   Intel Core i5 7200U 2.5GHz           256GB SSD + NaN   \n",
              "654     Intel Core i3 6006U 2GHz           500GB HDD + NaN   \n",
              "994   Intel Core i5 7200U 2.5GHz           256GB SSD + NaN   \n",
              "\n",
              "                         Gpu       OpSys  Price_euros  RAM_GB  GPU_Nvidia_GTX  \\\n",
              "248   Intel UHD Graphics 620  Windows 10       675.00    4.00               0   \n",
              "556        Intel HD Graphics  Windows 10       255.00    4.00               0   \n",
              "693    Intel HD Graphics 620  Windows 10      2590.00    8.00               0   \n",
              "387       AMD FirePro W5130M  Windows 10      1369.00    8.00               0   \n",
              "781  Nvidia GeForce GTX 1070  Windows 10      2350.00   16.00               1   \n",
              "379  Nvidia GeForce GTX 1050       Linux       846.00    8.00               1   \n",
              "716    Intel HD Graphics 620  Windows 10      1179.00    8.00               0   \n",
              "880    Intel HD Graphics 620  Windows 10      1700.00    4.00               0   \n",
              "654    Intel HD Graphics 520       No OS       364.90    4.00               0   \n",
              "994    Intel HD Graphics 620  Windows 10       889.00    8.00               0   \n",
              "\n",
              "     Weight_kg       OS     ScrRes  ScrRes_C1 CPU_mnfc  CPU_speed  \\\n",
              "248       1.49  Windows  1920x1080    1920.00    Intel       1.60   \n",
              "556       1.35  Windows  1920x1080    1920.00    Intel       1.44   \n",
              "693       1.42  Windows  2560x1440    2560.00    Intel       2.70   \n",
              "387       2.23  Windows  1920x1080    1920.00    Intel       2.60   \n",
              "781       4.30  Windows  1920x1080    1920.00    Intel       2.60   \n",
              "379       2.40    Linux  1920x1080    1920.00    Intel       2.80   \n",
              "716       1.90  Windows  1920x1080    1920.00    Intel       2.60   \n",
              "880       1.28  Windows  1920x1080    1920.00    Intel       2.50   \n",
              "654       1.86       NA   1366x768    1366.00    Intel       2.00   \n",
              "994       1.68  Windows  1920x1080    1920.00    Intel       2.50   \n",
              "\n",
              "               Storage1 Storage2 Storage1_Type  Storage1_Volume Storage2_Type  \\\n",
              "248           500GB HDD      NaN           HDD           500.00           NaN   \n",
              "556  32GB Flash Storage      NaN         Flash            32.00           NaN   \n",
              "693           256GB SSD      NaN           SSD           256.00           NaN   \n",
              "387           500GB HDD      NaN           HDD           500.00           NaN   \n",
              "781           256GB SSD  1TB HDD           SSD           256.00           HDD   \n",
              "379             1TB HDD      NaN           HDD          1024.00           NaN   \n",
              "716           256GB SSD      NaN           SSD           256.00           NaN   \n",
              "880           256GB SSD      NaN           SSD           256.00           NaN   \n",
              "654           500GB HDD      NaN           HDD           500.00           NaN   \n",
              "994           256GB SSD      NaN           SSD           256.00           NaN   \n",
              "\n",
              "     Storage2_Volume  \n",
              "248              NaN  \n",
              "556              NaN  \n",
              "693              NaN  \n",
              "387              NaN  \n",
              "781          1024.00  \n",
              "379              NaN  \n",
              "716              NaN  \n",
              "880              NaN  \n",
              "654              NaN  \n",
              "994              NaN  "
            ]
          },
          "execution_count": 61,
          "metadata": {},
          "output_type": "execute_result"
        },
        {
          "data": {
            "application/javascript": [
              "\n",
              "            setTimeout(function() {\n",
              "                var nbb_cell_id = 61;\n",
              "                var nbb_unformatted_code = \"np.random.seed(2)\\ndf1.sample(10)\";\n",
              "                var nbb_formatted_code = \"np.random.seed(2)\\ndf1.sample(10)\";\n",
              "                var nbb_cells = Jupyter.notebook.get_cells();\n",
              "                for (var i = 0; i < nbb_cells.length; ++i) {\n",
              "                    if (nbb_cells[i].input_prompt_number == nbb_cell_id) {\n",
              "                        if (nbb_cells[i].get_text() == nbb_unformatted_code) {\n",
              "                             nbb_cells[i].set_text(nbb_formatted_code);\n",
              "                        }\n",
              "                        break;\n",
              "                    }\n",
              "                }\n",
              "            }, 500);\n",
              "            "
            ],
            "text/plain": [
              "<IPython.core.display.Javascript object>"
            ]
          },
          "metadata": {},
          "output_type": "display_data"
        }
      ],
      "source": [
        "np.random.seed(2)\n",
        "df1.sample(10)"
      ]
    },
    {
      "cell_type": "code",
      "execution_count": null,
      "id": "ed34bdc0",
      "metadata": {
        "id": "ed34bdc0",
        "outputId": "bacaa465-ebd6-46ae-81b7-231243edf044"
      },
      "outputs": [
        {
          "data": {
            "text/html": [
              "<div>\n",
              "<style scoped>\n",
              "    .dataframe tbody tr th:only-of-type {\n",
              "        vertical-align: middle;\n",
              "    }\n",
              "\n",
              "    .dataframe tbody tr th {\n",
              "        vertical-align: top;\n",
              "    }\n",
              "\n",
              "    .dataframe thead th {\n",
              "        text-align: right;\n",
              "    }\n",
              "</style>\n",
              "<table border=\"1\" class=\"dataframe\">\n",
              "  <thead>\n",
              "    <tr style=\"text-align: right;\">\n",
              "      <th></th>\n",
              "      <th>Storage1_Volume</th>\n",
              "      <th>Storage2_Volume</th>\n",
              "    </tr>\n",
              "  </thead>\n",
              "  <tbody>\n",
              "    <tr>\n",
              "      <th>count</th>\n",
              "      <td>21.00</td>\n",
              "      <td>0.00</td>\n",
              "    </tr>\n",
              "    <tr>\n",
              "      <th>mean</th>\n",
              "      <td>323.05</td>\n",
              "      <td>NaN</td>\n",
              "    </tr>\n",
              "    <tr>\n",
              "      <th>std</th>\n",
              "      <td>143.79</td>\n",
              "      <td>NaN</td>\n",
              "    </tr>\n",
              "    <tr>\n",
              "      <th>min</th>\n",
              "      <td>128.00</td>\n",
              "      <td>NaN</td>\n",
              "    </tr>\n",
              "    <tr>\n",
              "      <th>25%</th>\n",
              "      <td>256.00</td>\n",
              "      <td>NaN</td>\n",
              "    </tr>\n",
              "    <tr>\n",
              "      <th>50%</th>\n",
              "      <td>256.00</td>\n",
              "      <td>NaN</td>\n",
              "    </tr>\n",
              "    <tr>\n",
              "      <th>75%</th>\n",
              "      <td>512.00</td>\n",
              "      <td>NaN</td>\n",
              "    </tr>\n",
              "    <tr>\n",
              "      <th>max</th>\n",
              "      <td>512.00</td>\n",
              "      <td>NaN</td>\n",
              "    </tr>\n",
              "  </tbody>\n",
              "</table>\n",
              "</div>"
            ],
            "text/plain": [
              "       Storage1_Volume  Storage2_Volume\n",
              "count            21.00             0.00\n",
              "mean            323.05              NaN\n",
              "std             143.79              NaN\n",
              "min             128.00              NaN\n",
              "25%             256.00              NaN\n",
              "50%             256.00              NaN\n",
              "75%             512.00              NaN\n",
              "max             512.00              NaN"
            ]
          },
          "execution_count": 62,
          "metadata": {},
          "output_type": "execute_result"
        },
        {
          "data": {
            "application/javascript": [
              "\n",
              "            setTimeout(function() {\n",
              "                var nbb_cell_id = 62;\n",
              "                var nbb_unformatted_code = \"df_apple = df1[df1.Company == \\\"Apple\\\"]\\ndf_apple[[\\\"Storage1_Volume\\\", \\\"Storage2_Volume\\\"]].describe()\";\n",
              "                var nbb_formatted_code = \"df_apple = df1[df1.Company == \\\"Apple\\\"]\\ndf_apple[[\\\"Storage1_Volume\\\", \\\"Storage2_Volume\\\"]].describe()\";\n",
              "                var nbb_cells = Jupyter.notebook.get_cells();\n",
              "                for (var i = 0; i < nbb_cells.length; ++i) {\n",
              "                    if (nbb_cells[i].input_prompt_number == nbb_cell_id) {\n",
              "                        if (nbb_cells[i].get_text() == nbb_unformatted_code) {\n",
              "                             nbb_cells[i].set_text(nbb_formatted_code);\n",
              "                        }\n",
              "                        break;\n",
              "                    }\n",
              "                }\n",
              "            }, 500);\n",
              "            "
            ],
            "text/plain": [
              "<IPython.core.display.Javascript object>"
            ]
          },
          "metadata": {},
          "output_type": "display_data"
        }
      ],
      "source": [
        "df_apple = df1[df1.Company == \"Apple\"]\n",
        "df_apple[[\"Storage1_Volume\", \"Storage2_Volume\"]].describe()"
      ]
    },
    {
      "cell_type": "code",
      "execution_count": null,
      "id": "944ed620",
      "metadata": {
        "id": "944ed620",
        "outputId": "cf93b4be-b455-440f-dc61-c46b0e9ec750"
      },
      "outputs": [
        {
          "data": {
            "text/plain": [
              "SSD      11\n",
              "Flash    10\n",
              "Name: Storage1_Type, dtype: int64"
            ]
          },
          "execution_count": 63,
          "metadata": {},
          "output_type": "execute_result"
        },
        {
          "data": {
            "application/javascript": [
              "\n",
              "            setTimeout(function() {\n",
              "                var nbb_cell_id = 63;\n",
              "                var nbb_unformatted_code = \"df_apple[\\\"Storage1_Type\\\"].value_counts()\";\n",
              "                var nbb_formatted_code = \"df_apple[\\\"Storage1_Type\\\"].value_counts()\";\n",
              "                var nbb_cells = Jupyter.notebook.get_cells();\n",
              "                for (var i = 0; i < nbb_cells.length; ++i) {\n",
              "                    if (nbb_cells[i].input_prompt_number == nbb_cell_id) {\n",
              "                        if (nbb_cells[i].get_text() == nbb_unformatted_code) {\n",
              "                             nbb_cells[i].set_text(nbb_formatted_code);\n",
              "                        }\n",
              "                        break;\n",
              "                    }\n",
              "                }\n",
              "            }, 500);\n",
              "            "
            ],
            "text/plain": [
              "<IPython.core.display.Javascript object>"
            ]
          },
          "metadata": {},
          "output_type": "display_data"
        }
      ],
      "source": [
        "df_apple[\"Storage1_Type\"].value_counts()"
      ]
    },
    {
      "cell_type": "markdown",
      "id": "c055e644",
      "metadata": {
        "id": "c055e644"
      },
      "source": [
        "**Observations**\n",
        "\n",
        "- Apple provides both SSD as well as Flash storage. \n",
        "- The median storage memory is 256GB"
      ]
    },
    {
      "cell_type": "markdown",
      "source": [
        "**Conclusions**\n",
        "- As a gamer, I can use the information derived from projects like these in order to make decisions on my purchases\n",
        "- Companies can use the information from data anlaysis like this to speed up the decision making process of possible customers\n",
        "- I recently built my own PC and used AMD processors because of this project and other research"
      ],
      "metadata": {
        "id": "bErt6bxpfY64"
      },
      "id": "bErt6bxpfY64"
    }
  ],
  "metadata": {
    "kernelspec": {
      "display_name": "Python 3",
      "language": "python",
      "name": "python3"
    },
    "language_info": {
      "codemirror_mode": {
        "name": "ipython",
        "version": 3
      },
      "file_extension": ".py",
      "mimetype": "text/x-python",
      "name": "python",
      "nbconvert_exporter": "python",
      "pygments_lexer": "ipython3",
      "version": "3.8.8"
    },
    "colab": {
      "provenance": [],
      "collapsed_sections": []
    }
  },
  "nbformat": 4,
  "nbformat_minor": 5
}